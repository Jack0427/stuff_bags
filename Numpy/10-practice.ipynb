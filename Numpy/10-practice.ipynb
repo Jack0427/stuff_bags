{
 "metadata": {
  "language_info": {
   "codemirror_mode": {
    "name": "ipython",
    "version": 3
   },
   "file_extension": ".py",
   "mimetype": "text/x-python",
   "name": "python",
   "nbconvert_exporter": "python",
   "pygments_lexer": "ipython3",
   "version": "3.8.5"
  },
  "orig_nbformat": 4,
  "kernelspec": {
   "name": "python3",
   "display_name": "Python 3.8.5 64-bit"
  },
  "interpreter": {
   "hash": "4eaf1be304415beee96765ae99c3f893cc8312c7f1196698e6029668e9aeb3e5"
  }
 },
 "nbformat": 4,
 "nbformat_minor": 2,
 "cells": [
  {
   "cell_type": "code",
   "execution_count": 1,
   "metadata": {},
   "outputs": [],
   "source": [
    "import numpy as np"
   ]
  },
  {
   "cell_type": "code",
   "execution_count": 2,
   "metadata": {},
   "outputs": [
    {
     "output_type": "stream",
     "name": "stdout",
     "text": [
      "1.21.0\n"
     ]
    }
   ],
   "source": [
    "print(np.__version__) # numpy version"
   ]
  },
  {
   "cell_type": "code",
   "execution_count": 24,
   "metadata": {},
   "outputs": [
    {
     "output_type": "stream",
     "name": "stdout",
     "text": [
      "[[0. 0.]\n [0. 0.]\n [0. 0.]] 48\n"
     ]
    }
   ],
   "source": [
    "empty_array = np.empty((3,2)) # 全零矩陣 and 內存大小\n",
    "print(empty_array,empty_array.size * empty_array.itemsize)"
   ]
  },
  {
   "cell_type": "code",
   "execution_count": 25,
   "metadata": {
    "tags": []
   },
   "outputs": [
    {
     "output_type": "stream",
     "name": "stdout",
     "text": [
      "add(x1, x2, /, out=None, *, where=True, casting='same_kind', order='K', dtype=None, subok=True[, signature, extobj])\n\nAdd arguments element-wise.\n\nParameters\n----------\nx1, x2 : array_like\n    The arrays to be added.\n    If ``x1.shape != x2.shape``, they must be broadcastable to a common\n    shape (which becomes the shape of the output).\nout : ndarray, None, or tuple of ndarray and None, optional\n    A location into which the result is stored. If provided, it must have\n    a shape that the inputs broadcast to. If not provided or None,\n    a freshly-allocated array is returned. A tuple (possible only as a\n    keyword argument) must have length equal to the number of outputs.\nwhere : array_like, optional\n    This condition is broadcast over the input. At locations where the\n    condition is True, the `out` array will be set to the ufunc result.\n    Elsewhere, the `out` array will retain its original value.\n    Note that if an uninitialized `out` array is created via the default\n    ``out=None``, locations within it where the condition is False will\n    remain uninitialized.\n**kwargs\n    For other keyword-only arguments, see the\n    :ref:`ufunc docs <ufuncs.kwargs>`.\n\nReturns\n-------\nadd : ndarray or scalar\n    The sum of `x1` and `x2`, element-wise.\n    This is a scalar if both `x1` and `x2` are scalars.\n\nNotes\n-----\nEquivalent to `x1` + `x2` in terms of array broadcasting.\n\nExamples\n--------\n>>> np.add(1.0, 4.0)\n5.0\n>>> x1 = np.arange(9.0).reshape((3, 3))\n>>> x2 = np.arange(3.0)\n>>> np.add(x1, x2)\narray([[  0.,   2.,   4.],\n       [  3.,   5.,   7.],\n       [  6.,   8.,  10.]])\n\nThe ``+`` operator can be used as a shorthand for ``np.add`` on ndarrays.\n\n>>> x1 = np.arange(9.0).reshape((3, 3))\n>>> x2 = np.arange(3.0)\n>>> x1 + x2\narray([[ 0.,  2.,  4.],\n       [ 3.,  5.,  7.],\n       [ 6.,  8., 10.]])\nHelp on NoneType object:\n\nclass NoneType(object)\n |  Methods defined here:\n |  \n |  __bool__(self, /)\n |      self != 0\n |  \n |  __repr__(self, /)\n |      Return repr(self).\n |  \n |  ----------------------------------------------------------------------\n |  Static methods defined here:\n |  \n |  __new__(*args, **kwargs) from builtins.type\n |      Create and return a new object.  See help(type) for accurate signature.\n\n"
     ]
    }
   ],
   "source": [
    "help(np.info(np.add)) # 函數幫助文黨"
   ]
  },
  {
   "cell_type": "code",
   "execution_count": 11,
   "metadata": {},
   "outputs": [
    {
     "output_type": "stream",
     "name": "stdout",
     "text": [
      "[49 48 47 46 45 44 43 42 41 40 39 38 37 36 35 34 33 32 31 30 29 28 27 26\n 25 24 23 22 21 20 19 18 17 16 15 14 13 12 11 10]\n"
     ]
    }
   ],
   "source": [
    "array1 = np.arange(10,50) # reverse\n",
    "print(array1[::-1])"
   ]
  },
  {
   "cell_type": "code",
   "execution_count": 29,
   "metadata": {},
   "outputs": [
    {
     "output_type": "stream",
     "name": "stdout",
     "text": [
      "(array([0, 0, 0, 0, 1, 1, 1, 1], dtype=int64), array([0, 1, 3, 4, 0, 1, 3, 4], dtype=int64))\n(array([0, 0, 0, 0, 1, 1, 1, 1], dtype=int64), array([0, 1, 3, 4, 0, 1, 3, 4], dtype=int64))\n"
     ]
    }
   ],
   "source": [
    "array2 = np.array([[2,5,0,3,5,0],[2,5,0,3,5,0]])\n",
    "print(np.where(array2 != 0)) # find index in conditions(val != 0)\n",
    "print(np.nonzero(array2)) "
   ]
  },
  {
   "cell_type": "code",
   "execution_count": 19,
   "metadata": {},
   "outputs": [
    {
     "output_type": "stream",
     "name": "stdout",
     "text": [
      "[[ 4  8  5]\n [10  6  1]\n [ 8 10  3]] 10 1\n"
     ]
    }
   ],
   "source": [
    "array3 = np.random.randint(1,11,size=(3,3)) # 隨機構造矩陣\n",
    "print(array3,array3.max(),array3.min())"
   ]
  },
  {
   "cell_type": "code",
   "execution_count": 34,
   "metadata": {},
   "outputs": [
    {
     "output_type": "stream",
     "name": "stdout",
     "text": [
      "[[0. 0. 0. 0. 0. 0. 0. 0. 0.]\n [0. 0. 0. 0. 0. 0. 0. 0. 0.]\n [0. 0. 1. 1. 1. 1. 1. 0. 0.]\n [0. 0. 1. 1. 1. 1. 1. 0. 0.]\n [0. 0. 1. 1. 1. 1. 1. 0. 0.]\n [0. 0. 1. 1. 1. 1. 1. 0. 0.]\n [0. 0. 1. 1. 1. 1. 1. 0. 0.]\n [0. 0. 0. 0. 0. 0. 0. 0. 0.]\n [0. 0. 0. 0. 0. 0. 0. 0. 0.]]\n"
     ]
    }
   ],
   "source": [
    "array4 = np.ones((5,5)) # 5*5 最外層0 內層1\n",
    "# array4[0,0:] = 0\n",
    "# array4[0:,0:1] = 0\n",
    "# array4[0:,-1] = 0\n",
    "# array4[-1:,0:] = 0\n",
    "array4 = np.pad(array4,pad_width=2,mode='constant',constant_values = 0)\n",
    "print(array4)"
   ]
  },
  {
   "cell_type": "code",
   "execution_count": 39,
   "metadata": {},
   "outputs": [
    {
     "output_type": "execute_result",
     "data": {
      "text/plain": [
       "(1, 5, 4)"
      ]
     },
     "metadata": {},
     "execution_count": 39
    }
   ],
   "source": [
    "array5 = np.random.randint(1,11,size=(6,7,8)) # 尋找第100個元素的索引\n",
    "np.unravel_index(100,(6,7,8)) # 第幾個元素 矩陣"
   ]
  },
  {
   "cell_type": "code",
   "execution_count": 41,
   "metadata": {},
   "outputs": [
    {
     "output_type": "execute_result",
     "data": {
      "text/plain": [
       "array([[0.11111111, 0.33333333, 0.22222222, 0.66666667, 0.        ],\n",
       "       [0.44444444, 0.44444444, 0.77777778, 0.55555556, 0.33333333],\n",
       "       [1.        , 0.        , 0.22222222, 0.55555556, 0.        ],\n",
       "       [0.        , 0.55555556, 0.77777778, 1.        , 1.        ],\n",
       "       [0.66666667, 0.33333333, 0.22222222, 0.        , 1.        ]])"
      ]
     },
     "metadata": {},
     "execution_count": 41
    }
   ],
   "source": [
    "array6 = np.random.randint(1,11,size=(5,5)) # 規一化 每一個值-最小值/最大值-最小值\n",
    "max_ = array6.max()\n",
    "min_ = array6.min()\n",
    "array6 = (array6-min_) / (max_-min_)\n",
    "array6"
   ]
  },
  {
   "cell_type": "code",
   "execution_count": 51,
   "metadata": {},
   "outputs": [
    {
     "output_type": "stream",
     "name": "stdout",
     "text": [
      "[6 1 4]\n[ 4  8 10]\n[4]\n"
     ]
    }
   ],
   "source": [
    "np.random.seed(0)\n",
    "array7 = np.random.randint(1,11,3) \n",
    "array8 = np.random.randint(1,11,3) \n",
    "print(array7)\n",
    "print(array8)\n",
    "print(np.intersect1d(array7,array8)) # 找出兩array相同的值"
   ]
  },
  {
   "cell_type": "code",
   "execution_count": 54,
   "metadata": {},
   "outputs": [
    {
     "output_type": "stream",
     "name": "stdout",
     "text": [
      "2021-07-15\n2021-07-16\n2021-07-17\n"
     ]
    }
   ],
   "source": [
    "yseterday = np.datetime64('today','D') - np.timedelta64(1,'D') #時間格式 今天 明天 昨天\n",
    "today = np.datetime64('today','D')\n",
    "tommorow = np.datetime64('today','D') + np.timedelta64(1,'D') \n",
    "print(yseterday)\n",
    "print(today)\n",
    "print(tommorow)"
   ]
  },
  {
   "cell_type": "code",
   "execution_count": 55,
   "metadata": {},
   "outputs": [
    {
     "output_type": "execute_result",
     "data": {
      "text/plain": [
       "array(['2017-10-01', '2017-10-02', '2017-10-03', '2017-10-04',\n",
       "       '2017-10-05', '2017-10-06', '2017-10-07', '2017-10-08',\n",
       "       '2017-10-09', '2017-10-10', '2017-10-11', '2017-10-12',\n",
       "       '2017-10-13', '2017-10-14', '2017-10-15', '2017-10-16',\n",
       "       '2017-10-17', '2017-10-18', '2017-10-19', '2017-10-20',\n",
       "       '2017-10-21', '2017-10-22', '2017-10-23', '2017-10-24',\n",
       "       '2017-10-25', '2017-10-26', '2017-10-27', '2017-10-28',\n",
       "       '2017-10-29', '2017-10-30', '2017-10-31'], dtype='datetime64[D]')"
      ]
     },
     "metadata": {},
     "execution_count": 55
    }
   ],
   "source": [
    "# 一個月所有的天\n",
    "np.arange('2017-10','2017-11',dtype='datetime64[D]')"
   ]
  },
  {
   "cell_type": "code",
   "execution_count": 56,
   "metadata": {},
   "outputs": [
    {
     "output_type": "stream",
     "name": "stdout",
     "text": [
      "[5. 7. 6. 5. 4. 6. 4. 8. 9. 3.]\n"
     ]
    }
   ],
   "source": [
    "# 得到一個數的整數部分\n",
    "np.random.seed(0)\n",
    "num = np.random.uniform(0,10,10)\n",
    "print(np.floor(num))"
   ]
  },
  {
   "cell_type": "code",
   "execution_count": 57,
   "metadata": {},
   "outputs": [
    {
     "output_type": "error",
     "ename": "ValueError",
     "evalue": "assignment destination is read-only",
     "traceback": [
      "\u001b[1;31m---------------------------------------------------------------------------\u001b[0m",
      "\u001b[1;31mValueError\u001b[0m                                Traceback (most recent call last)",
      "\u001b[1;32m~\\AppData\\Local\\Temp/ipykernel_23584/241267313.py\u001b[0m in \u001b[0;36m<module>\u001b[1;34m\u001b[0m\n\u001b[0;32m      2\u001b[0m \u001b[0mz\u001b[0m \u001b[1;33m=\u001b[0m \u001b[0mnp\u001b[0m\u001b[1;33m.\u001b[0m\u001b[0mzeros\u001b[0m\u001b[1;33m(\u001b[0m\u001b[1;36m5\u001b[0m\u001b[1;33m)\u001b[0m\u001b[1;33m\u001b[0m\u001b[1;33m\u001b[0m\u001b[0m\n\u001b[0;32m      3\u001b[0m \u001b[0mz\u001b[0m\u001b[1;33m.\u001b[0m\u001b[0mflags\u001b[0m\u001b[1;33m.\u001b[0m\u001b[0mwriteable\u001b[0m \u001b[1;33m=\u001b[0m \u001b[1;32mFalse\u001b[0m\u001b[1;33m\u001b[0m\u001b[1;33m\u001b[0m\u001b[0m\n\u001b[1;32m----> 4\u001b[1;33m \u001b[0mz\u001b[0m\u001b[1;33m.\u001b[0m\u001b[0mfill\u001b[0m\u001b[1;33m(\u001b[0m\u001b[1;36m2\u001b[0m\u001b[1;33m)\u001b[0m\u001b[1;33m\u001b[0m\u001b[1;33m\u001b[0m\u001b[0m\n\u001b[0m",
      "\u001b[1;31mValueError\u001b[0m: assignment destination is read-only"
     ]
    }
   ],
   "source": [
    "# 構造一個數組 讓他不能改變\n",
    "z = np.zeros(5)\n",
    "z.flags.writeable = False\n",
    "z.fill(2)"
   ]
  },
  {
   "cell_type": "code",
   "execution_count": 67,
   "metadata": {},
   "outputs": [
    {
     "output_type": "stream",
     "name": "stdout",
     "text": [
      "[[5 0 3 3 7 9 3 5 2 4 7 6 8 8 1]\n [6 7 7 8 1 5 9 8 9 4 3 0 3 5 0]\n [2 3 8 1 3 3 3 7 0 1 9 9 0 4 7]\n [3 2 7 2 0 0 4 5 5 6 8 4 1 4 9]\n [8 1 1 7 9 9 3 6 7 2 0 3 5 9 4]\n [4 6 4 4 3 4 4 8 4 3 7 5 5 0 1]\n [5 9 3 0 5 0 1 2 4 2 0 3 2 0 7]\n [5 9 0 2 7 2 9 2 3 3 2 3 4 1 2]\n [9 1 4 6 8 2 3 0 0 6 0 6 3 3 8]\n [8 8 2 3 2 0 8 8 3 8 2 8 4 3 0]\n [4 3 6 9 8 0 8 5 9 0 9 6 5 3 1]\n [8 0 4 9 6 5 7 8 8 9 2 8 6 6 9]\n [1 6 8 8 3 2 3 6 3 6 5 7 0 8 4]\n [6 5 8 2 3 9 7 5 3 4 5 3 3 7 9]\n [9 9 7 3 2 3 9 7 7 5 1 2 2 8 1]]\n"
     ]
    }
   ],
   "source": [
    "# part of data or total of data\n",
    "np.random.seed(0)\n",
    "np.set_printoptions(threshold=5) #part 超過5個就省略\n",
    "np.set_printoptions(threshold=sys.maxsize) #total\n",
    "z = np.random.randint(10,size=(15,15))\n",
    "print(z)\n"
   ]
  },
  {
   "cell_type": "code",
   "execution_count": 75,
   "metadata": {},
   "outputs": [
    {
     "output_type": "stream",
     "name": "stdout",
     "text": [
      "[  0   1   2   3   4   5   6   7   8   9  10  11  12  13  14  15  16  17\n  18  19  20  21  22  23  24  25  26  27  28  29  30  31  32  33  34  35\n  36  37  38  39  40  41  42  43  44  45  46  47  48  49  50  51  52  53\n  54  55  56  57  58  59  60  61  62  63  64  65  66  67  68  69  70  71\n  72  73  74  75  76  77  78  79  80  81  82  83  84  85  86  87  88  89\n  90  91  92  93  94  95  96  97  98  99 100]\n17.09865986831315\n17\n"
     ]
    }
   ],
   "source": [
    "# 在一個數組中 找一個最接近一個數的index\n",
    "z = np.arange(101)\n",
    "v = np.random.uniform(0,100)\n",
    "print(z)\n",
    "print(v)\n",
    "index = np.abs(z-v).argmin()\n",
    "print(index)"
   ]
  },
  {
   "cell_type": "code",
   "execution_count": 76,
   "metadata": {},
   "outputs": [
    {
     "output_type": "stream",
     "name": "stdout",
     "text": [
      "int32\nfloat32\n"
     ]
    }
   ],
   "source": [
    "# float32 -> int32\n",
    "z = np.arange(10,dtype=np.int32)\n",
    "print(z.dtype)\n",
    "z = z.astype(np.float32)\n",
    "print(z.dtype)"
   ]
  },
  {
   "cell_type": "code",
   "execution_count": 84,
   "metadata": {},
   "outputs": [
    {
     "output_type": "stream",
     "name": "stdout",
     "text": [
      "[[4 0 6]\n [4 2 4]\n [6 3 3]]\n(0, 0) 4\n(0, 1) 0\n(0, 2) 6\n(1, 0) 4\n(1, 1) 2\n(1, 2) 4\n(2, 0) 6\n(2, 1) 3\n(2, 2) 3\n"
     ]
    }
   ],
   "source": [
    "# array element indax and value\n",
    "z = np.random.randint(9,size=(3,3))\n",
    "print(z)\n",
    "# for index in z:\n",
    "#     print(index)\n",
    "for index,value in np.ndenumerate(z):\n",
    "    print(index,value)"
   ]
  },
  {
   "cell_type": "code",
   "execution_count": 87,
   "metadata": {},
   "outputs": [
    {
     "output_type": "stream",
     "name": "stdout",
     "text": [
      "[[7 2 7]\n [1 6 5]\n [0 0 3]]\n[[0 0 3]\n [7 2 7]\n [1 6 5]]\n"
     ]
    }
   ],
   "source": [
    "# sort by special col\n",
    "z = np.random.randint(0,10,(3,3))\n",
    "print(z)\n",
    "print(z[z[:,1].argsort()])"
   ]
  },
  {
   "cell_type": "code",
   "execution_count": 95,
   "metadata": {},
   "outputs": [
    {
     "output_type": "stream",
     "name": "stdout",
     "text": [
      "[1 2 3 2 1 2 3 5 4 5 2]\n"
     ]
    },
    {
     "output_type": "execute_result",
     "data": {
      "text/plain": [
       "array([0, 2, 4, 2, 1, 2], dtype=int64)"
      ]
     },
     "metadata": {},
     "execution_count": 95
    }
   ],
   "source": [
    "# calculate each number\n",
    "z = np.array([1,2,3,2,1,2,3,5,4,5,2])\n",
    "print(z)\n",
    "np.bincount(z)"
   ]
  },
  {
   "cell_type": "code",
   "execution_count": 100,
   "metadata": {},
   "outputs": [
    {
     "output_type": "stream",
     "name": "stdout",
     "text": [
      "[[[[2 6 1 3 7 0 5 4]\n   [5 5 3 8 0 1 5 4]\n   [1 5 0 6 8 8 6 3]\n   [4 4 3 6 5 9 8 1]]\n\n  [[3 8 1 5 8 0 3 7]\n   [1 7 8 0 7 5 9 9]\n   [6 8 7 5 9 1 0 0]\n   [5 6 3 6 1 7 7 0]]\n\n  [[7 6 0 4 2 7 5 2]\n   [8 5 6 6 4 1 5 4]\n   [5 5 6 3 8 1 4 2]\n   [9 7 4 1 8 2 3 3]]]\n\n\n [[[4 1 6 2 5 4 9 1]\n   [5 9 4 5 7 4 4 2]\n   [2 1 3 0 1 9 1 6]\n   [9 8 6 3 0 7 3 2]]\n\n  [[5 9 7 3 4 7 6 7]\n   [3 6 9 3 7 1 3 7]\n   [8 8 4 5 3 6 9 6]\n   [2 9 3 5 7 9 0 7]]\n\n  [[1 2 5 0 5 8 9 8]\n   [2 5 3 1 7 3 8 5]\n   [5 1 9 7 2 1 0 1]\n   [0 1 1 6 8 8 3 2]]]]\n"
     ]
    },
    {
     "output_type": "execute_result",
     "data": {
      "text/plain": [
       "array([[136, 152, 143],\n",
       "       [133, 178, 127]])"
      ]
     },
     "metadata": {},
     "execution_count": 100
    }
   ],
   "source": [
    "# sum in last 2D array in 4D array\n",
    "z = np.random.randint(0,10,(2,3,4,8))\n",
    "print(z)\n",
    "res = z.sum(axis=(-2,-1))\n",
    "res"
   ]
  },
  {
   "cell_type": "code",
   "execution_count": 103,
   "metadata": {},
   "outputs": [
    {
     "output_type": "stream",
     "name": "stdout",
     "text": [
      "[[ 0  1  2  3  4]\n [ 5  6  7  8  9]\n [10 11 12 13 14]\n [15 16 17 18 19]\n [20 21 22 23 24]]\n"
     ]
    },
    {
     "output_type": "execute_result",
     "data": {
      "text/plain": [
       "array([[15, 16, 17, 18, 19],\n",
       "       [ 5,  6,  7,  8,  9],\n",
       "       [10, 11, 12, 13, 14],\n",
       "       [ 0,  1,  2,  3,  4],\n",
       "       [20, 21, 22, 23, 24]])"
      ]
     },
     "metadata": {},
     "execution_count": 103
    }
   ],
   "source": [
    "# exchange array's row\n",
    "z = np.arange(25).reshape(5,5)\n",
    "print(z)\n",
    "z[[0,3]] = z[[3,0]]\n",
    "z"
   ]
  },
  {
   "cell_type": "code",
   "execution_count": 122,
   "metadata": {},
   "outputs": [
    {
     "output_type": "stream",
     "name": "stdout",
     "text": [
      "[17 17  4 18 17 34  3 29 49 49]\n[0 0 0 1 1 0 0 0 0 0 0 0 0 0 0 0 0 3 1 0 0 0 0 0 0 0 0 0 0 1 0 0 0 0 1 0 0\n 0 0 0 0 0 0 0 0 0 0 0 0 2]\n"
     ]
    },
    {
     "output_type": "execute_result",
     "data": {
      "text/plain": [
       "17"
      ]
     },
     "metadata": {},
     "execution_count": 122
    }
   ],
   "source": [
    "# find max count value in array\n",
    "z = np.random.randint(0,50,10)\n",
    "print(z)\n",
    "print(np.bincount(z)) # 只計算非負整數\n",
    "np.bincount(z).argmax()"
   ]
  },
  {
   "cell_type": "code",
   "execution_count": 107,
   "metadata": {},
   "outputs": [
    {
     "output_type": "stream",
     "name": "stdout",
     "text": [
      "[9997 9999 9998 9996 9995]\n"
     ]
    }
   ],
   "source": [
    "# quickly find top k\n",
    "z = np.arange(10000)\n",
    "np.random.shuffle(z) #洗牌\n",
    "n = 5\n",
    "print(z[np.argpartition(-z,n)[:n]])"
   ]
  },
  {
   "cell_type": "code",
   "execution_count": 124,
   "metadata": {},
   "outputs": [
    {
     "output_type": "stream",
     "name": "stdout",
     "text": [
      "[[0 1 1]\n [1 0 0]\n [0 0 1]\n [1 1 0]\n [1 0 1]\n [1 1 1]\n [1 1 0]\n [0 0 1]\n [0 1 1]\n [0 1 0]]\n[False False False False False  True False False False False]\n"
     ]
    }
   ],
   "source": [
    "# delete same values(same row) in array \n",
    "z = np.random.randint(0,2,(10,3))\n",
    "print(z)\n",
    "e = np.all(z[:,1:] == z[:,:-1],axis=1) #切兩半\n",
    "print(e)\n",
    "# a = np.array([1,2,3,4])\n",
    "# b = np.array([1,2,3,5])\n",
    "# print(np.all(a == b))\n",
    "# print(np.any(a == b))"
   ]
  },
  {
   "cell_type": "code",
   "execution_count": null,
   "metadata": {},
   "outputs": [],
   "source": []
  }
 ]
}