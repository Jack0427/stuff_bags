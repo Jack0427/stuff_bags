{
 "metadata": {
  "language_info": {
   "codemirror_mode": {
    "name": "ipython",
    "version": 3
   },
   "file_extension": ".py",
   "mimetype": "text/x-python",
   "name": "python",
   "nbconvert_exporter": "python",
   "pygments_lexer": "ipython3",
   "version": "3.8.5"
  },
  "orig_nbformat": 4,
  "kernelspec": {
   "name": "python3",
   "display_name": "Python 3.8.5 64-bit"
  },
  "interpreter": {
   "hash": "4eaf1be304415beee96765ae99c3f893cc8312c7f1196698e6029668e9aeb3e5"
  }
 },
 "nbformat": 4,
 "nbformat_minor": 2,
 "cells": [
  {
   "cell_type": "code",
   "execution_count": 1,
   "metadata": {},
   "outputs": [],
   "source": [
    "import numpy as np"
   ]
  },
  {
   "cell_type": "code",
   "execution_count": 11,
   "metadata": {},
   "outputs": [],
   "source": [
    "# np.random.seed(0)\n",
    "# tang_array = np.random.randint(10,size=(2,5))\n",
    "string = '''1 2 3 4 5 \n",
    "6 7 8 9 10'''\n",
    "with open('test.txt',mode='w') as f:\n",
    "    f.write(string)"
   ]
  },
  {
   "cell_type": "code",
   "execution_count": 13,
   "metadata": {},
   "outputs": [
    {
     "output_type": "execute_result",
     "data": {
      "text/plain": [
       "array([[ 1.,  2.,  3.,  4.,  5.],\n",
       "       [ 6.,  7.,  8.,  9., 10.]])"
      ]
     },
     "metadata": {},
     "execution_count": 13
    }
   ],
   "source": [
    "tang_array = []\n",
    "with open('test.txt') as f:\n",
    "    for line in f:\n",
    "        fileds = line.split()\n",
    "        data = [float(i) for i in fileds]\n",
    "        tang_array.append(data)\n",
    "tang_array = np.array(tang_array)\n",
    "tang_array"
   ]
  },
  {
   "cell_type": "code",
   "execution_count": 14,
   "metadata": {},
   "outputs": [
    {
     "output_type": "execute_result",
     "data": {
      "text/plain": [
       "array([[ 1.,  2.,  3.,  4.,  5.],\n",
       "       [ 6.,  7.,  8.,  9., 10.]])"
      ]
     },
     "metadata": {},
     "execution_count": 14
    }
   ],
   "source": [
    "data = np.loadtxt('test.txt')\n",
    "data"
   ]
  },
  {
   "cell_type": "code",
   "execution_count": 15,
   "metadata": {},
   "outputs": [],
   "source": [
    "string = '''1,2,3,4,5\n",
    "6,7,8,9,10'''\n",
    "with open('test2.txt',mode='w') as f:\n",
    "    f.write(string)"
   ]
  },
  {
   "cell_type": "code",
   "execution_count": 17,
   "metadata": {},
   "outputs": [
    {
     "output_type": "execute_result",
     "data": {
      "text/plain": [
       "array([[ 1.,  2.,  3.,  4.,  5.],\n",
       "       [ 6.,  7.,  8.,  9., 10.]])"
      ]
     },
     "metadata": {},
     "execution_count": 17
    }
   ],
   "source": [
    "data = np.loadtxt('test2.txt',delimiter=',') # 分割符\n",
    "data"
   ]
  },
  {
   "cell_type": "code",
   "execution_count": 19,
   "metadata": {},
   "outputs": [],
   "source": [
    "string = '''x,y,z,a,b\n",
    "1,2,3,4,5\n",
    "6,7,8,9,10'''\n",
    "with open('test3.txt',mode='w') as f:\n",
    "    f.write(string)"
   ]
  },
  {
   "cell_type": "code",
   "execution_count": 21,
   "metadata": {},
   "outputs": [
    {
     "output_type": "execute_result",
     "data": {
      "text/plain": [
       "array([[ 1.,  2.,  3.,  4.,  5.],\n",
       "       [ 6.,  7.,  8.,  9., 10.]])"
      ]
     },
     "metadata": {},
     "execution_count": 21
    }
   ],
   "source": [
    "data = np.loadtxt('test3.txt',delimiter=',',skiprows=1) # delete first row\n",
    "data"
   ]
  },
  {
   "cell_type": "code",
   "execution_count": 23,
   "metadata": {},
   "outputs": [
    {
     "output_type": "execute_result",
     "data": {
      "text/plain": [
       "array([[ 2.,  4.,  5.],\n",
       "       [ 7.,  9., 10.],\n",
       "       [ 7.,  6.,  4.],\n",
       "       [ 3.,  8.,  9.],\n",
       "       [ 6.,  7.,  8.]])"
      ]
     },
     "metadata": {},
     "execution_count": 23
    }
   ],
   "source": [
    "string = '''x,y,z,a,b\n",
    "1,2,3,4,5\n",
    "6,7,8,9,10\n",
    "8,7,8,6,4\n",
    "5,3,7,8,9\n",
    "2,6,5,7,8'''\n",
    "with open('test4.txt',mode='w') as f:\n",
    "    f.write(string)\n",
    "data = np.loadtxt('test4.txt',delimiter=',',skiprows=1,usecols=(1,3,4)) # point specific col\n",
    "data"
   ]
  },
  {
   "cell_type": "code",
   "execution_count": 29,
   "metadata": {},
   "outputs": [],
   "source": [
    "tang_array = np.random.randint(10,size=(3,3))\n",
    "np.savetxt('test5.txt',tang_array,fmt=\"%d\",delimiter=',') # fmt:save format %d整數"
   ]
  },
  {
   "cell_type": "code",
   "execution_count": 30,
   "metadata": {},
   "outputs": [],
   "source": [
    "tang_array = np.random.randint(10,size=(3,3))\n",
    "np.savetxt('test5.txt',tang_array,fmt=\"%.2f\",delimiter=',') # fmt:save format %.2f 2位float"
   ]
  },
  {
   "source": [
    "### array structure write and read"
   ],
   "cell_type": "markdown",
   "metadata": {}
  },
  {
   "cell_type": "code",
   "execution_count": 31,
   "metadata": {},
   "outputs": [],
   "source": [
    "tang_array = np.random.randint(20,size=(3,3))\n",
    "np.save('test_arr.npy',tang_array)"
   ]
  },
  {
   "cell_type": "code",
   "execution_count": 32,
   "metadata": {},
   "outputs": [
    {
     "output_type": "execute_result",
     "data": {
      "text/plain": [
       "array([[11,  4,  6],\n",
       "       [ 4, 15,  3],\n",
       "       [12,  4,  8]])"
      ]
     },
     "metadata": {},
     "execution_count": 32
    }
   ],
   "source": [
    "np.load('test_arr.npy')"
   ]
  },
  {
   "cell_type": "code",
   "execution_count": 33,
   "metadata": {},
   "outputs": [
    {
     "output_type": "execute_result",
     "data": {
      "text/plain": [
       "array([[4, 3, 7],\n",
       "       [5, 5, 0],\n",
       "       [1, 5, 9]])"
      ]
     },
     "metadata": {},
     "execution_count": 33
    }
   ],
   "source": [
    "tang_array2 = np.random.randint(10,size=(3,3))\n",
    "tang_array2"
   ]
  },
  {
   "cell_type": "code",
   "execution_count": 42,
   "metadata": {},
   "outputs": [],
   "source": [
    "np.savez('test1_arr.npz',c=tang_array,b=tang_array2) # 壓縮檔"
   ]
  },
  {
   "cell_type": "code",
   "execution_count": 43,
   "metadata": {},
   "outputs": [
    {
     "output_type": "execute_result",
     "data": {
      "text/plain": [
       "<numpy.lib.npyio.NpzFile at 0x1f8e92115e0>"
      ]
     },
     "metadata": {},
     "execution_count": 43
    }
   ],
   "source": [
    "np.load('test1_arr.npz') # a dict"
   ]
  },
  {
   "cell_type": "code",
   "execution_count": 44,
   "metadata": {},
   "outputs": [
    {
     "output_type": "execute_result",
     "data": {
      "text/plain": [
       "array([[11,  4,  6],\n",
       "       [ 4, 15,  3],\n",
       "       [12,  4,  8]])"
      ]
     },
     "metadata": {},
     "execution_count": 44
    }
   ],
   "source": [
    "np.load('test1_arr.npz')['c']"
   ]
  },
  {
   "cell_type": "code",
   "execution_count": null,
   "metadata": {},
   "outputs": [],
   "source": []
  }
 ]
}