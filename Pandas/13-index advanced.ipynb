{
 "metadata": {
  "language_info": {
   "codemirror_mode": {
    "name": "ipython",
    "version": 3
   },
   "file_extension": ".py",
   "mimetype": "text/x-python",
   "name": "python",
   "nbconvert_exporter": "python",
   "pygments_lexer": "ipython3",
   "version": "3.8.5"
  },
  "orig_nbformat": 4,
  "kernelspec": {
   "name": "python3",
   "display_name": "Python 3.8.5 64-bit"
  },
  "interpreter": {
   "hash": "4eaf1be304415beee96765ae99c3f893cc8312c7f1196698e6029668e9aeb3e5"
  }
 },
 "nbformat": 4,
 "nbformat_minor": 2,
 "cells": [
  {
   "cell_type": "code",
   "execution_count": 1,
   "metadata": {},
   "outputs": [],
   "source": [
    "import pandas as pd\n",
    "import numpy as np"
   ]
  },
  {
   "cell_type": "code",
   "execution_count": 2,
   "metadata": {},
   "outputs": [
    {
     "output_type": "execute_result",
     "data": {
      "text/plain": [
       "4    0\n",
       "3    1\n",
       "2    2\n",
       "1    3\n",
       "0    4\n",
       "dtype: int64"
      ]
     },
     "metadata": {},
     "execution_count": 2
    }
   ],
   "source": [
    "s = pd.Series(np.arange(5),index=(np.arange(5)[::-1]),dtype='int64')\n",
    "s"
   ]
  },
  {
   "cell_type": "code",
   "execution_count": 3,
   "metadata": {},
   "outputs": [
    {
     "output_type": "execute_result",
     "data": {
      "text/plain": [
       "4    False\n",
       "3     True\n",
       "2    False\n",
       "1     True\n",
       "0     True\n",
       "dtype: bool"
      ]
     },
     "metadata": {},
     "execution_count": 3
    }
   ],
   "source": [
    "s.isin([1,3,4]) #有沒有存在其中"
   ]
  },
  {
   "cell_type": "code",
   "execution_count": 4,
   "metadata": {},
   "outputs": [
    {
     "output_type": "execute_result",
     "data": {
      "text/plain": [
       "3    1\n",
       "1    3\n",
       "0    4\n",
       "dtype: int64"
      ]
     },
     "metadata": {},
     "execution_count": 4
    }
   ],
   "source": [
    "s[s.isin([1,3,4])]"
   ]
  },
  {
   "cell_type": "code",
   "execution_count": 7,
   "metadata": {},
   "outputs": [
    {
     "output_type": "execute_result",
     "data": {
      "text/plain": [
       "0  a    0\n",
       "   v    1\n",
       "   c    2\n",
       "1  a    3\n",
       "   v    4\n",
       "   c    5\n",
       "dtype: int64"
      ]
     },
     "metadata": {},
     "execution_count": 7
    }
   ],
   "source": [
    "s2 = pd.Series(np.arange(6),index=pd.MultiIndex.from_product([[0,1],['a','v','c']]),dtype='int64') # MultiIndex 相乘個數要跟data一樣\n",
    "s2"
   ]
  },
  {
   "cell_type": "code",
   "execution_count": 11,
   "metadata": {},
   "outputs": [
    {
     "output_type": "execute_result",
     "data": {
      "text/plain": [
       "1  a    3\n",
       "dtype: int64"
      ]
     },
     "metadata": {},
     "execution_count": 11
    }
   ],
   "source": [
    "s2.iloc[s2.index.isin([(1,'a'),('c',0)])] # tuple內 要按照索引的順序"
   ]
  },
  {
   "cell_type": "code",
   "execution_count": 12,
   "metadata": {},
   "outputs": [
    {
     "output_type": "execute_result",
     "data": {
      "text/plain": [
       "4    0\n",
       "3    1\n",
       "2    2\n",
       "1    3\n",
       "0    4\n",
       "dtype: int64"
      ]
     },
     "metadata": {},
     "execution_count": 12
    }
   ],
   "source": [
    "s"
   ]
  },
  {
   "cell_type": "code",
   "execution_count": 13,
   "metadata": {},
   "outputs": [
    {
     "output_type": "execute_result",
     "data": {
      "text/plain": [
       "1    3\n",
       "0    4\n",
       "dtype: int64"
      ]
     },
     "metadata": {},
     "execution_count": 13
    }
   ],
   "source": [
    "s[s>2]"
   ]
  },
  {
   "cell_type": "code",
   "execution_count": 16,
   "metadata": {},
   "outputs": [
    {
     "output_type": "execute_result",
     "data": {
      "text/plain": [
       "                   A        A1        A2        A3\n",
       "2021-07-21 -0.332861 -0.903407 -0.497269  1.265739\n",
       "2021-07-22 -0.146671 -0.416591 -0.717992  0.198331\n",
       "2021-07-23 -2.548255 -0.638819  1.730769  1.356906\n",
       "2021-07-24  0.293637 -0.261630 -0.589803 -0.822457\n",
       "2021-07-25 -0.011918  0.087039 -1.301288 -1.150916\n",
       "2021-07-26 -0.222385 -0.591999  0.792670 -1.955040\n",
       "2021-07-27  0.170893  1.861392 -0.791882 -0.458599\n",
       "2021-07-28 -0.689476  0.785188  0.546228  1.354524"
      ],
      "text/html": "<div>\n<style scoped>\n    .dataframe tbody tr th:only-of-type {\n        vertical-align: middle;\n    }\n\n    .dataframe tbody tr th {\n        vertical-align: top;\n    }\n\n    .dataframe thead th {\n        text-align: right;\n    }\n</style>\n<table border=\"1\" class=\"dataframe\">\n  <thead>\n    <tr style=\"text-align: right;\">\n      <th></th>\n      <th>A</th>\n      <th>A1</th>\n      <th>A2</th>\n      <th>A3</th>\n    </tr>\n  </thead>\n  <tbody>\n    <tr>\n      <th>2021-07-21</th>\n      <td>-0.332861</td>\n      <td>-0.903407</td>\n      <td>-0.497269</td>\n      <td>1.265739</td>\n    </tr>\n    <tr>\n      <th>2021-07-22</th>\n      <td>-0.146671</td>\n      <td>-0.416591</td>\n      <td>-0.717992</td>\n      <td>0.198331</td>\n    </tr>\n    <tr>\n      <th>2021-07-23</th>\n      <td>-2.548255</td>\n      <td>-0.638819</td>\n      <td>1.730769</td>\n      <td>1.356906</td>\n    </tr>\n    <tr>\n      <th>2021-07-24</th>\n      <td>0.293637</td>\n      <td>-0.261630</td>\n      <td>-0.589803</td>\n      <td>-0.822457</td>\n    </tr>\n    <tr>\n      <th>2021-07-25</th>\n      <td>-0.011918</td>\n      <td>0.087039</td>\n      <td>-1.301288</td>\n      <td>-1.150916</td>\n    </tr>\n    <tr>\n      <th>2021-07-26</th>\n      <td>-0.222385</td>\n      <td>-0.591999</td>\n      <td>0.792670</td>\n      <td>-1.955040</td>\n    </tr>\n    <tr>\n      <th>2021-07-27</th>\n      <td>0.170893</td>\n      <td>1.861392</td>\n      <td>-0.791882</td>\n      <td>-0.458599</td>\n    </tr>\n    <tr>\n      <th>2021-07-28</th>\n      <td>-0.689476</td>\n      <td>0.785188</td>\n      <td>0.546228</td>\n      <td>1.354524</td>\n    </tr>\n  </tbody>\n</table>\n</div>"
     },
     "metadata": {},
     "execution_count": 16
    }
   ],
   "source": [
    "df = pd.DataFrame(np.random.randn(8,4),index=pd.date_range('20210721',periods=8),columns=['A','A1','A2','A3',])\n",
    "df"
   ]
  },
  {
   "cell_type": "code",
   "execution_count": 21,
   "metadata": {},
   "outputs": [
    {
     "output_type": "execute_result",
     "data": {
      "text/plain": [
       "                   A        A1        A2        A3\n",
       "2021-07-21 -0.332861 -0.903407 -0.497269       NaN\n",
       "2021-07-22 -0.146671 -0.416591 -0.717992       NaN\n",
       "2021-07-23 -2.548255 -0.638819       NaN       NaN\n",
       "2021-07-24       NaN -0.261630 -0.589803 -0.822457\n",
       "2021-07-25 -0.011918       NaN -1.301288 -1.150916\n",
       "2021-07-26 -0.222385 -0.591999       NaN -1.955040\n",
       "2021-07-27       NaN       NaN -0.791882 -0.458599\n",
       "2021-07-28 -0.689476       NaN       NaN       NaN"
      ],
      "text/html": "<div>\n<style scoped>\n    .dataframe tbody tr th:only-of-type {\n        vertical-align: middle;\n    }\n\n    .dataframe tbody tr th {\n        vertical-align: top;\n    }\n\n    .dataframe thead th {\n        text-align: right;\n    }\n</style>\n<table border=\"1\" class=\"dataframe\">\n  <thead>\n    <tr style=\"text-align: right;\">\n      <th></th>\n      <th>A</th>\n      <th>A1</th>\n      <th>A2</th>\n      <th>A3</th>\n    </tr>\n  </thead>\n  <tbody>\n    <tr>\n      <th>2021-07-21</th>\n      <td>-0.332861</td>\n      <td>-0.903407</td>\n      <td>-0.497269</td>\n      <td>NaN</td>\n    </tr>\n    <tr>\n      <th>2021-07-22</th>\n      <td>-0.146671</td>\n      <td>-0.416591</td>\n      <td>-0.717992</td>\n      <td>NaN</td>\n    </tr>\n    <tr>\n      <th>2021-07-23</th>\n      <td>-2.548255</td>\n      <td>-0.638819</td>\n      <td>NaN</td>\n      <td>NaN</td>\n    </tr>\n    <tr>\n      <th>2021-07-24</th>\n      <td>NaN</td>\n      <td>-0.261630</td>\n      <td>-0.589803</td>\n      <td>-0.822457</td>\n    </tr>\n    <tr>\n      <th>2021-07-25</th>\n      <td>-0.011918</td>\n      <td>NaN</td>\n      <td>-1.301288</td>\n      <td>-1.150916</td>\n    </tr>\n    <tr>\n      <th>2021-07-26</th>\n      <td>-0.222385</td>\n      <td>-0.591999</td>\n      <td>NaN</td>\n      <td>-1.955040</td>\n    </tr>\n    <tr>\n      <th>2021-07-27</th>\n      <td>NaN</td>\n      <td>NaN</td>\n      <td>-0.791882</td>\n      <td>-0.458599</td>\n    </tr>\n    <tr>\n      <th>2021-07-28</th>\n      <td>-0.689476</td>\n      <td>NaN</td>\n      <td>NaN</td>\n      <td>NaN</td>\n    </tr>\n  </tbody>\n</table>\n</div>"
     },
     "metadata": {},
     "execution_count": 21
    }
   ],
   "source": [
    "df.where(df<0)"
   ]
  },
  {
   "cell_type": "code",
   "execution_count": 22,
   "metadata": {},
   "outputs": [
    {
     "output_type": "execute_result",
     "data": {
      "text/plain": [
       "                   A        A1        A2        A3\n",
       "2021-07-21 -0.332861 -0.903407 -0.497269  0.000000\n",
       "2021-07-22 -0.146671 -0.416591 -0.717992  0.000000\n",
       "2021-07-23 -2.548255 -0.638819  0.000000  0.000000\n",
       "2021-07-24  0.000000 -0.261630 -0.589803 -0.822457\n",
       "2021-07-25 -0.011918  0.000000 -1.301288 -1.150916\n",
       "2021-07-26 -0.222385 -0.591999  0.000000 -1.955040\n",
       "2021-07-27  0.000000  0.000000 -0.791882 -0.458599\n",
       "2021-07-28 -0.689476  0.000000  0.000000  0.000000"
      ],
      "text/html": "<div>\n<style scoped>\n    .dataframe tbody tr th:only-of-type {\n        vertical-align: middle;\n    }\n\n    .dataframe tbody tr th {\n        vertical-align: top;\n    }\n\n    .dataframe thead th {\n        text-align: right;\n    }\n</style>\n<table border=\"1\" class=\"dataframe\">\n  <thead>\n    <tr style=\"text-align: right;\">\n      <th></th>\n      <th>A</th>\n      <th>A1</th>\n      <th>A2</th>\n      <th>A3</th>\n    </tr>\n  </thead>\n  <tbody>\n    <tr>\n      <th>2021-07-21</th>\n      <td>-0.332861</td>\n      <td>-0.903407</td>\n      <td>-0.497269</td>\n      <td>0.000000</td>\n    </tr>\n    <tr>\n      <th>2021-07-22</th>\n      <td>-0.146671</td>\n      <td>-0.416591</td>\n      <td>-0.717992</td>\n      <td>0.000000</td>\n    </tr>\n    <tr>\n      <th>2021-07-23</th>\n      <td>-2.548255</td>\n      <td>-0.638819</td>\n      <td>0.000000</td>\n      <td>0.000000</td>\n    </tr>\n    <tr>\n      <th>2021-07-24</th>\n      <td>0.000000</td>\n      <td>-0.261630</td>\n      <td>-0.589803</td>\n      <td>-0.822457</td>\n    </tr>\n    <tr>\n      <th>2021-07-25</th>\n      <td>-0.011918</td>\n      <td>0.000000</td>\n      <td>-1.301288</td>\n      <td>-1.150916</td>\n    </tr>\n    <tr>\n      <th>2021-07-26</th>\n      <td>-0.222385</td>\n      <td>-0.591999</td>\n      <td>0.000000</td>\n      <td>-1.955040</td>\n    </tr>\n    <tr>\n      <th>2021-07-27</th>\n      <td>0.000000</td>\n      <td>0.000000</td>\n      <td>-0.791882</td>\n      <td>-0.458599</td>\n    </tr>\n    <tr>\n      <th>2021-07-28</th>\n      <td>-0.689476</td>\n      <td>0.000000</td>\n      <td>0.000000</td>\n      <td>0.000000</td>\n    </tr>\n  </tbody>\n</table>\n</div>"
     },
     "metadata": {},
     "execution_count": 22
    }
   ],
   "source": [
    "df.where(df<0,0) # catch smaller 0 and nan become 0"
   ]
  },
  {
   "cell_type": "code",
   "execution_count": 24,
   "metadata": {},
   "outputs": [
    {
     "output_type": "execute_result",
     "data": {
      "text/plain": [
       "          a         b         c\n",
       "0  0.228111  0.874746  0.322901\n",
       "1  0.399874  0.409539  0.081435\n",
       "2  0.094718  0.241333  0.458426\n",
       "3  0.480017  0.282640  0.687169\n",
       "4  0.974039  0.720095  0.023131\n",
       "5  0.368484  0.425825  0.615431\n",
       "6  0.429728  0.175406  0.651604\n",
       "7  0.938826  0.624586  0.553471\n",
       "8  0.370115  0.665445  0.878592\n",
       "9  0.392260  0.480818  0.167700"
      ],
      "text/html": "<div>\n<style scoped>\n    .dataframe tbody tr th:only-of-type {\n        vertical-align: middle;\n    }\n\n    .dataframe tbody tr th {\n        vertical-align: top;\n    }\n\n    .dataframe thead th {\n        text-align: right;\n    }\n</style>\n<table border=\"1\" class=\"dataframe\">\n  <thead>\n    <tr style=\"text-align: right;\">\n      <th></th>\n      <th>a</th>\n      <th>b</th>\n      <th>c</th>\n    </tr>\n  </thead>\n  <tbody>\n    <tr>\n      <th>0</th>\n      <td>0.228111</td>\n      <td>0.874746</td>\n      <td>0.322901</td>\n    </tr>\n    <tr>\n      <th>1</th>\n      <td>0.399874</td>\n      <td>0.409539</td>\n      <td>0.081435</td>\n    </tr>\n    <tr>\n      <th>2</th>\n      <td>0.094718</td>\n      <td>0.241333</td>\n      <td>0.458426</td>\n    </tr>\n    <tr>\n      <th>3</th>\n      <td>0.480017</td>\n      <td>0.282640</td>\n      <td>0.687169</td>\n    </tr>\n    <tr>\n      <th>4</th>\n      <td>0.974039</td>\n      <td>0.720095</td>\n      <td>0.023131</td>\n    </tr>\n    <tr>\n      <th>5</th>\n      <td>0.368484</td>\n      <td>0.425825</td>\n      <td>0.615431</td>\n    </tr>\n    <tr>\n      <th>6</th>\n      <td>0.429728</td>\n      <td>0.175406</td>\n      <td>0.651604</td>\n    </tr>\n    <tr>\n      <th>7</th>\n      <td>0.938826</td>\n      <td>0.624586</td>\n      <td>0.553471</td>\n    </tr>\n    <tr>\n      <th>8</th>\n      <td>0.370115</td>\n      <td>0.665445</td>\n      <td>0.878592</td>\n    </tr>\n    <tr>\n      <th>9</th>\n      <td>0.392260</td>\n      <td>0.480818</td>\n      <td>0.167700</td>\n    </tr>\n  </tbody>\n</table>\n</div>"
     },
     "metadata": {},
     "execution_count": 24
    }
   ],
   "source": [
    "df = pd.DataFrame(np.random.rand(10,3),columns=list('abc'))\n",
    "df"
   ]
  },
  {
   "cell_type": "code",
   "execution_count": 25,
   "metadata": {},
   "outputs": [
    {
     "output_type": "execute_result",
     "data": {
      "text/plain": [
       "          a         b         c\n",
       "0  0.228111  0.874746  0.322901\n",
       "1  0.399874  0.409539  0.081435\n",
       "2  0.094718  0.241333  0.458426\n",
       "5  0.368484  0.425825  0.615431\n",
       "8  0.370115  0.665445  0.878592\n",
       "9  0.392260  0.480818  0.167700"
      ],
      "text/html": "<div>\n<style scoped>\n    .dataframe tbody tr th:only-of-type {\n        vertical-align: middle;\n    }\n\n    .dataframe tbody tr th {\n        vertical-align: top;\n    }\n\n    .dataframe thead th {\n        text-align: right;\n    }\n</style>\n<table border=\"1\" class=\"dataframe\">\n  <thead>\n    <tr style=\"text-align: right;\">\n      <th></th>\n      <th>a</th>\n      <th>b</th>\n      <th>c</th>\n    </tr>\n  </thead>\n  <tbody>\n    <tr>\n      <th>0</th>\n      <td>0.228111</td>\n      <td>0.874746</td>\n      <td>0.322901</td>\n    </tr>\n    <tr>\n      <th>1</th>\n      <td>0.399874</td>\n      <td>0.409539</td>\n      <td>0.081435</td>\n    </tr>\n    <tr>\n      <th>2</th>\n      <td>0.094718</td>\n      <td>0.241333</td>\n      <td>0.458426</td>\n    </tr>\n    <tr>\n      <th>5</th>\n      <td>0.368484</td>\n      <td>0.425825</td>\n      <td>0.615431</td>\n    </tr>\n    <tr>\n      <th>8</th>\n      <td>0.370115</td>\n      <td>0.665445</td>\n      <td>0.878592</td>\n    </tr>\n    <tr>\n      <th>9</th>\n      <td>0.392260</td>\n      <td>0.480818</td>\n      <td>0.167700</td>\n    </tr>\n  </tbody>\n</table>\n</div>"
     },
     "metadata": {},
     "execution_count": 25
    }
   ],
   "source": [
    "df.query('(a<b)')"
   ]
  },
  {
   "cell_type": "code",
   "execution_count": 26,
   "metadata": {},
   "outputs": [
    {
     "output_type": "execute_result",
     "data": {
      "text/plain": [
       "          a         b         c\n",
       "2  0.094718  0.241333  0.458426\n",
       "5  0.368484  0.425825  0.615431\n",
       "8  0.370115  0.665445  0.878592"
      ],
      "text/html": "<div>\n<style scoped>\n    .dataframe tbody tr th:only-of-type {\n        vertical-align: middle;\n    }\n\n    .dataframe tbody tr th {\n        vertical-align: top;\n    }\n\n    .dataframe thead th {\n        text-align: right;\n    }\n</style>\n<table border=\"1\" class=\"dataframe\">\n  <thead>\n    <tr style=\"text-align: right;\">\n      <th></th>\n      <th>a</th>\n      <th>b</th>\n      <th>c</th>\n    </tr>\n  </thead>\n  <tbody>\n    <tr>\n      <th>2</th>\n      <td>0.094718</td>\n      <td>0.241333</td>\n      <td>0.458426</td>\n    </tr>\n    <tr>\n      <th>5</th>\n      <td>0.368484</td>\n      <td>0.425825</td>\n      <td>0.615431</td>\n    </tr>\n    <tr>\n      <th>8</th>\n      <td>0.370115</td>\n      <td>0.665445</td>\n      <td>0.878592</td>\n    </tr>\n  </tbody>\n</table>\n</div>"
     },
     "metadata": {},
     "execution_count": 26
    }
   ],
   "source": [
    "df.query('(a<b) and (b<c)')"
   ]
  },
  {
   "cell_type": "code",
   "execution_count": null,
   "metadata": {},
   "outputs": [],
   "source": []
  }
 ]
}