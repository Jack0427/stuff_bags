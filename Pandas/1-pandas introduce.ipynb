{
 "metadata": {
  "language_info": {
   "codemirror_mode": {
    "name": "ipython",
    "version": 3
   },
   "file_extension": ".py",
   "mimetype": "text/x-python",
   "name": "python",
   "nbconvert_exporter": "python",
   "pygments_lexer": "ipython3",
   "version": "3.8.5"
  },
  "orig_nbformat": 4,
  "kernelspec": {
   "name": "python3",
   "display_name": "Python 3.8.5 64-bit"
  },
  "interpreter": {
   "hash": "4eaf1be304415beee96765ae99c3f893cc8312c7f1196698e6029668e9aeb3e5"
  }
 },
 "nbformat": 4,
 "nbformat_minor": 2,
 "cells": [
  {
   "cell_type": "code",
   "execution_count": 11,
   "metadata": {},
   "outputs": [
    {
     "output_type": "execute_result",
     "data": {
      "text/plain": [
       "  觀測時間(month) 測站氣壓(hPa) 海平面氣壓(hPa)  ... 月最高紫外線指數 月最高紫外線指數時間(LST)     總雲量(0~10)\n",
       "0     ObsTime   StnPres    SeaPres  ...  UVI Max    UVI Max Time  Cloud Amount\n",
       "1          01    1008.7     1018.9  ...      ...             ...           3.8\n",
       "2          02    1010.5     1020.6  ...      ...             ...           4.0\n",
       "3          03    1005.3     1015.3  ...      ...             ...           6.4\n",
       "4          04    1005.7     1015.7  ...      ...             ...           6.4\n",
       "\n",
       "[5 rows x 35 columns]"
      ],
      "text/html": "<div>\n<style scoped>\n    .dataframe tbody tr th:only-of-type {\n        vertical-align: middle;\n    }\n\n    .dataframe tbody tr th {\n        vertical-align: top;\n    }\n\n    .dataframe thead th {\n        text-align: right;\n    }\n</style>\n<table border=\"1\" class=\"dataframe\">\n  <thead>\n    <tr style=\"text-align: right;\">\n      <th></th>\n      <th>觀測時間(month)</th>\n      <th>測站氣壓(hPa)</th>\n      <th>海平面氣壓(hPa)</th>\n      <th>測站最高氣壓(hPa)</th>\n      <th>測站最高氣壓時間(LST)</th>\n      <th>測站最低氣壓(hPa)</th>\n      <th>測站最低氣壓時間(LST)</th>\n      <th>氣溫(℃)</th>\n      <th>最高氣溫(℃)</th>\n      <th>最高氣溫時間(LST)</th>\n      <th>最低氣溫(℃)</th>\n      <th>最低氣溫時間(LST)</th>\n      <th>露點溫度(℃)</th>\n      <th>風速(m/s)</th>\n      <th>風向(360degree)</th>\n      <th>最大陣風(m/s)</th>\n      <th>最大陣風風向(360degree)</th>\n      <th>最大陣風風速時間(LST)</th>\n      <th>降水量(mm)</th>\n      <th>降水時數(hour)</th>\n      <th>降水日數(day)</th>\n      <th>最大十分鐘降水量(mm)</th>\n      <th>最大十分鐘降水量起始時間(LST)</th>\n      <th>最大六十分鐘降水量(mm)</th>\n      <th>最大六十分鐘降水量起始時間(LST)</th>\n      <th>最大日降水量(mm)</th>\n      <th>最大日降水量時間(LST)</th>\n      <th>相對溼度(%)</th>\n      <th>A型蒸發量(mm)</th>\n      <th>日照時數(hour)</th>\n      <th>全天空日射量(MJ/㎡)</th>\n      <th>平均日最高紫外線指數</th>\n      <th>月最高紫外線指數</th>\n      <th>月最高紫外線指數時間(LST)</th>\n      <th>總雲量(0~10)</th>\n    </tr>\n  </thead>\n  <tbody>\n    <tr>\n      <th>0</th>\n      <td>ObsTime</td>\n      <td>StnPres</td>\n      <td>SeaPres</td>\n      <td>StnPresMax</td>\n      <td>StnPresMaxTime</td>\n      <td>StnPresMin</td>\n      <td>StnPresMinTime</td>\n      <td>Temperature</td>\n      <td>T Max</td>\n      <td>T Max Time</td>\n      <td>T Min</td>\n      <td>T Min Time</td>\n      <td>Td dew point</td>\n      <td>WS</td>\n      <td>WD</td>\n      <td>WSGust</td>\n      <td>WDGust</td>\n      <td>WGustTime</td>\n      <td>Precp</td>\n      <td>PrecpHour</td>\n      <td>PrecpDay</td>\n      <td>PrecpMax10</td>\n      <td>PrecpMax10Time</td>\n      <td>PrecpMax60</td>\n      <td>PrecpMax60Time</td>\n      <td>Precp1DayMax</td>\n      <td>Precp1DayMaxTime</td>\n      <td>RH</td>\n      <td>EvapA</td>\n      <td>SunShine</td>\n      <td>GloblRad</td>\n      <td>UVI Max Mean</td>\n      <td>UVI Max</td>\n      <td>UVI Max Time</td>\n      <td>Cloud Amount</td>\n    </tr>\n    <tr>\n      <th>1</th>\n      <td>01</td>\n      <td>1008.7</td>\n      <td>1018.9</td>\n      <td>1017.7</td>\n      <td>2020-01-01 09:33</td>\n      <td>999.6</td>\n      <td>2020-01-26 13:39</td>\n      <td>18.0</td>\n      <td>29.0</td>\n      <td>2020-01-23 12:58</td>\n      <td>6.9</td>\n      <td>2020-01-31 06:36</td>\n      <td>13.5</td>\n      <td>1.3</td>\n      <td>340</td>\n      <td>12.5</td>\n      <td>30</td>\n      <td>2020-01-28 20:11</td>\n      <td>20.0</td>\n      <td>12.6</td>\n      <td>1</td>\n      <td>3.0</td>\n      <td>2020-01-26 07:41</td>\n      <td>6.0</td>\n      <td>2020-01-26 08:33</td>\n      <td>20.0</td>\n      <td>2020-01-26 00:00</td>\n      <td>76</td>\n      <td>89.0</td>\n      <td>225.1</td>\n      <td>418.05</td>\n      <td>...</td>\n      <td>...</td>\n      <td>...</td>\n      <td>3.8</td>\n    </tr>\n    <tr>\n      <th>2</th>\n      <td>02</td>\n      <td>1010.5</td>\n      <td>1020.6</td>\n      <td>1017.8</td>\n      <td>2020-02-21 09:02</td>\n      <td>1001.7</td>\n      <td>2020-02-15 14:34</td>\n      <td>19.0</td>\n      <td>30.2</td>\n      <td>2020-02-26 12:12</td>\n      <td>8.4</td>\n      <td>2020-02-01 06:31</td>\n      <td>13.5</td>\n      <td>1.3</td>\n      <td>350</td>\n      <td>11.7</td>\n      <td>350</td>\n      <td>2020-02-08 14:05</td>\n      <td>4.5</td>\n      <td>12.8</td>\n      <td>2</td>\n      <td>2.0</td>\n      <td>2020-02-15 18:01</td>\n      <td>2.5</td>\n      <td>2020-02-15 17:40</td>\n      <td>2.5</td>\n      <td>2020-02-15 00:00</td>\n      <td>72</td>\n      <td>82.0</td>\n      <td>212.5</td>\n      <td>446.52</td>\n      <td>...</td>\n      <td>...</td>\n      <td>...</td>\n      <td>4.0</td>\n    </tr>\n    <tr>\n      <th>3</th>\n      <td>03</td>\n      <td>1005.3</td>\n      <td>1015.3</td>\n      <td>1011.6</td>\n      <td>2020-03-16 08:59</td>\n      <td>995.5</td>\n      <td>2020-03-09 14:36</td>\n      <td>22.3</td>\n      <td>33.2</td>\n      <td>2020-03-26 13:47</td>\n      <td>14.5</td>\n      <td>2020-03-15 05:29</td>\n      <td>16.5</td>\n      <td>1.3</td>\n      <td>330</td>\n      <td>11.4</td>\n      <td>320</td>\n      <td>2020-03-04 21:38</td>\n      <td>55.0</td>\n      <td>26.5</td>\n      <td>6</td>\n      <td>3.5</td>\n      <td>2020-03-28 07:10</td>\n      <td>10.5</td>\n      <td>2020-03-10 05:28</td>\n      <td>23.5</td>\n      <td>2020-03-10 00:00</td>\n      <td>70</td>\n      <td>105.6</td>\n      <td>178.0</td>\n      <td>480.35</td>\n      <td>...</td>\n      <td>...</td>\n      <td>...</td>\n      <td>6.4</td>\n    </tr>\n    <tr>\n      <th>4</th>\n      <td>04</td>\n      <td>1005.7</td>\n      <td>1015.7</td>\n      <td>1010.9</td>\n      <td>2020-04-02 09:51</td>\n      <td>1000.6</td>\n      <td>2020-04-19 16:45</td>\n      <td>22.2</td>\n      <td>32.8</td>\n      <td>2020-04-19 12:57</td>\n      <td>12.8</td>\n      <td>2020-04-13 06:04</td>\n      <td>16.1</td>\n      <td>1.3</td>\n      <td>350</td>\n      <td>13.2</td>\n      <td>340</td>\n      <td>2020-04-13 14:05</td>\n      <td>59.5</td>\n      <td>52.5</td>\n      <td>9</td>\n      <td>5.5</td>\n      <td>2020-04-02 05:58</td>\n      <td>11.5</td>\n      <td>2020-04-02 05:56</td>\n      <td>20.0</td>\n      <td>2020-04-02 00:00</td>\n      <td>70</td>\n      <td>100.7</td>\n      <td>154.5</td>\n      <td>493.50</td>\n      <td>...</td>\n      <td>...</td>\n      <td>...</td>\n      <td>6.4</td>\n    </tr>\n  </tbody>\n</table>\n</div>"
     },
     "metadata": {},
     "execution_count": 11
    }
   ],
   "source": [
    "import pandas as pd\n",
    "import random\n",
    "df = pd.read_csv('./climate2020.csv')\n",
    "df.head(5)"
   ]
  },
  {
   "cell_type": "code",
   "execution_count": 5,
   "metadata": {},
   "outputs": [
    {
     "output_type": "execute_result",
     "data": {
      "text/plain": [
       "<bound method DataFrame.info of    觀測時間(month) 測站氣壓(hPa) 海平面氣壓(hPa)  ... 月最高紫外線指數 月最高紫外線指數時間(LST)     總雲量(0~10)\n",
       "0      ObsTime   StnPres    SeaPres  ...  UVI Max    UVI Max Time  Cloud Amount\n",
       "1           01    1008.7     1018.9  ...      ...             ...           3.8\n",
       "2           02    1010.5     1020.6  ...      ...             ...           4.0\n",
       "3           03    1005.3     1015.3  ...      ...             ...           6.4\n",
       "4           04    1005.7     1015.7  ...      ...             ...           6.4\n",
       "5           05     999.4     1009.2  ...      ...             ...           6.7\n",
       "6           06     999.1     1008.8  ...      ...             ...           5.4\n",
       "7           07     998.7     1008.3  ...      ...             ...           5.9\n",
       "8           08     997.5     1007.2  ...      ...             ...           6.3\n",
       "9           09     999.5     1009.2  ...      ...             ...           5.5\n",
       "10          10    1002.0     1011.8  ...      ...             ...           5.0\n",
       "11          11    1005.9     1015.8  ...      ...             ...           4.9\n",
       "12          12    1007.3     1017.4  ...      ...             ...           6.6\n",
       "\n",
       "[13 rows x 35 columns]>"
      ]
     },
     "metadata": {},
     "execution_count": 5
    }
   ],
   "source": [
    "df.info"
   ]
  },
  {
   "cell_type": "code",
   "execution_count": 6,
   "metadata": {},
   "outputs": [
    {
     "output_type": "execute_result",
     "data": {
      "text/plain": [
       "Index(['觀測時間(month)', '測站氣壓(hPa)', '海平面氣壓(hPa)', '測站最高氣壓(hPa)',\n",
       "       '測站最高氣壓時間(LST)', '測站最低氣壓(hPa)', '測站最低氣壓時間(LST)', '氣溫(℃)', '最高氣溫(℃)',\n",
       "       '最高氣溫時間(LST)', '最低氣溫(℃)', '最低氣溫時間(LST)', '露點溫度(℃)', '風速(m/s)',\n",
       "       '風向(360degree)', '最大陣風(m/s)', '最大陣風風向(360degree)', '最大陣風風速時間(LST)',\n",
       "       '降水量(mm)', '降水時數(hour)', '降水日數(day)', '最大十分鐘降水量(mm)',\n",
       "       '最大十分鐘降水量起始時間(LST)', '最大六十分鐘降水量(mm)', '最大六十分鐘降水量起始時間(LST)',\n",
       "       '最大日降水量(mm)', '最大日降水量時間(LST)', '相對溼度(%)', 'A型蒸發量(mm)', '日照時數(hour)',\n",
       "       '全天空日射量(MJ/㎡)', '平均日最高紫外線指數', '月最高紫外線指數', '月最高紫外線指數時間(LST)',\n",
       "       '總雲量(0~10)'],\n",
       "      dtype='object')"
      ]
     },
     "metadata": {},
     "execution_count": 6
    }
   ],
   "source": [
    "df.columns"
   ]
  },
  {
   "cell_type": "code",
   "execution_count": 7,
   "metadata": {},
   "outputs": [
    {
     "output_type": "execute_result",
     "data": {
      "text/plain": [
       "array([['ObsTime', 'StnPres', 'SeaPres', 'StnPresMax', 'StnPresMaxTime',\n",
       "        'StnPresMin', 'StnPresMinTime', 'Temperature', 'T Max',\n",
       "        'T Max Time', 'T Min', 'T Min Time', 'Td dew point', 'WS', 'WD',\n",
       "        'WSGust', 'WDGust', 'WGustTime', 'Precp', 'PrecpHour',\n",
       "        'PrecpDay', 'PrecpMax10', 'PrecpMax10Time', 'PrecpMax60',\n",
       "        'PrecpMax60Time', 'Precp1DayMax', 'Precp1DayMaxTime', 'RH',\n",
       "        'EvapA', 'SunShine', 'GloblRad', 'UVI Max Mean', 'UVI Max',\n",
       "        'UVI Max Time', 'Cloud Amount'],\n",
       "       ['01', '1008.7', '1018.9', '1017.7', '2020-01-01 09:33', '999.6',\n",
       "        '2020-01-26 13:39', '18.0', '29.0', '2020-01-23 12:58', '6.9',\n",
       "        '2020-01-31 06:36', '13.5', '1.3', '340', '12.5', '30',\n",
       "        '2020-01-28 20:11', '20.0', '12.6', '1', '3.0',\n",
       "        '2020-01-26 07:41', '6.0', '2020-01-26 08:33', '20.0',\n",
       "        '2020-01-26 00:00', '76', '89.0', '225.1', '418.05', '...',\n",
       "        '...', '...', '3.8'],\n",
       "       ['02', '1010.5', '1020.6', '1017.8', '2020-02-21 09:02', '1001.7',\n",
       "        '2020-02-15 14:34', '19.0', '30.2', '2020-02-26 12:12', '8.4',\n",
       "        '2020-02-01 06:31', '13.5', '1.3', '350', '11.7', '350',\n",
       "        '2020-02-08 14:05', '4.5', '12.8', '2', '2.0',\n",
       "        '2020-02-15 18:01', '2.5', '2020-02-15 17:40', '2.5',\n",
       "        '2020-02-15 00:00', '72', '82.0', '212.5', '446.52', '...',\n",
       "        '...', '...', '4.0'],\n",
       "       ['03', '1005.3', '1015.3', '1011.6', '2020-03-16 08:59', '995.5',\n",
       "        '2020-03-09 14:36', '22.3', '33.2', '2020-03-26 13:47', '14.5',\n",
       "        '2020-03-15 05:29', '16.5', '1.3', '330', '11.4', '320',\n",
       "        '2020-03-04 21:38', '55.0', '26.5', '6', '3.5',\n",
       "        '2020-03-28 07:10', '10.5', '2020-03-10 05:28', '23.5',\n",
       "        '2020-03-10 00:00', '70', '105.6', '178.0', '480.35', '...',\n",
       "        '...', '...', '6.4'],\n",
       "       ['04', '1005.7', '1015.7', '1010.9', '2020-04-02 09:51', '1000.6',\n",
       "        '2020-04-19 16:45', '22.2', '32.8', '2020-04-19 12:57', '12.8',\n",
       "        '2020-04-13 06:04', '16.1', '1.3', '350', '13.2', '340',\n",
       "        '2020-04-13 14:05', '59.5', '52.5', '9', '5.5',\n",
       "        '2020-04-02 05:58', '11.5', '2020-04-02 05:56', '20.0',\n",
       "        '2020-04-02 00:00', '70', '100.7', '154.5', '493.50', '...',\n",
       "        '...', '...', '6.4'],\n",
       "       ['05', '999.4', '1009.2', '1005.0', '2020-05-01 08:49', '992.7',\n",
       "        '2020-05-17 15:52', '27.5', '36.9', '2020-05-10 12:16', '21.8',\n",
       "        '2020-05-20 05:02', '22.4', '1.3', '220', '10.8', '190',\n",
       "        '2020-05-16 16:09', '306.5', '72.1', '11', '14.0',\n",
       "        '2020-05-16 16:38', '29.0', '2020-05-27 09:46', '61.0',\n",
       "        '2020-05-22 00:00', '75', '121.2', '167.2', '522.51', '...',\n",
       "        '...', '...', '6.7'],\n",
       "       ['06', '999.1', '1008.8', '1004.7', '2020-06-15 00:04', '994.8',\n",
       "        '2020-06-12 16:17', '29.1', '35.1', '2020-06-29 14:10', '22.0',\n",
       "        '2020-06-10 03:22', '22.9', '1.7', '200', '15.5', '260',\n",
       "        '2020-06-09 16:58', '183.5', '23.5', '5', '26.0',\n",
       "        '2020-06-14 14:30', '91.0', '2020-06-14 14:25', '99.0',\n",
       "        '2020-06-14 00:00', '70', '121.8', '211.9', '609.28', '...',\n",
       "        '...', '...', '5.4'],\n",
       "       ['07', '998.7', '1008.3', '1003.0', '2020-07-21 09:11', '993.8',\n",
       "        '2020-07-14 15:43', '29.6', '36.3', '2020-07-31 13:00', '24.0',\n",
       "        '2020-07-21 04:14', '24.3', '1.5', '190', '15.3', '250',\n",
       "        '2020-07-10 12:46', '93.5', '19.8', '12', '11.0',\n",
       "        '2020-07-03 16:36', '18.0', '2020-07-03 16:30', '28.0',\n",
       "        '2020-07-02 00:00', '74', '137.2', '215.1', '614.72', '...',\n",
       "        '...', '...', '5.9'],\n",
       "       ['08', '997.5', '1007.2', '1006.0', '2020-08-12 21:54', '991.6',\n",
       "        '2020-08-25 15:04', '28.5', '35.2', '2020-08-25 14:05', '23.2',\n",
       "        '2020-08-16 04:09', '23.5', '1.2', '190', '17.5', '170',\n",
       "        '2020-08-27 12:07', '278.5', '42.1', '16', '14.0',\n",
       "        '2020-08-12 16:06', '50.5', '2020-08-03 11:04', '70.0',\n",
       "        '2020-08-03 00:00', '75', '112.6', '174.5', '526.22', '...',\n",
       "        '...', '...', '6.3'],\n",
       "       ['09', '999.5', '1009.2', '1005.1', '2020-09-19 08:55', '991.9',\n",
       "        '2020-09-01 03:36', '28.1', '35.1', '2020-09-07 13:35', '21.7',\n",
       "        '2020-09-07 05:29', '22.3', '1.3', '350', '11.1', '20',\n",
       "        '2020-09-21 14:09', '74.0', '8.1', '4', '14.0',\n",
       "        '2020-09-13 13:21', '54.0', '2020-09-13 12:54', '54.5',\n",
       "        '2020-09-13 00:00', '71', '111.5', '198.6', '512.50', '...',\n",
       "        '...', '...', '5.5'],\n",
       "       ['10', '1002.0', '1011.8', '1008.0', '2020-10-29 08:40', '995.5',\n",
       "        '2020-10-21 14:44', '26.1', '34.8', '2020-10-04 13:28', '19.7',\n",
       "        '2020-10-23 07:53', '20.0', '1.7', '10', '15.4', '10',\n",
       "        '2020-10-22 14:43', 'T', '3.6', '0', 'T', '2020-10-23 07:40',\n",
       "        '0.0', '...', '0.0', '2020-10-01 00:00', '69', '132.4', '220.1',\n",
       "        '506.06', '...', '...', '...', '5.0'],\n",
       "       ['11', '1005.9', '1015.8', '1011.0', '2020-11-28 09:21', '998.4',\n",
       "        '2020-11-06 15:30', '23.9', '33.7', '2020-11-21 13:38', '18.1',\n",
       "        '2020-11-11 06:08', '18.5', '1.4', '350', '10.6', '360',\n",
       "        '2020-11-03 13:51', '3.5', '16.5', '2', '0.5',\n",
       "        '2020-11-07 18:01', '1.0', '2020-11-13 16:00', '3.0',\n",
       "        '2020-11-13 00:00', '72', '91.3', '182.9', '376.24', '...',\n",
       "        '...', '...', '4.9'],\n",
       "       ['12', '1007.3', '1017.4', '1015.8', '2020-12-31 09:37', '1000.7',\n",
       "        '2020-12-28 15:16', '19.5', '28.5', '2020-12-28 14:25', '9.1',\n",
       "        '2020-12-31 08:08', '15.2', '1.8', '10', '15.6', '10',\n",
       "        '2020-12-30 11:01', '41.5', '36.0', '6', '5.0',\n",
       "        '2020-12-09 10:47', '11.0', '2020-12-09 10:16', '28.5',\n",
       "        '2020-12-09 00:00', '77', '81.4', '156.2', '338.25', '...',\n",
       "        '...', '...', '6.6']], dtype=object)"
      ]
     },
     "metadata": {},
     "execution_count": 7
    }
   ],
   "source": [
    "df.values"
   ]
  },
  {
   "cell_type": "code",
   "execution_count": 39,
   "metadata": {},
   "outputs": [
    {
     "output_type": "execute_result",
     "data": {
      "text/plain": [
       "   class  no age  tempture\n",
       "0      B   1  12      36.5\n",
       "1      B   2  13      36.0\n",
       "2      A   3          37.0\n",
       "3      B   4          36.5\n",
       "4      C   5  13      37.0\n",
       "5      B   6  14      36.0\n",
       "6      B   7          36.0\n",
       "7      B   8  13      37.0\n",
       "8      B   9  14      36.0\n",
       "9      B  10  13      36.0\n",
       "10     C  11  12      36.0\n",
       "11     A  12  14      37.0\n",
       "12     C  13  14      36.5\n",
       "13     A  14  13      36.0\n",
       "14     B  15          36.0\n",
       "15     A  16          36.5\n",
       "16     A  17          37.0\n",
       "17     C  18  14      36.5\n",
       "18     B  19          36.0\n",
       "19     C  20  14      36.5"
      ],
      "text/html": "<div>\n<style scoped>\n    .dataframe tbody tr th:only-of-type {\n        vertical-align: middle;\n    }\n\n    .dataframe tbody tr th {\n        vertical-align: top;\n    }\n\n    .dataframe thead th {\n        text-align: right;\n    }\n</style>\n<table border=\"1\" class=\"dataframe\">\n  <thead>\n    <tr style=\"text-align: right;\">\n      <th></th>\n      <th>class</th>\n      <th>no</th>\n      <th>age</th>\n      <th>tempture</th>\n    </tr>\n  </thead>\n  <tbody>\n    <tr>\n      <th>0</th>\n      <td>B</td>\n      <td>1</td>\n      <td>12</td>\n      <td>36.5</td>\n    </tr>\n    <tr>\n      <th>1</th>\n      <td>B</td>\n      <td>2</td>\n      <td>13</td>\n      <td>36.0</td>\n    </tr>\n    <tr>\n      <th>2</th>\n      <td>A</td>\n      <td>3</td>\n      <td></td>\n      <td>37.0</td>\n    </tr>\n    <tr>\n      <th>3</th>\n      <td>B</td>\n      <td>4</td>\n      <td></td>\n      <td>36.5</td>\n    </tr>\n    <tr>\n      <th>4</th>\n      <td>C</td>\n      <td>5</td>\n      <td>13</td>\n      <td>37.0</td>\n    </tr>\n    <tr>\n      <th>5</th>\n      <td>B</td>\n      <td>6</td>\n      <td>14</td>\n      <td>36.0</td>\n    </tr>\n    <tr>\n      <th>6</th>\n      <td>B</td>\n      <td>7</td>\n      <td></td>\n      <td>36.0</td>\n    </tr>\n    <tr>\n      <th>7</th>\n      <td>B</td>\n      <td>8</td>\n      <td>13</td>\n      <td>37.0</td>\n    </tr>\n    <tr>\n      <th>8</th>\n      <td>B</td>\n      <td>9</td>\n      <td>14</td>\n      <td>36.0</td>\n    </tr>\n    <tr>\n      <th>9</th>\n      <td>B</td>\n      <td>10</td>\n      <td>13</td>\n      <td>36.0</td>\n    </tr>\n    <tr>\n      <th>10</th>\n      <td>C</td>\n      <td>11</td>\n      <td>12</td>\n      <td>36.0</td>\n    </tr>\n    <tr>\n      <th>11</th>\n      <td>A</td>\n      <td>12</td>\n      <td>14</td>\n      <td>37.0</td>\n    </tr>\n    <tr>\n      <th>12</th>\n      <td>C</td>\n      <td>13</td>\n      <td>14</td>\n      <td>36.5</td>\n    </tr>\n    <tr>\n      <th>13</th>\n      <td>A</td>\n      <td>14</td>\n      <td>13</td>\n      <td>36.0</td>\n    </tr>\n    <tr>\n      <th>14</th>\n      <td>B</td>\n      <td>15</td>\n      <td></td>\n      <td>36.0</td>\n    </tr>\n    <tr>\n      <th>15</th>\n      <td>A</td>\n      <td>16</td>\n      <td></td>\n      <td>36.5</td>\n    </tr>\n    <tr>\n      <th>16</th>\n      <td>A</td>\n      <td>17</td>\n      <td></td>\n      <td>37.0</td>\n    </tr>\n    <tr>\n      <th>17</th>\n      <td>C</td>\n      <td>18</td>\n      <td>14</td>\n      <td>36.5</td>\n    </tr>\n    <tr>\n      <th>18</th>\n      <td>B</td>\n      <td>19</td>\n      <td></td>\n      <td>36.0</td>\n    </tr>\n    <tr>\n      <th>19</th>\n      <td>C</td>\n      <td>20</td>\n      <td>14</td>\n      <td>36.5</td>\n    </tr>\n  </tbody>\n</table>\n</div>"
     },
     "metadata": {},
     "execution_count": 39
    }
   ],
   "source": [
    "data = {\n",
    "    'class':[],\n",
    "    'no':[],\n",
    "    'age':[],\n",
    "    'tempture':[]\n",
    "}\n",
    "random.seed(0)\n",
    "for key in data:\n",
    "    for i in range(1,21):\n",
    "        if key == 'class':\n",
    "            data['class'].append(random.choice(['A','B','C']))\n",
    "        if key == 'no':\n",
    "            data['no'].append(i)\n",
    "        if key == 'age':\n",
    "            data['age'].append(random.choice([' ','12','13','14']))\n",
    "        if key == 'tempture':\n",
    "            data['tempture'].append(random.choice([36,36.5,37]))\n",
    "df_data = pd.DataFrame(data)\n",
    "df_data"
   ]
  },
  {
   "cell_type": "code",
   "execution_count": 24,
   "metadata": {},
   "outputs": [
    {
     "output_type": "execute_result",
     "data": {
      "text/plain": [
       "<bound method DataFrame.info of    class  no age tempture\n",
       "0      B   1  12     36.5\n",
       "1      B   2  13       36\n",
       "2      A   3           37\n",
       "3      B   4         36.5\n",
       "4      C   5  13       37\n",
       "5      B   6  14       36\n",
       "6      B   7           36\n",
       "7      B   8  13       37\n",
       "8      B   9  14       36\n",
       "9      B  10  13       36\n",
       "10     C  11  12       36\n",
       "11     A  12  14       37\n",
       "12     C  13  14     36.5\n",
       "13     A  14  13       36\n",
       "14     B  15           36\n",
       "15     A  16         36.5\n",
       "16     A  17           37\n",
       "17     C  18  14     36.5\n",
       "18     B  19           36\n",
       "19     C  20  14     36.5>"
      ]
     },
     "metadata": {},
     "execution_count": 24
    }
   ],
   "source": [
    "df_data.info"
   ]
  },
  {
   "cell_type": "code",
   "execution_count": 27,
   "metadata": {},
   "outputs": [
    {
     "output_type": "execute_result",
     "data": {
      "text/plain": [
       "0    B\n",
       "1    B\n",
       "2    A\n",
       "3    B\n",
       "4    C\n",
       "5    B\n",
       "6    B\n",
       "Name: class, dtype: object"
      ]
     },
     "metadata": {},
     "execution_count": 27
    }
   ],
   "source": [
    "#取指定數據\n",
    "class_ = df_data['class']\n",
    "class_[:7]"
   ]
  },
  {
   "cell_type": "code",
   "execution_count": 28,
   "metadata": {},
   "outputs": [
    {
     "output_type": "execute_result",
     "data": {
      "text/plain": [
       "RangeIndex(start=0, stop=20, step=1)"
      ]
     },
     "metadata": {},
     "execution_count": 28
    }
   ],
   "source": [
    "# series: part of dataframe\n",
    "class_.index"
   ]
  },
  {
   "cell_type": "code",
   "execution_count": 29,
   "metadata": {},
   "outputs": [
    {
     "output_type": "execute_result",
     "data": {
      "text/plain": [
       "array(['B', 'B', 'A', 'B', 'C', 'B', 'B'], dtype=object)"
      ]
     },
     "metadata": {},
     "execution_count": 29
    }
   ],
   "source": [
    "class_.values[:7]"
   ]
  },
  {
   "cell_type": "code",
   "execution_count": 30,
   "metadata": {},
   "outputs": [
    {
     "output_type": "execute_result",
     "data": {
      "text/plain": [
       "  class  no age tempture\n",
       "0     B   1  12     36.5\n",
       "1     B   2  13       36\n",
       "2     A   3           37\n",
       "3     B   4         36.5\n",
       "4     C   5  13       37"
      ],
      "text/html": "<div>\n<style scoped>\n    .dataframe tbody tr th:only-of-type {\n        vertical-align: middle;\n    }\n\n    .dataframe tbody tr th {\n        vertical-align: top;\n    }\n\n    .dataframe thead th {\n        text-align: right;\n    }\n</style>\n<table border=\"1\" class=\"dataframe\">\n  <thead>\n    <tr style=\"text-align: right;\">\n      <th></th>\n      <th>class</th>\n      <th>no</th>\n      <th>age</th>\n      <th>tempture</th>\n    </tr>\n  </thead>\n  <tbody>\n    <tr>\n      <th>0</th>\n      <td>B</td>\n      <td>1</td>\n      <td>12</td>\n      <td>36.5</td>\n    </tr>\n    <tr>\n      <th>1</th>\n      <td>B</td>\n      <td>2</td>\n      <td>13</td>\n      <td>36</td>\n    </tr>\n    <tr>\n      <th>2</th>\n      <td>A</td>\n      <td>3</td>\n      <td></td>\n      <td>37</td>\n    </tr>\n    <tr>\n      <th>3</th>\n      <td>B</td>\n      <td>4</td>\n      <td></td>\n      <td>36.5</td>\n    </tr>\n    <tr>\n      <th>4</th>\n      <td>C</td>\n      <td>5</td>\n      <td>13</td>\n      <td>37</td>\n    </tr>\n  </tbody>\n</table>\n</div>"
     },
     "metadata": {},
     "execution_count": 30
    }
   ],
   "source": [
    "df_data.head()"
   ]
  },
  {
   "cell_type": "code",
   "execution_count": 40,
   "metadata": {},
   "outputs": [
    {
     "output_type": "execute_result",
     "data": {
      "text/plain": [
       "   class age  tempture\n",
       "no                    \n",
       "1      B  12      36.5\n",
       "2      B  13      36.0\n",
       "3      A          37.0\n",
       "4      B          36.5\n",
       "5      C  13      37.0\n",
       "6      B  14      36.0\n",
       "7      B          36.0\n",
       "8      B  13      37.0\n",
       "9      B  14      36.0\n",
       "10     B  13      36.0\n",
       "11     C  12      36.0\n",
       "12     A  14      37.0\n",
       "13     C  14      36.5\n",
       "14     A  13      36.0\n",
       "15     B          36.0\n",
       "16     A          36.5\n",
       "17     A          37.0\n",
       "18     C  14      36.5\n",
       "19     B          36.0\n",
       "20     C  14      36.5"
      ],
      "text/html": "<div>\n<style scoped>\n    .dataframe tbody tr th:only-of-type {\n        vertical-align: middle;\n    }\n\n    .dataframe tbody tr th {\n        vertical-align: top;\n    }\n\n    .dataframe thead th {\n        text-align: right;\n    }\n</style>\n<table border=\"1\" class=\"dataframe\">\n  <thead>\n    <tr style=\"text-align: right;\">\n      <th></th>\n      <th>class</th>\n      <th>age</th>\n      <th>tempture</th>\n    </tr>\n    <tr>\n      <th>no</th>\n      <th></th>\n      <th></th>\n      <th></th>\n    </tr>\n  </thead>\n  <tbody>\n    <tr>\n      <th>1</th>\n      <td>B</td>\n      <td>12</td>\n      <td>36.5</td>\n    </tr>\n    <tr>\n      <th>2</th>\n      <td>B</td>\n      <td>13</td>\n      <td>36.0</td>\n    </tr>\n    <tr>\n      <th>3</th>\n      <td>A</td>\n      <td></td>\n      <td>37.0</td>\n    </tr>\n    <tr>\n      <th>4</th>\n      <td>B</td>\n      <td></td>\n      <td>36.5</td>\n    </tr>\n    <tr>\n      <th>5</th>\n      <td>C</td>\n      <td>13</td>\n      <td>37.0</td>\n    </tr>\n    <tr>\n      <th>6</th>\n      <td>B</td>\n      <td>14</td>\n      <td>36.0</td>\n    </tr>\n    <tr>\n      <th>7</th>\n      <td>B</td>\n      <td></td>\n      <td>36.0</td>\n    </tr>\n    <tr>\n      <th>8</th>\n      <td>B</td>\n      <td>13</td>\n      <td>37.0</td>\n    </tr>\n    <tr>\n      <th>9</th>\n      <td>B</td>\n      <td>14</td>\n      <td>36.0</td>\n    </tr>\n    <tr>\n      <th>10</th>\n      <td>B</td>\n      <td>13</td>\n      <td>36.0</td>\n    </tr>\n    <tr>\n      <th>11</th>\n      <td>C</td>\n      <td>12</td>\n      <td>36.0</td>\n    </tr>\n    <tr>\n      <th>12</th>\n      <td>A</td>\n      <td>14</td>\n      <td>37.0</td>\n    </tr>\n    <tr>\n      <th>13</th>\n      <td>C</td>\n      <td>14</td>\n      <td>36.5</td>\n    </tr>\n    <tr>\n      <th>14</th>\n      <td>A</td>\n      <td>13</td>\n      <td>36.0</td>\n    </tr>\n    <tr>\n      <th>15</th>\n      <td>B</td>\n      <td></td>\n      <td>36.0</td>\n    </tr>\n    <tr>\n      <th>16</th>\n      <td>A</td>\n      <td></td>\n      <td>36.5</td>\n    </tr>\n    <tr>\n      <th>17</th>\n      <td>A</td>\n      <td></td>\n      <td>37.0</td>\n    </tr>\n    <tr>\n      <th>18</th>\n      <td>C</td>\n      <td>14</td>\n      <td>36.5</td>\n    </tr>\n    <tr>\n      <th>19</th>\n      <td>B</td>\n      <td></td>\n      <td>36.0</td>\n    </tr>\n    <tr>\n      <th>20</th>\n      <td>C</td>\n      <td>14</td>\n      <td>36.5</td>\n    </tr>\n  </tbody>\n</table>\n</div>"
     },
     "metadata": {},
     "execution_count": 40
    }
   ],
   "source": [
    "df_data = df_data.set_index('no') # 更改原結構 被當索引的col 會從原col拿出\n",
    "df_data"
   ]
  },
  {
   "cell_type": "code",
   "execution_count": 41,
   "metadata": {},
   "outputs": [
    {
     "output_type": "execute_result",
     "data": {
      "text/plain": [
       "no\n",
       "1    36.5\n",
       "2    36.0\n",
       "3    37.0\n",
       "4    36.5\n",
       "5    37.0\n",
       "Name: tempture, dtype: float64"
      ]
     },
     "metadata": {},
     "execution_count": 41
    }
   ],
   "source": [
    "tempture = df_data['tempture']\n",
    "tempture[:5]"
   ]
  },
  {
   "cell_type": "code",
   "execution_count": 42,
   "metadata": {},
   "outputs": [
    {
     "output_type": "execute_result",
     "data": {
      "text/plain": [
       "37.0"
      ]
     },
     "metadata": {},
     "execution_count": 42
    }
   ],
   "source": [
    "tempture[5]"
   ]
  },
  {
   "cell_type": "code",
   "execution_count": 43,
   "metadata": {},
   "outputs": [
    {
     "output_type": "execute_result",
     "data": {
      "text/plain": [
       "no\n",
       "1    46.5\n",
       "2    46.0\n",
       "3    47.0\n",
       "4    46.5\n",
       "5    47.0\n",
       "Name: tempture, dtype: float64"
      ]
     },
     "metadata": {},
     "execution_count": 43
    }
   ],
   "source": [
    "tempture = tempture + 10\n",
    "tempture[:5]"
   ]
  },
  {
   "cell_type": "code",
   "execution_count": 44,
   "metadata": {},
   "outputs": [
    {
     "output_type": "execute_result",
     "data": {
      "text/plain": [
       "46.4"
      ]
     },
     "metadata": {},
     "execution_count": 44
    }
   ],
   "source": [
    "tempture.mean()"
   ]
  },
  {
   "cell_type": "code",
   "execution_count": 45,
   "metadata": {},
   "outputs": [
    {
     "output_type": "execute_result",
     "data": {
      "text/plain": [
       "46.0"
      ]
     },
     "metadata": {},
     "execution_count": 45
    }
   ],
   "source": [
    "tempture.min()"
   ]
  },
  {
   "cell_type": "code",
   "execution_count": 46,
   "metadata": {},
   "outputs": [
    {
     "output_type": "execute_result",
     "data": {
      "text/plain": [
       "47.0"
      ]
     },
     "metadata": {},
     "execution_count": 46
    }
   ],
   "source": [
    "tempture.max()"
   ]
  },
  {
   "cell_type": "code",
   "execution_count": 48,
   "metadata": {},
   "outputs": [
    {
     "output_type": "execute_result",
     "data": {
      "text/plain": [
       "        tempture\n",
       "count  20.000000\n",
       "mean   36.400000\n",
       "std     0.416754\n",
       "min    36.000000\n",
       "25%    36.000000\n",
       "50%    36.500000\n",
       "75%    36.625000\n",
       "max    37.000000"
      ],
      "text/html": "<div>\n<style scoped>\n    .dataframe tbody tr th:only-of-type {\n        vertical-align: middle;\n    }\n\n    .dataframe tbody tr th {\n        vertical-align: top;\n    }\n\n    .dataframe thead th {\n        text-align: right;\n    }\n</style>\n<table border=\"1\" class=\"dataframe\">\n  <thead>\n    <tr style=\"text-align: right;\">\n      <th></th>\n      <th>tempture</th>\n    </tr>\n  </thead>\n  <tbody>\n    <tr>\n      <th>count</th>\n      <td>20.000000</td>\n    </tr>\n    <tr>\n      <th>mean</th>\n      <td>36.400000</td>\n    </tr>\n    <tr>\n      <th>std</th>\n      <td>0.416754</td>\n    </tr>\n    <tr>\n      <th>min</th>\n      <td>36.000000</td>\n    </tr>\n    <tr>\n      <th>25%</th>\n      <td>36.000000</td>\n    </tr>\n    <tr>\n      <th>50%</th>\n      <td>36.500000</td>\n    </tr>\n    <tr>\n      <th>75%</th>\n      <td>36.625000</td>\n    </tr>\n    <tr>\n      <th>max</th>\n      <td>37.000000</td>\n    </tr>\n  </tbody>\n</table>\n</div>"
     },
     "metadata": {},
     "execution_count": 48
    }
   ],
   "source": [
    "des = df_data.describe() # 有數值得列會統計出來  字串不會\n",
    "des"
   ]
  },
  {
   "cell_type": "code",
   "execution_count": 50,
   "metadata": {},
   "outputs": [
    {
     "output_type": "execute_result",
     "data": {
      "text/plain": [
       "0.41675437673324534"
      ]
     },
     "metadata": {},
     "execution_count": 50
    }
   ],
   "source": [
    "des['tempture']['std']"
   ]
  },
  {
   "cell_type": "code",
   "execution_count": null,
   "metadata": {},
   "outputs": [],
   "source": []
  }
 ]
}