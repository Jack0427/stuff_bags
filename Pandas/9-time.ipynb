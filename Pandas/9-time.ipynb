{
 "metadata": {
  "language_info": {
   "codemirror_mode": {
    "name": "ipython",
    "version": 3
   },
   "file_extension": ".py",
   "mimetype": "text/x-python",
   "name": "python",
   "nbconvert_exporter": "python",
   "pygments_lexer": "ipython3",
   "version": "3.8.5"
  },
  "orig_nbformat": 4,
  "kernelspec": {
   "name": "python3",
   "display_name": "Python 3.8.5 64-bit"
  },
  "interpreter": {
   "hash": "4eaf1be304415beee96765ae99c3f893cc8312c7f1196698e6029668e9aeb3e5"
  }
 },
 "nbformat": 4,
 "nbformat_minor": 2,
 "cells": [
  {
   "cell_type": "code",
   "execution_count": 3,
   "metadata": {},
   "outputs": [],
   "source": [
    "import pandas as pd\n",
    "from datetime import datetime"
   ]
  },
  {
   "cell_type": "code",
   "execution_count": 4,
   "metadata": {},
   "outputs": [
    {
     "output_type": "execute_result",
     "data": {
      "text/plain": [
       "datetime.datetime(2021, 4, 20, 11, 5)"
      ]
     },
     "metadata": {},
     "execution_count": 4
    }
   ],
   "source": [
    "dt = datetime(year=2021,month=4,day=20,hour=11,minute=5)\n",
    "dt"
   ]
  },
  {
   "cell_type": "code",
   "execution_count": 5,
   "metadata": {},
   "outputs": [
    {
     "output_type": "stream",
     "name": "stdout",
     "text": [
      "2021-04-20 11:05:00\n"
     ]
    }
   ],
   "source": [
    "print(dt)"
   ]
  },
  {
   "cell_type": "code",
   "execution_count": 6,
   "metadata": {},
   "outputs": [
    {
     "output_type": "execute_result",
     "data": {
      "text/plain": [
       "Timestamp('2021-07-20 00:00:00')"
      ]
     },
     "metadata": {},
     "execution_count": 6
    }
   ],
   "source": [
    "ts = pd.Timestamp('2021-7-20')\n",
    "ts"
   ]
  },
  {
   "cell_type": "code",
   "execution_count": 7,
   "metadata": {},
   "outputs": [
    {
     "output_type": "stream",
     "name": "stdout",
     "text": [
      "7\n20\n"
     ]
    }
   ],
   "source": [
    "print(ts.month)\n",
    "print(ts.day)"
   ]
  },
  {
   "cell_type": "code",
   "execution_count": 9,
   "metadata": {},
   "outputs": [
    {
     "output_type": "execute_result",
     "data": {
      "text/plain": [
       "Timestamp('2021-07-25 00:00:00')"
      ]
     },
     "metadata": {},
     "execution_count": 9
    }
   ],
   "source": [
    "ts + pd.Timedelta('5 days')"
   ]
  },
  {
   "cell_type": "code",
   "execution_count": 10,
   "metadata": {},
   "outputs": [
    {
     "output_type": "execute_result",
     "data": {
      "text/plain": [
       "Timestamp('2021-07-20 00:00:00')"
      ]
     },
     "metadata": {},
     "execution_count": 10
    }
   ],
   "source": [
    "pd.to_datetime('2021-07-20')"
   ]
  },
  {
   "cell_type": "code",
   "execution_count": 11,
   "metadata": {},
   "outputs": [
    {
     "output_type": "execute_result",
     "data": {
      "text/plain": [
       "Timestamp('2021-07-24 00:00:00')"
      ]
     },
     "metadata": {},
     "execution_count": 11
    }
   ],
   "source": [
    "pd.to_datetime('24/07/2021')"
   ]
  },
  {
   "cell_type": "code",
   "execution_count": 12,
   "metadata": {},
   "outputs": [
    {
     "output_type": "execute_result",
     "data": {
      "text/plain": [
       "0    2021-07-21\n",
       "1    2021-07-22\n",
       "2    2021-07-23\n",
       "dtype: object"
      ]
     },
     "metadata": {},
     "execution_count": 12
    }
   ],
   "source": [
    "s = pd.Series(['2021-07-21','2021-07-22','2021-07-23'])\n",
    "s"
   ]
  },
  {
   "cell_type": "code",
   "execution_count": 13,
   "metadata": {},
   "outputs": [
    {
     "output_type": "execute_result",
     "data": {
      "text/plain": [
       "0   2021-07-21\n",
       "1   2021-07-22\n",
       "2   2021-07-23\n",
       "dtype: datetime64[ns]"
      ]
     },
     "metadata": {},
     "execution_count": 13
    }
   ],
   "source": [
    "ts = pd.to_datetime(s)\n",
    "ts"
   ]
  },
  {
   "cell_type": "code",
   "execution_count": 14,
   "metadata": {},
   "outputs": [
    {
     "output_type": "execute_result",
     "data": {
      "text/plain": [
       "0    21\n",
       "1    22\n",
       "2    23\n",
       "dtype: int64"
      ]
     },
     "metadata": {},
     "execution_count": 14
    }
   ],
   "source": [
    "ts.dt.day"
   ]
  },
  {
   "cell_type": "code",
   "execution_count": 15,
   "metadata": {},
   "outputs": [
    {
     "output_type": "execute_result",
     "data": {
      "text/plain": [
       "0    2\n",
       "1    3\n",
       "2    4\n",
       "dtype: int64"
      ]
     },
     "metadata": {},
     "execution_count": 15
    }
   ],
   "source": [
    "ts.dt.weekday"
   ]
  },
  {
   "cell_type": "code",
   "execution_count": 16,
   "metadata": {},
   "outputs": [
    {
     "output_type": "execute_result",
     "data": {
      "text/plain": [
       "0   2021-07-01 00:00:00\n",
       "1   2021-07-01 12:00:00\n",
       "2   2021-07-02 00:00:00\n",
       "3   2021-07-02 12:00:00\n",
       "4   2021-07-03 00:00:00\n",
       "5   2021-07-03 12:00:00\n",
       "6   2021-07-04 00:00:00\n",
       "7   2021-07-04 12:00:00\n",
       "8   2021-07-05 00:00:00\n",
       "9   2021-07-05 12:00:00\n",
       "dtype: datetime64[ns]"
      ]
     },
     "metadata": {},
     "execution_count": 16
    }
   ],
   "source": [
    "pd.Series(pd.date_range(start='2021-07-01',periods=10, freq='12H'))"
   ]
  },
  {
   "cell_type": "code",
   "execution_count": 17,
   "metadata": {},
   "outputs": [
    {
     "output_type": "execute_result",
     "data": {
      "text/plain": [
       "   ObsTime  StnPres  SeaPres  StnPresMax   StnPresMaxTime  StnPresMin  \\\n",
       "0        1   1008.7   1018.9      1017.7   2020/1/1 09:33       999.6   \n",
       "1        2   1010.5   1020.6      1017.8  2020/2/21 09:02      1001.7   \n",
       "2        3   1005.3   1015.3      1011.6  2020/3/16 08:59       995.5   \n",
       "3        4   1005.7   1015.7      1010.9   2020/4/2 09:51      1000.6   \n",
       "4        5    999.4   1009.2      1005.0   2020/5/1 08:49       992.7   \n",
       "\n",
       "    StnPresMinTime  Temperature  T Max       T Max Time  ...  Precp1DayMax  \\\n",
       "0  2020/1/26 13:39         18.0   29.0  2020/1/23 12:58  ...          20.0   \n",
       "1  2020/2/15 14:34         19.0   30.2  2020/2/26 12:12  ...           2.5   \n",
       "2   2020/3/9 14:36         22.3   33.2  2020/3/26 13:47  ...          23.5   \n",
       "3  2020/4/19 16:45         22.2   32.8  2020/4/19 12:57  ...          20.0   \n",
       "4  2020/5/17 15:52         27.5   36.9  2020/5/10 12:16  ...          61.0   \n",
       "\n",
       "  Precp1DayMaxTime  RH  EvapA  SunShine  GloblRad  UVI Max Mean UVI Max  \\\n",
       "0  2020/1/26 00:00  76   89.0     225.1    418.05           ...     ...   \n",
       "1  2020/2/15 00:00  72   82.0     212.5    446.52           ...     ...   \n",
       "2  2020/3/10 00:00  70  105.6     178.0    480.35           ...     ...   \n",
       "3   2020/4/2 00:00  70  100.7     154.5    493.50           ...     ...   \n",
       "4  2020/5/22 00:00  75  121.2     167.2    522.51           ...     ...   \n",
       "\n",
       "  UVI Max Time  Cloud Amount  \n",
       "0          ...           3.8  \n",
       "1          ...           4.0  \n",
       "2          ...           6.4  \n",
       "3          ...           6.4  \n",
       "4          ...           6.7  \n",
       "\n",
       "[5 rows x 35 columns]"
      ],
      "text/html": "<div>\n<style scoped>\n    .dataframe tbody tr th:only-of-type {\n        vertical-align: middle;\n    }\n\n    .dataframe tbody tr th {\n        vertical-align: top;\n    }\n\n    .dataframe thead th {\n        text-align: right;\n    }\n</style>\n<table border=\"1\" class=\"dataframe\">\n  <thead>\n    <tr style=\"text-align: right;\">\n      <th></th>\n      <th>ObsTime</th>\n      <th>StnPres</th>\n      <th>SeaPres</th>\n      <th>StnPresMax</th>\n      <th>StnPresMaxTime</th>\n      <th>StnPresMin</th>\n      <th>StnPresMinTime</th>\n      <th>Temperature</th>\n      <th>T Max</th>\n      <th>T Max Time</th>\n      <th>...</th>\n      <th>Precp1DayMax</th>\n      <th>Precp1DayMaxTime</th>\n      <th>RH</th>\n      <th>EvapA</th>\n      <th>SunShine</th>\n      <th>GloblRad</th>\n      <th>UVI Max Mean</th>\n      <th>UVI Max</th>\n      <th>UVI Max Time</th>\n      <th>Cloud Amount</th>\n    </tr>\n  </thead>\n  <tbody>\n    <tr>\n      <th>0</th>\n      <td>1</td>\n      <td>1008.7</td>\n      <td>1018.9</td>\n      <td>1017.7</td>\n      <td>2020/1/1 09:33</td>\n      <td>999.6</td>\n      <td>2020/1/26 13:39</td>\n      <td>18.0</td>\n      <td>29.0</td>\n      <td>2020/1/23 12:58</td>\n      <td>...</td>\n      <td>20.0</td>\n      <td>2020/1/26 00:00</td>\n      <td>76</td>\n      <td>89.0</td>\n      <td>225.1</td>\n      <td>418.05</td>\n      <td>...</td>\n      <td>...</td>\n      <td>...</td>\n      <td>3.8</td>\n    </tr>\n    <tr>\n      <th>1</th>\n      <td>2</td>\n      <td>1010.5</td>\n      <td>1020.6</td>\n      <td>1017.8</td>\n      <td>2020/2/21 09:02</td>\n      <td>1001.7</td>\n      <td>2020/2/15 14:34</td>\n      <td>19.0</td>\n      <td>30.2</td>\n      <td>2020/2/26 12:12</td>\n      <td>...</td>\n      <td>2.5</td>\n      <td>2020/2/15 00:00</td>\n      <td>72</td>\n      <td>82.0</td>\n      <td>212.5</td>\n      <td>446.52</td>\n      <td>...</td>\n      <td>...</td>\n      <td>...</td>\n      <td>4.0</td>\n    </tr>\n    <tr>\n      <th>2</th>\n      <td>3</td>\n      <td>1005.3</td>\n      <td>1015.3</td>\n      <td>1011.6</td>\n      <td>2020/3/16 08:59</td>\n      <td>995.5</td>\n      <td>2020/3/9 14:36</td>\n      <td>22.3</td>\n      <td>33.2</td>\n      <td>2020/3/26 13:47</td>\n      <td>...</td>\n      <td>23.5</td>\n      <td>2020/3/10 00:00</td>\n      <td>70</td>\n      <td>105.6</td>\n      <td>178.0</td>\n      <td>480.35</td>\n      <td>...</td>\n      <td>...</td>\n      <td>...</td>\n      <td>6.4</td>\n    </tr>\n    <tr>\n      <th>3</th>\n      <td>4</td>\n      <td>1005.7</td>\n      <td>1015.7</td>\n      <td>1010.9</td>\n      <td>2020/4/2 09:51</td>\n      <td>1000.6</td>\n      <td>2020/4/19 16:45</td>\n      <td>22.2</td>\n      <td>32.8</td>\n      <td>2020/4/19 12:57</td>\n      <td>...</td>\n      <td>20.0</td>\n      <td>2020/4/2 00:00</td>\n      <td>70</td>\n      <td>100.7</td>\n      <td>154.5</td>\n      <td>493.50</td>\n      <td>...</td>\n      <td>...</td>\n      <td>...</td>\n      <td>6.4</td>\n    </tr>\n    <tr>\n      <th>4</th>\n      <td>5</td>\n      <td>999.4</td>\n      <td>1009.2</td>\n      <td>1005.0</td>\n      <td>2020/5/1 08:49</td>\n      <td>992.7</td>\n      <td>2020/5/17 15:52</td>\n      <td>27.5</td>\n      <td>36.9</td>\n      <td>2020/5/10 12:16</td>\n      <td>...</td>\n      <td>61.0</td>\n      <td>2020/5/22 00:00</td>\n      <td>75</td>\n      <td>121.2</td>\n      <td>167.2</td>\n      <td>522.51</td>\n      <td>...</td>\n      <td>...</td>\n      <td>...</td>\n      <td>6.7</td>\n    </tr>\n  </tbody>\n</table>\n<p>5 rows × 35 columns</p>\n</div>"
     },
     "metadata": {},
     "execution_count": 17
    }
   ],
   "source": [
    "df = pd.read_csv('./climate2020.csv')\n",
    "df.head()"
   ]
  },
  {
   "cell_type": "code",
   "execution_count": 19,
   "metadata": {},
   "outputs": [
    {
     "output_type": "execute_result",
     "data": {
      "text/plain": [
       "                     ObsTime  StnPres  SeaPres  StnPresMax  StnPresMin  \\\n",
       "StnPresMaxTime                                                           \n",
       "2020-01-01 09:33:00        1   1008.7   1018.9      1017.7       999.6   \n",
       "2020-02-21 09:02:00        2   1010.5   1020.6      1017.8      1001.7   \n",
       "2020-03-16 08:59:00        3   1005.3   1015.3      1011.6       995.5   \n",
       "2020-04-02 09:51:00        4   1005.7   1015.7      1010.9      1000.6   \n",
       "2020-05-01 08:49:00        5    999.4   1009.2      1005.0       992.7   \n",
       "2020-06-15 00:04:00        6    999.1   1008.8      1004.7       994.8   \n",
       "2020-07-21 09:11:00        7    998.7   1008.3      1003.0       993.8   \n",
       "2020-08-12 21:54:00        8    997.5   1007.2      1006.0       991.6   \n",
       "2020-09-19 08:55:00        9    999.5   1009.2      1005.1       991.9   \n",
       "2020-10-29 08:40:00       10   1002.0   1011.8      1008.0       995.5   \n",
       "2020-11-28 09:21:00       11   1005.9   1015.8      1011.0       998.4   \n",
       "2020-12-31 09:37:00       12   1007.3   1017.4      1015.8      1000.7   \n",
       "\n",
       "                       StnPresMinTime  Temperature  T Max        T Max Time  \\\n",
       "StnPresMaxTime                                                                \n",
       "2020-01-01 09:33:00   2020/1/26 13:39         18.0   29.0   2020/1/23 12:58   \n",
       "2020-02-21 09:02:00   2020/2/15 14:34         19.0   30.2   2020/2/26 12:12   \n",
       "2020-03-16 08:59:00    2020/3/9 14:36         22.3   33.2   2020/3/26 13:47   \n",
       "2020-04-02 09:51:00   2020/4/19 16:45         22.2   32.8   2020/4/19 12:57   \n",
       "2020-05-01 08:49:00   2020/5/17 15:52         27.5   36.9   2020/5/10 12:16   \n",
       "2020-06-15 00:04:00   2020/6/12 16:17         29.1   35.1   2020/6/29 14:10   \n",
       "2020-07-21 09:11:00   2020/7/14 15:43         29.6   36.3   2020/7/31 13:00   \n",
       "2020-08-12 21:54:00   2020/8/25 15:04         28.5   35.2   2020/8/25 14:05   \n",
       "2020-09-19 08:55:00    2020/9/1 03:36         28.1   35.1    2020/9/7 13:35   \n",
       "2020-10-29 08:40:00  2020/10/21 14:44         26.1   34.8   2020/10/4 13:28   \n",
       "2020-11-28 09:21:00   2020/11/6 15:30         23.9   33.7  2020/11/21 13:38   \n",
       "2020-12-31 09:37:00  2020/12/28 15:16         19.5   28.5  2020/12/28 14:25   \n",
       "\n",
       "                     T Min  ... Precp1DayMax  Precp1DayMaxTime  RH  EvapA  \\\n",
       "StnPresMaxTime              ...                                             \n",
       "2020-01-01 09:33:00    6.9  ...         20.0   2020/1/26 00:00  76   89.0   \n",
       "2020-02-21 09:02:00    8.4  ...          2.5   2020/2/15 00:00  72   82.0   \n",
       "2020-03-16 08:59:00   14.5  ...         23.5   2020/3/10 00:00  70  105.6   \n",
       "2020-04-02 09:51:00   12.8  ...         20.0    2020/4/2 00:00  70  100.7   \n",
       "2020-05-01 08:49:00   21.8  ...         61.0   2020/5/22 00:00  75  121.2   \n",
       "2020-06-15 00:04:00   22.0  ...         99.0   2020/6/14 00:00  70  121.8   \n",
       "2020-07-21 09:11:00   24.0  ...         28.0    2020/7/2 00:00  74  137.2   \n",
       "2020-08-12 21:54:00   23.2  ...         70.0    2020/8/3 00:00  75  112.6   \n",
       "2020-09-19 08:55:00   21.7  ...         54.5   2020/9/13 00:00  71  111.5   \n",
       "2020-10-29 08:40:00   19.7  ...          0.0   2020/10/1 00:00  69  132.4   \n",
       "2020-11-28 09:21:00   18.1  ...          3.0  2020/11/13 00:00  72   91.3   \n",
       "2020-12-31 09:37:00    9.1  ...         28.5   2020/12/9 00:00  77   81.4   \n",
       "\n",
       "                     SunShine  GloblRad UVI Max Mean UVI Max  UVI Max Time  \\\n",
       "StnPresMaxTime                                                               \n",
       "2020-01-01 09:33:00     225.1    418.05          ...     ...           ...   \n",
       "2020-02-21 09:02:00     212.5    446.52          ...     ...           ...   \n",
       "2020-03-16 08:59:00     178.0    480.35          ...     ...           ...   \n",
       "2020-04-02 09:51:00     154.5    493.50          ...     ...           ...   \n",
       "2020-05-01 08:49:00     167.2    522.51          ...     ...           ...   \n",
       "2020-06-15 00:04:00     211.9    609.28          ...     ...           ...   \n",
       "2020-07-21 09:11:00     215.1    614.72          ...     ...           ...   \n",
       "2020-08-12 21:54:00     174.5    526.22          ...     ...           ...   \n",
       "2020-09-19 08:55:00     198.6    512.50          ...     ...           ...   \n",
       "2020-10-29 08:40:00     220.1    506.06          ...     ...           ...   \n",
       "2020-11-28 09:21:00     182.9    376.24          ...     ...           ...   \n",
       "2020-12-31 09:37:00     156.2    338.25          ...     ...           ...   \n",
       "\n",
       "                     Cloud Amount  \n",
       "StnPresMaxTime                     \n",
       "2020-01-01 09:33:00           3.8  \n",
       "2020-02-21 09:02:00           4.0  \n",
       "2020-03-16 08:59:00           6.4  \n",
       "2020-04-02 09:51:00           6.4  \n",
       "2020-05-01 08:49:00           6.7  \n",
       "2020-06-15 00:04:00           5.4  \n",
       "2020-07-21 09:11:00           5.9  \n",
       "2020-08-12 21:54:00           6.3  \n",
       "2020-09-19 08:55:00           5.5  \n",
       "2020-10-29 08:40:00           5.0  \n",
       "2020-11-28 09:21:00           4.9  \n",
       "2020-12-31 09:37:00           6.6  \n",
       "\n",
       "[12 rows x 34 columns]"
      ],
      "text/html": "<div>\n<style scoped>\n    .dataframe tbody tr th:only-of-type {\n        vertical-align: middle;\n    }\n\n    .dataframe tbody tr th {\n        vertical-align: top;\n    }\n\n    .dataframe thead th {\n        text-align: right;\n    }\n</style>\n<table border=\"1\" class=\"dataframe\">\n  <thead>\n    <tr style=\"text-align: right;\">\n      <th></th>\n      <th>ObsTime</th>\n      <th>StnPres</th>\n      <th>SeaPres</th>\n      <th>StnPresMax</th>\n      <th>StnPresMin</th>\n      <th>StnPresMinTime</th>\n      <th>Temperature</th>\n      <th>T Max</th>\n      <th>T Max Time</th>\n      <th>T Min</th>\n      <th>...</th>\n      <th>Precp1DayMax</th>\n      <th>Precp1DayMaxTime</th>\n      <th>RH</th>\n      <th>EvapA</th>\n      <th>SunShine</th>\n      <th>GloblRad</th>\n      <th>UVI Max Mean</th>\n      <th>UVI Max</th>\n      <th>UVI Max Time</th>\n      <th>Cloud Amount</th>\n    </tr>\n    <tr>\n      <th>StnPresMaxTime</th>\n      <th></th>\n      <th></th>\n      <th></th>\n      <th></th>\n      <th></th>\n      <th></th>\n      <th></th>\n      <th></th>\n      <th></th>\n      <th></th>\n      <th></th>\n      <th></th>\n      <th></th>\n      <th></th>\n      <th></th>\n      <th></th>\n      <th></th>\n      <th></th>\n      <th></th>\n      <th></th>\n      <th></th>\n    </tr>\n  </thead>\n  <tbody>\n    <tr>\n      <th>2020-01-01 09:33:00</th>\n      <td>1</td>\n      <td>1008.7</td>\n      <td>1018.9</td>\n      <td>1017.7</td>\n      <td>999.6</td>\n      <td>2020/1/26 13:39</td>\n      <td>18.0</td>\n      <td>29.0</td>\n      <td>2020/1/23 12:58</td>\n      <td>6.9</td>\n      <td>...</td>\n      <td>20.0</td>\n      <td>2020/1/26 00:00</td>\n      <td>76</td>\n      <td>89.0</td>\n      <td>225.1</td>\n      <td>418.05</td>\n      <td>...</td>\n      <td>...</td>\n      <td>...</td>\n      <td>3.8</td>\n    </tr>\n    <tr>\n      <th>2020-02-21 09:02:00</th>\n      <td>2</td>\n      <td>1010.5</td>\n      <td>1020.6</td>\n      <td>1017.8</td>\n      <td>1001.7</td>\n      <td>2020/2/15 14:34</td>\n      <td>19.0</td>\n      <td>30.2</td>\n      <td>2020/2/26 12:12</td>\n      <td>8.4</td>\n      <td>...</td>\n      <td>2.5</td>\n      <td>2020/2/15 00:00</td>\n      <td>72</td>\n      <td>82.0</td>\n      <td>212.5</td>\n      <td>446.52</td>\n      <td>...</td>\n      <td>...</td>\n      <td>...</td>\n      <td>4.0</td>\n    </tr>\n    <tr>\n      <th>2020-03-16 08:59:00</th>\n      <td>3</td>\n      <td>1005.3</td>\n      <td>1015.3</td>\n      <td>1011.6</td>\n      <td>995.5</td>\n      <td>2020/3/9 14:36</td>\n      <td>22.3</td>\n      <td>33.2</td>\n      <td>2020/3/26 13:47</td>\n      <td>14.5</td>\n      <td>...</td>\n      <td>23.5</td>\n      <td>2020/3/10 00:00</td>\n      <td>70</td>\n      <td>105.6</td>\n      <td>178.0</td>\n      <td>480.35</td>\n      <td>...</td>\n      <td>...</td>\n      <td>...</td>\n      <td>6.4</td>\n    </tr>\n    <tr>\n      <th>2020-04-02 09:51:00</th>\n      <td>4</td>\n      <td>1005.7</td>\n      <td>1015.7</td>\n      <td>1010.9</td>\n      <td>1000.6</td>\n      <td>2020/4/19 16:45</td>\n      <td>22.2</td>\n      <td>32.8</td>\n      <td>2020/4/19 12:57</td>\n      <td>12.8</td>\n      <td>...</td>\n      <td>20.0</td>\n      <td>2020/4/2 00:00</td>\n      <td>70</td>\n      <td>100.7</td>\n      <td>154.5</td>\n      <td>493.50</td>\n      <td>...</td>\n      <td>...</td>\n      <td>...</td>\n      <td>6.4</td>\n    </tr>\n    <tr>\n      <th>2020-05-01 08:49:00</th>\n      <td>5</td>\n      <td>999.4</td>\n      <td>1009.2</td>\n      <td>1005.0</td>\n      <td>992.7</td>\n      <td>2020/5/17 15:52</td>\n      <td>27.5</td>\n      <td>36.9</td>\n      <td>2020/5/10 12:16</td>\n      <td>21.8</td>\n      <td>...</td>\n      <td>61.0</td>\n      <td>2020/5/22 00:00</td>\n      <td>75</td>\n      <td>121.2</td>\n      <td>167.2</td>\n      <td>522.51</td>\n      <td>...</td>\n      <td>...</td>\n      <td>...</td>\n      <td>6.7</td>\n    </tr>\n    <tr>\n      <th>2020-06-15 00:04:00</th>\n      <td>6</td>\n      <td>999.1</td>\n      <td>1008.8</td>\n      <td>1004.7</td>\n      <td>994.8</td>\n      <td>2020/6/12 16:17</td>\n      <td>29.1</td>\n      <td>35.1</td>\n      <td>2020/6/29 14:10</td>\n      <td>22.0</td>\n      <td>...</td>\n      <td>99.0</td>\n      <td>2020/6/14 00:00</td>\n      <td>70</td>\n      <td>121.8</td>\n      <td>211.9</td>\n      <td>609.28</td>\n      <td>...</td>\n      <td>...</td>\n      <td>...</td>\n      <td>5.4</td>\n    </tr>\n    <tr>\n      <th>2020-07-21 09:11:00</th>\n      <td>7</td>\n      <td>998.7</td>\n      <td>1008.3</td>\n      <td>1003.0</td>\n      <td>993.8</td>\n      <td>2020/7/14 15:43</td>\n      <td>29.6</td>\n      <td>36.3</td>\n      <td>2020/7/31 13:00</td>\n      <td>24.0</td>\n      <td>...</td>\n      <td>28.0</td>\n      <td>2020/7/2 00:00</td>\n      <td>74</td>\n      <td>137.2</td>\n      <td>215.1</td>\n      <td>614.72</td>\n      <td>...</td>\n      <td>...</td>\n      <td>...</td>\n      <td>5.9</td>\n    </tr>\n    <tr>\n      <th>2020-08-12 21:54:00</th>\n      <td>8</td>\n      <td>997.5</td>\n      <td>1007.2</td>\n      <td>1006.0</td>\n      <td>991.6</td>\n      <td>2020/8/25 15:04</td>\n      <td>28.5</td>\n      <td>35.2</td>\n      <td>2020/8/25 14:05</td>\n      <td>23.2</td>\n      <td>...</td>\n      <td>70.0</td>\n      <td>2020/8/3 00:00</td>\n      <td>75</td>\n      <td>112.6</td>\n      <td>174.5</td>\n      <td>526.22</td>\n      <td>...</td>\n      <td>...</td>\n      <td>...</td>\n      <td>6.3</td>\n    </tr>\n    <tr>\n      <th>2020-09-19 08:55:00</th>\n      <td>9</td>\n      <td>999.5</td>\n      <td>1009.2</td>\n      <td>1005.1</td>\n      <td>991.9</td>\n      <td>2020/9/1 03:36</td>\n      <td>28.1</td>\n      <td>35.1</td>\n      <td>2020/9/7 13:35</td>\n      <td>21.7</td>\n      <td>...</td>\n      <td>54.5</td>\n      <td>2020/9/13 00:00</td>\n      <td>71</td>\n      <td>111.5</td>\n      <td>198.6</td>\n      <td>512.50</td>\n      <td>...</td>\n      <td>...</td>\n      <td>...</td>\n      <td>5.5</td>\n    </tr>\n    <tr>\n      <th>2020-10-29 08:40:00</th>\n      <td>10</td>\n      <td>1002.0</td>\n      <td>1011.8</td>\n      <td>1008.0</td>\n      <td>995.5</td>\n      <td>2020/10/21 14:44</td>\n      <td>26.1</td>\n      <td>34.8</td>\n      <td>2020/10/4 13:28</td>\n      <td>19.7</td>\n      <td>...</td>\n      <td>0.0</td>\n      <td>2020/10/1 00:00</td>\n      <td>69</td>\n      <td>132.4</td>\n      <td>220.1</td>\n      <td>506.06</td>\n      <td>...</td>\n      <td>...</td>\n      <td>...</td>\n      <td>5.0</td>\n    </tr>\n    <tr>\n      <th>2020-11-28 09:21:00</th>\n      <td>11</td>\n      <td>1005.9</td>\n      <td>1015.8</td>\n      <td>1011.0</td>\n      <td>998.4</td>\n      <td>2020/11/6 15:30</td>\n      <td>23.9</td>\n      <td>33.7</td>\n      <td>2020/11/21 13:38</td>\n      <td>18.1</td>\n      <td>...</td>\n      <td>3.0</td>\n      <td>2020/11/13 00:00</td>\n      <td>72</td>\n      <td>91.3</td>\n      <td>182.9</td>\n      <td>376.24</td>\n      <td>...</td>\n      <td>...</td>\n      <td>...</td>\n      <td>4.9</td>\n    </tr>\n    <tr>\n      <th>2020-12-31 09:37:00</th>\n      <td>12</td>\n      <td>1007.3</td>\n      <td>1017.4</td>\n      <td>1015.8</td>\n      <td>1000.7</td>\n      <td>2020/12/28 15:16</td>\n      <td>19.5</td>\n      <td>28.5</td>\n      <td>2020/12/28 14:25</td>\n      <td>9.1</td>\n      <td>...</td>\n      <td>28.5</td>\n      <td>2020/12/9 00:00</td>\n      <td>77</td>\n      <td>81.4</td>\n      <td>156.2</td>\n      <td>338.25</td>\n      <td>...</td>\n      <td>...</td>\n      <td>...</td>\n      <td>6.6</td>\n    </tr>\n  </tbody>\n</table>\n<p>12 rows × 34 columns</p>\n</div>"
     },
     "metadata": {},
     "execution_count": 19
    }
   ],
   "source": [
    "df['StnPresMaxTime'] = pd.to_datetime(df['StnPresMaxTime'])\n",
    "df = df.set_index('StnPresMaxTime')\n",
    "df"
   ]
  },
  {
   "cell_type": "code",
   "execution_count": 21,
   "metadata": {},
   "outputs": [
    {
     "output_type": "execute_result",
     "data": {
      "text/plain": [
       "                     ObsTime  StnPres  SeaPres  StnPresMax  StnPresMin  \\\n",
       "StnPresMaxTime                                                           \n",
       "2020-01-01 09:33:00        1   1008.7   1018.9      1017.7       999.6   \n",
       "2020-02-21 09:02:00        2   1010.5   1020.6      1017.8      1001.7   \n",
       "2020-03-16 08:59:00        3   1005.3   1015.3      1011.6       995.5   \n",
       "2020-04-02 09:51:00        4   1005.7   1015.7      1010.9      1000.6   \n",
       "2020-05-01 08:49:00        5    999.4   1009.2      1005.0       992.7   \n",
       "2020-06-15 00:04:00        6    999.1   1008.8      1004.7       994.8   \n",
       "2020-07-21 09:11:00        7    998.7   1008.3      1003.0       993.8   \n",
       "2020-08-12 21:54:00        8    997.5   1007.2      1006.0       991.6   \n",
       "2020-09-19 08:55:00        9    999.5   1009.2      1005.1       991.9   \n",
       "2020-10-29 08:40:00       10   1002.0   1011.8      1008.0       995.5   \n",
       "2020-11-28 09:21:00       11   1005.9   1015.8      1011.0       998.4   \n",
       "2020-12-31 09:37:00       12   1007.3   1017.4      1015.8      1000.7   \n",
       "\n",
       "                       StnPresMinTime  Temperature  T Max        T Max Time  \\\n",
       "StnPresMaxTime                                                                \n",
       "2020-01-01 09:33:00   2020/1/26 13:39         18.0   29.0   2020/1/23 12:58   \n",
       "2020-02-21 09:02:00   2020/2/15 14:34         19.0   30.2   2020/2/26 12:12   \n",
       "2020-03-16 08:59:00    2020/3/9 14:36         22.3   33.2   2020/3/26 13:47   \n",
       "2020-04-02 09:51:00   2020/4/19 16:45         22.2   32.8   2020/4/19 12:57   \n",
       "2020-05-01 08:49:00   2020/5/17 15:52         27.5   36.9   2020/5/10 12:16   \n",
       "2020-06-15 00:04:00   2020/6/12 16:17         29.1   35.1   2020/6/29 14:10   \n",
       "2020-07-21 09:11:00   2020/7/14 15:43         29.6   36.3   2020/7/31 13:00   \n",
       "2020-08-12 21:54:00   2020/8/25 15:04         28.5   35.2   2020/8/25 14:05   \n",
       "2020-09-19 08:55:00    2020/9/1 03:36         28.1   35.1    2020/9/7 13:35   \n",
       "2020-10-29 08:40:00  2020/10/21 14:44         26.1   34.8   2020/10/4 13:28   \n",
       "2020-11-28 09:21:00   2020/11/6 15:30         23.9   33.7  2020/11/21 13:38   \n",
       "2020-12-31 09:37:00  2020/12/28 15:16         19.5   28.5  2020/12/28 14:25   \n",
       "\n",
       "                     T Min  ... Precp1DayMax  Precp1DayMaxTime  RH  EvapA  \\\n",
       "StnPresMaxTime              ...                                             \n",
       "2020-01-01 09:33:00    6.9  ...         20.0   2020/1/26 00:00  76   89.0   \n",
       "2020-02-21 09:02:00    8.4  ...          2.5   2020/2/15 00:00  72   82.0   \n",
       "2020-03-16 08:59:00   14.5  ...         23.5   2020/3/10 00:00  70  105.6   \n",
       "2020-04-02 09:51:00   12.8  ...         20.0    2020/4/2 00:00  70  100.7   \n",
       "2020-05-01 08:49:00   21.8  ...         61.0   2020/5/22 00:00  75  121.2   \n",
       "2020-06-15 00:04:00   22.0  ...         99.0   2020/6/14 00:00  70  121.8   \n",
       "2020-07-21 09:11:00   24.0  ...         28.0    2020/7/2 00:00  74  137.2   \n",
       "2020-08-12 21:54:00   23.2  ...         70.0    2020/8/3 00:00  75  112.6   \n",
       "2020-09-19 08:55:00   21.7  ...         54.5   2020/9/13 00:00  71  111.5   \n",
       "2020-10-29 08:40:00   19.7  ...          0.0   2020/10/1 00:00  69  132.4   \n",
       "2020-11-28 09:21:00   18.1  ...          3.0  2020/11/13 00:00  72   91.3   \n",
       "2020-12-31 09:37:00    9.1  ...         28.5   2020/12/9 00:00  77   81.4   \n",
       "\n",
       "                     SunShine  GloblRad UVI Max Mean UVI Max  UVI Max Time  \\\n",
       "StnPresMaxTime                                                               \n",
       "2020-01-01 09:33:00     225.1    418.05          ...     ...           ...   \n",
       "2020-02-21 09:02:00     212.5    446.52          ...     ...           ...   \n",
       "2020-03-16 08:59:00     178.0    480.35          ...     ...           ...   \n",
       "2020-04-02 09:51:00     154.5    493.50          ...     ...           ...   \n",
       "2020-05-01 08:49:00     167.2    522.51          ...     ...           ...   \n",
       "2020-06-15 00:04:00     211.9    609.28          ...     ...           ...   \n",
       "2020-07-21 09:11:00     215.1    614.72          ...     ...           ...   \n",
       "2020-08-12 21:54:00     174.5    526.22          ...     ...           ...   \n",
       "2020-09-19 08:55:00     198.6    512.50          ...     ...           ...   \n",
       "2020-10-29 08:40:00     220.1    506.06          ...     ...           ...   \n",
       "2020-11-28 09:21:00     182.9    376.24          ...     ...           ...   \n",
       "2020-12-31 09:37:00     156.2    338.25          ...     ...           ...   \n",
       "\n",
       "                     Cloud Amount  \n",
       "StnPresMaxTime                     \n",
       "2020-01-01 09:33:00           3.8  \n",
       "2020-02-21 09:02:00           4.0  \n",
       "2020-03-16 08:59:00           6.4  \n",
       "2020-04-02 09:51:00           6.4  \n",
       "2020-05-01 08:49:00           6.7  \n",
       "2020-06-15 00:04:00           5.4  \n",
       "2020-07-21 09:11:00           5.9  \n",
       "2020-08-12 21:54:00           6.3  \n",
       "2020-09-19 08:55:00           5.5  \n",
       "2020-10-29 08:40:00           5.0  \n",
       "2020-11-28 09:21:00           4.9  \n",
       "2020-12-31 09:37:00           6.6  \n",
       "\n",
       "[12 rows x 34 columns]"
      ],
      "text/html": "<div>\n<style scoped>\n    .dataframe tbody tr th:only-of-type {\n        vertical-align: middle;\n    }\n\n    .dataframe tbody tr th {\n        vertical-align: top;\n    }\n\n    .dataframe thead th {\n        text-align: right;\n    }\n</style>\n<table border=\"1\" class=\"dataframe\">\n  <thead>\n    <tr style=\"text-align: right;\">\n      <th></th>\n      <th>ObsTime</th>\n      <th>StnPres</th>\n      <th>SeaPres</th>\n      <th>StnPresMax</th>\n      <th>StnPresMin</th>\n      <th>StnPresMinTime</th>\n      <th>Temperature</th>\n      <th>T Max</th>\n      <th>T Max Time</th>\n      <th>T Min</th>\n      <th>...</th>\n      <th>Precp1DayMax</th>\n      <th>Precp1DayMaxTime</th>\n      <th>RH</th>\n      <th>EvapA</th>\n      <th>SunShine</th>\n      <th>GloblRad</th>\n      <th>UVI Max Mean</th>\n      <th>UVI Max</th>\n      <th>UVI Max Time</th>\n      <th>Cloud Amount</th>\n    </tr>\n    <tr>\n      <th>StnPresMaxTime</th>\n      <th></th>\n      <th></th>\n      <th></th>\n      <th></th>\n      <th></th>\n      <th></th>\n      <th></th>\n      <th></th>\n      <th></th>\n      <th></th>\n      <th></th>\n      <th></th>\n      <th></th>\n      <th></th>\n      <th></th>\n      <th></th>\n      <th></th>\n      <th></th>\n      <th></th>\n      <th></th>\n      <th></th>\n    </tr>\n  </thead>\n  <tbody>\n    <tr>\n      <th>2020-01-01 09:33:00</th>\n      <td>1</td>\n      <td>1008.7</td>\n      <td>1018.9</td>\n      <td>1017.7</td>\n      <td>999.6</td>\n      <td>2020/1/26 13:39</td>\n      <td>18.0</td>\n      <td>29.0</td>\n      <td>2020/1/23 12:58</td>\n      <td>6.9</td>\n      <td>...</td>\n      <td>20.0</td>\n      <td>2020/1/26 00:00</td>\n      <td>76</td>\n      <td>89.0</td>\n      <td>225.1</td>\n      <td>418.05</td>\n      <td>...</td>\n      <td>...</td>\n      <td>...</td>\n      <td>3.8</td>\n    </tr>\n    <tr>\n      <th>2020-02-21 09:02:00</th>\n      <td>2</td>\n      <td>1010.5</td>\n      <td>1020.6</td>\n      <td>1017.8</td>\n      <td>1001.7</td>\n      <td>2020/2/15 14:34</td>\n      <td>19.0</td>\n      <td>30.2</td>\n      <td>2020/2/26 12:12</td>\n      <td>8.4</td>\n      <td>...</td>\n      <td>2.5</td>\n      <td>2020/2/15 00:00</td>\n      <td>72</td>\n      <td>82.0</td>\n      <td>212.5</td>\n      <td>446.52</td>\n      <td>...</td>\n      <td>...</td>\n      <td>...</td>\n      <td>4.0</td>\n    </tr>\n    <tr>\n      <th>2020-03-16 08:59:00</th>\n      <td>3</td>\n      <td>1005.3</td>\n      <td>1015.3</td>\n      <td>1011.6</td>\n      <td>995.5</td>\n      <td>2020/3/9 14:36</td>\n      <td>22.3</td>\n      <td>33.2</td>\n      <td>2020/3/26 13:47</td>\n      <td>14.5</td>\n      <td>...</td>\n      <td>23.5</td>\n      <td>2020/3/10 00:00</td>\n      <td>70</td>\n      <td>105.6</td>\n      <td>178.0</td>\n      <td>480.35</td>\n      <td>...</td>\n      <td>...</td>\n      <td>...</td>\n      <td>6.4</td>\n    </tr>\n    <tr>\n      <th>2020-04-02 09:51:00</th>\n      <td>4</td>\n      <td>1005.7</td>\n      <td>1015.7</td>\n      <td>1010.9</td>\n      <td>1000.6</td>\n      <td>2020/4/19 16:45</td>\n      <td>22.2</td>\n      <td>32.8</td>\n      <td>2020/4/19 12:57</td>\n      <td>12.8</td>\n      <td>...</td>\n      <td>20.0</td>\n      <td>2020/4/2 00:00</td>\n      <td>70</td>\n      <td>100.7</td>\n      <td>154.5</td>\n      <td>493.50</td>\n      <td>...</td>\n      <td>...</td>\n      <td>...</td>\n      <td>6.4</td>\n    </tr>\n    <tr>\n      <th>2020-05-01 08:49:00</th>\n      <td>5</td>\n      <td>999.4</td>\n      <td>1009.2</td>\n      <td>1005.0</td>\n      <td>992.7</td>\n      <td>2020/5/17 15:52</td>\n      <td>27.5</td>\n      <td>36.9</td>\n      <td>2020/5/10 12:16</td>\n      <td>21.8</td>\n      <td>...</td>\n      <td>61.0</td>\n      <td>2020/5/22 00:00</td>\n      <td>75</td>\n      <td>121.2</td>\n      <td>167.2</td>\n      <td>522.51</td>\n      <td>...</td>\n      <td>...</td>\n      <td>...</td>\n      <td>6.7</td>\n    </tr>\n    <tr>\n      <th>2020-06-15 00:04:00</th>\n      <td>6</td>\n      <td>999.1</td>\n      <td>1008.8</td>\n      <td>1004.7</td>\n      <td>994.8</td>\n      <td>2020/6/12 16:17</td>\n      <td>29.1</td>\n      <td>35.1</td>\n      <td>2020/6/29 14:10</td>\n      <td>22.0</td>\n      <td>...</td>\n      <td>99.0</td>\n      <td>2020/6/14 00:00</td>\n      <td>70</td>\n      <td>121.8</td>\n      <td>211.9</td>\n      <td>609.28</td>\n      <td>...</td>\n      <td>...</td>\n      <td>...</td>\n      <td>5.4</td>\n    </tr>\n    <tr>\n      <th>2020-07-21 09:11:00</th>\n      <td>7</td>\n      <td>998.7</td>\n      <td>1008.3</td>\n      <td>1003.0</td>\n      <td>993.8</td>\n      <td>2020/7/14 15:43</td>\n      <td>29.6</td>\n      <td>36.3</td>\n      <td>2020/7/31 13:00</td>\n      <td>24.0</td>\n      <td>...</td>\n      <td>28.0</td>\n      <td>2020/7/2 00:00</td>\n      <td>74</td>\n      <td>137.2</td>\n      <td>215.1</td>\n      <td>614.72</td>\n      <td>...</td>\n      <td>...</td>\n      <td>...</td>\n      <td>5.9</td>\n    </tr>\n    <tr>\n      <th>2020-08-12 21:54:00</th>\n      <td>8</td>\n      <td>997.5</td>\n      <td>1007.2</td>\n      <td>1006.0</td>\n      <td>991.6</td>\n      <td>2020/8/25 15:04</td>\n      <td>28.5</td>\n      <td>35.2</td>\n      <td>2020/8/25 14:05</td>\n      <td>23.2</td>\n      <td>...</td>\n      <td>70.0</td>\n      <td>2020/8/3 00:00</td>\n      <td>75</td>\n      <td>112.6</td>\n      <td>174.5</td>\n      <td>526.22</td>\n      <td>...</td>\n      <td>...</td>\n      <td>...</td>\n      <td>6.3</td>\n    </tr>\n    <tr>\n      <th>2020-09-19 08:55:00</th>\n      <td>9</td>\n      <td>999.5</td>\n      <td>1009.2</td>\n      <td>1005.1</td>\n      <td>991.9</td>\n      <td>2020/9/1 03:36</td>\n      <td>28.1</td>\n      <td>35.1</td>\n      <td>2020/9/7 13:35</td>\n      <td>21.7</td>\n      <td>...</td>\n      <td>54.5</td>\n      <td>2020/9/13 00:00</td>\n      <td>71</td>\n      <td>111.5</td>\n      <td>198.6</td>\n      <td>512.50</td>\n      <td>...</td>\n      <td>...</td>\n      <td>...</td>\n      <td>5.5</td>\n    </tr>\n    <tr>\n      <th>2020-10-29 08:40:00</th>\n      <td>10</td>\n      <td>1002.0</td>\n      <td>1011.8</td>\n      <td>1008.0</td>\n      <td>995.5</td>\n      <td>2020/10/21 14:44</td>\n      <td>26.1</td>\n      <td>34.8</td>\n      <td>2020/10/4 13:28</td>\n      <td>19.7</td>\n      <td>...</td>\n      <td>0.0</td>\n      <td>2020/10/1 00:00</td>\n      <td>69</td>\n      <td>132.4</td>\n      <td>220.1</td>\n      <td>506.06</td>\n      <td>...</td>\n      <td>...</td>\n      <td>...</td>\n      <td>5.0</td>\n    </tr>\n    <tr>\n      <th>2020-11-28 09:21:00</th>\n      <td>11</td>\n      <td>1005.9</td>\n      <td>1015.8</td>\n      <td>1011.0</td>\n      <td>998.4</td>\n      <td>2020/11/6 15:30</td>\n      <td>23.9</td>\n      <td>33.7</td>\n      <td>2020/11/21 13:38</td>\n      <td>18.1</td>\n      <td>...</td>\n      <td>3.0</td>\n      <td>2020/11/13 00:00</td>\n      <td>72</td>\n      <td>91.3</td>\n      <td>182.9</td>\n      <td>376.24</td>\n      <td>...</td>\n      <td>...</td>\n      <td>...</td>\n      <td>4.9</td>\n    </tr>\n    <tr>\n      <th>2020-12-31 09:37:00</th>\n      <td>12</td>\n      <td>1007.3</td>\n      <td>1017.4</td>\n      <td>1015.8</td>\n      <td>1000.7</td>\n      <td>2020/12/28 15:16</td>\n      <td>19.5</td>\n      <td>28.5</td>\n      <td>2020/12/28 14:25</td>\n      <td>9.1</td>\n      <td>...</td>\n      <td>28.5</td>\n      <td>2020/12/9 00:00</td>\n      <td>77</td>\n      <td>81.4</td>\n      <td>156.2</td>\n      <td>338.25</td>\n      <td>...</td>\n      <td>...</td>\n      <td>...</td>\n      <td>6.6</td>\n    </tr>\n  </tbody>\n</table>\n<p>12 rows × 34 columns</p>\n</div>"
     },
     "metadata": {},
     "execution_count": 21
    }
   ],
   "source": [
    "df1 = pd.read_csv('./climate2020.csv',index_col=4,parse_dates=True)\n",
    "df1"
   ]
  },
  {
   "cell_type": "code",
   "execution_count": 23,
   "metadata": {},
   "outputs": [
    {
     "output_type": "execute_result",
     "data": {
      "text/plain": [
       "                     ObsTime  StnPres  SeaPres  StnPresMax  StnPresMin  \\\n",
       "StnPresMaxTime                                                           \n",
       "2020-03-16 08:59:00        3   1005.3   1015.3      1011.6       995.5   \n",
       "2020-04-02 09:51:00        4   1005.7   1015.7      1010.9      1000.6   \n",
       "2020-05-01 08:49:00        5    999.4   1009.2      1005.0       992.7   \n",
       "2020-06-15 00:04:00        6    999.1   1008.8      1004.7       994.8   \n",
       "2020-07-21 09:11:00        7    998.7   1008.3      1003.0       993.8   \n",
       "2020-08-12 21:54:00        8    997.5   1007.2      1006.0       991.6   \n",
       "2020-09-19 08:55:00        9    999.5   1009.2      1005.1       991.9   \n",
       "2020-10-29 08:40:00       10   1002.0   1011.8      1008.0       995.5   \n",
       "\n",
       "                       StnPresMinTime  Temperature  T Max       T Max Time  \\\n",
       "StnPresMaxTime                                                               \n",
       "2020-03-16 08:59:00    2020/3/9 14:36         22.3   33.2  2020/3/26 13:47   \n",
       "2020-04-02 09:51:00   2020/4/19 16:45         22.2   32.8  2020/4/19 12:57   \n",
       "2020-05-01 08:49:00   2020/5/17 15:52         27.5   36.9  2020/5/10 12:16   \n",
       "2020-06-15 00:04:00   2020/6/12 16:17         29.1   35.1  2020/6/29 14:10   \n",
       "2020-07-21 09:11:00   2020/7/14 15:43         29.6   36.3  2020/7/31 13:00   \n",
       "2020-08-12 21:54:00   2020/8/25 15:04         28.5   35.2  2020/8/25 14:05   \n",
       "2020-09-19 08:55:00    2020/9/1 03:36         28.1   35.1   2020/9/7 13:35   \n",
       "2020-10-29 08:40:00  2020/10/21 14:44         26.1   34.8  2020/10/4 13:28   \n",
       "\n",
       "                     T Min  ... Precp1DayMax  Precp1DayMaxTime  RH  EvapA  \\\n",
       "StnPresMaxTime              ...                                             \n",
       "2020-03-16 08:59:00   14.5  ...         23.5   2020/3/10 00:00  70  105.6   \n",
       "2020-04-02 09:51:00   12.8  ...         20.0    2020/4/2 00:00  70  100.7   \n",
       "2020-05-01 08:49:00   21.8  ...         61.0   2020/5/22 00:00  75  121.2   \n",
       "2020-06-15 00:04:00   22.0  ...         99.0   2020/6/14 00:00  70  121.8   \n",
       "2020-07-21 09:11:00   24.0  ...         28.0    2020/7/2 00:00  74  137.2   \n",
       "2020-08-12 21:54:00   23.2  ...         70.0    2020/8/3 00:00  75  112.6   \n",
       "2020-09-19 08:55:00   21.7  ...         54.5   2020/9/13 00:00  71  111.5   \n",
       "2020-10-29 08:40:00   19.7  ...          0.0   2020/10/1 00:00  69  132.4   \n",
       "\n",
       "                     SunShine  GloblRad UVI Max Mean UVI Max  UVI Max Time  \\\n",
       "StnPresMaxTime                                                               \n",
       "2020-03-16 08:59:00     178.0    480.35          ...     ...           ...   \n",
       "2020-04-02 09:51:00     154.5    493.50          ...     ...           ...   \n",
       "2020-05-01 08:49:00     167.2    522.51          ...     ...           ...   \n",
       "2020-06-15 00:04:00     211.9    609.28          ...     ...           ...   \n",
       "2020-07-21 09:11:00     215.1    614.72          ...     ...           ...   \n",
       "2020-08-12 21:54:00     174.5    526.22          ...     ...           ...   \n",
       "2020-09-19 08:55:00     198.6    512.50          ...     ...           ...   \n",
       "2020-10-29 08:40:00     220.1    506.06          ...     ...           ...   \n",
       "\n",
       "                     Cloud Amount  \n",
       "StnPresMaxTime                     \n",
       "2020-03-16 08:59:00           6.4  \n",
       "2020-04-02 09:51:00           6.4  \n",
       "2020-05-01 08:49:00           6.7  \n",
       "2020-06-15 00:04:00           5.4  \n",
       "2020-07-21 09:11:00           5.9  \n",
       "2020-08-12 21:54:00           6.3  \n",
       "2020-09-19 08:55:00           5.5  \n",
       "2020-10-29 08:40:00           5.0  \n",
       "\n",
       "[8 rows x 34 columns]"
      ],
      "text/html": "<div>\n<style scoped>\n    .dataframe tbody tr th:only-of-type {\n        vertical-align: middle;\n    }\n\n    .dataframe tbody tr th {\n        vertical-align: top;\n    }\n\n    .dataframe thead th {\n        text-align: right;\n    }\n</style>\n<table border=\"1\" class=\"dataframe\">\n  <thead>\n    <tr style=\"text-align: right;\">\n      <th></th>\n      <th>ObsTime</th>\n      <th>StnPres</th>\n      <th>SeaPres</th>\n      <th>StnPresMax</th>\n      <th>StnPresMin</th>\n      <th>StnPresMinTime</th>\n      <th>Temperature</th>\n      <th>T Max</th>\n      <th>T Max Time</th>\n      <th>T Min</th>\n      <th>...</th>\n      <th>Precp1DayMax</th>\n      <th>Precp1DayMaxTime</th>\n      <th>RH</th>\n      <th>EvapA</th>\n      <th>SunShine</th>\n      <th>GloblRad</th>\n      <th>UVI Max Mean</th>\n      <th>UVI Max</th>\n      <th>UVI Max Time</th>\n      <th>Cloud Amount</th>\n    </tr>\n    <tr>\n      <th>StnPresMaxTime</th>\n      <th></th>\n      <th></th>\n      <th></th>\n      <th></th>\n      <th></th>\n      <th></th>\n      <th></th>\n      <th></th>\n      <th></th>\n      <th></th>\n      <th></th>\n      <th></th>\n      <th></th>\n      <th></th>\n      <th></th>\n      <th></th>\n      <th></th>\n      <th></th>\n      <th></th>\n      <th></th>\n      <th></th>\n    </tr>\n  </thead>\n  <tbody>\n    <tr>\n      <th>2020-03-16 08:59:00</th>\n      <td>3</td>\n      <td>1005.3</td>\n      <td>1015.3</td>\n      <td>1011.6</td>\n      <td>995.5</td>\n      <td>2020/3/9 14:36</td>\n      <td>22.3</td>\n      <td>33.2</td>\n      <td>2020/3/26 13:47</td>\n      <td>14.5</td>\n      <td>...</td>\n      <td>23.5</td>\n      <td>2020/3/10 00:00</td>\n      <td>70</td>\n      <td>105.6</td>\n      <td>178.0</td>\n      <td>480.35</td>\n      <td>...</td>\n      <td>...</td>\n      <td>...</td>\n      <td>6.4</td>\n    </tr>\n    <tr>\n      <th>2020-04-02 09:51:00</th>\n      <td>4</td>\n      <td>1005.7</td>\n      <td>1015.7</td>\n      <td>1010.9</td>\n      <td>1000.6</td>\n      <td>2020/4/19 16:45</td>\n      <td>22.2</td>\n      <td>32.8</td>\n      <td>2020/4/19 12:57</td>\n      <td>12.8</td>\n      <td>...</td>\n      <td>20.0</td>\n      <td>2020/4/2 00:00</td>\n      <td>70</td>\n      <td>100.7</td>\n      <td>154.5</td>\n      <td>493.50</td>\n      <td>...</td>\n      <td>...</td>\n      <td>...</td>\n      <td>6.4</td>\n    </tr>\n    <tr>\n      <th>2020-05-01 08:49:00</th>\n      <td>5</td>\n      <td>999.4</td>\n      <td>1009.2</td>\n      <td>1005.0</td>\n      <td>992.7</td>\n      <td>2020/5/17 15:52</td>\n      <td>27.5</td>\n      <td>36.9</td>\n      <td>2020/5/10 12:16</td>\n      <td>21.8</td>\n      <td>...</td>\n      <td>61.0</td>\n      <td>2020/5/22 00:00</td>\n      <td>75</td>\n      <td>121.2</td>\n      <td>167.2</td>\n      <td>522.51</td>\n      <td>...</td>\n      <td>...</td>\n      <td>...</td>\n      <td>6.7</td>\n    </tr>\n    <tr>\n      <th>2020-06-15 00:04:00</th>\n      <td>6</td>\n      <td>999.1</td>\n      <td>1008.8</td>\n      <td>1004.7</td>\n      <td>994.8</td>\n      <td>2020/6/12 16:17</td>\n      <td>29.1</td>\n      <td>35.1</td>\n      <td>2020/6/29 14:10</td>\n      <td>22.0</td>\n      <td>...</td>\n      <td>99.0</td>\n      <td>2020/6/14 00:00</td>\n      <td>70</td>\n      <td>121.8</td>\n      <td>211.9</td>\n      <td>609.28</td>\n      <td>...</td>\n      <td>...</td>\n      <td>...</td>\n      <td>5.4</td>\n    </tr>\n    <tr>\n      <th>2020-07-21 09:11:00</th>\n      <td>7</td>\n      <td>998.7</td>\n      <td>1008.3</td>\n      <td>1003.0</td>\n      <td>993.8</td>\n      <td>2020/7/14 15:43</td>\n      <td>29.6</td>\n      <td>36.3</td>\n      <td>2020/7/31 13:00</td>\n      <td>24.0</td>\n      <td>...</td>\n      <td>28.0</td>\n      <td>2020/7/2 00:00</td>\n      <td>74</td>\n      <td>137.2</td>\n      <td>215.1</td>\n      <td>614.72</td>\n      <td>...</td>\n      <td>...</td>\n      <td>...</td>\n      <td>5.9</td>\n    </tr>\n    <tr>\n      <th>2020-08-12 21:54:00</th>\n      <td>8</td>\n      <td>997.5</td>\n      <td>1007.2</td>\n      <td>1006.0</td>\n      <td>991.6</td>\n      <td>2020/8/25 15:04</td>\n      <td>28.5</td>\n      <td>35.2</td>\n      <td>2020/8/25 14:05</td>\n      <td>23.2</td>\n      <td>...</td>\n      <td>70.0</td>\n      <td>2020/8/3 00:00</td>\n      <td>75</td>\n      <td>112.6</td>\n      <td>174.5</td>\n      <td>526.22</td>\n      <td>...</td>\n      <td>...</td>\n      <td>...</td>\n      <td>6.3</td>\n    </tr>\n    <tr>\n      <th>2020-09-19 08:55:00</th>\n      <td>9</td>\n      <td>999.5</td>\n      <td>1009.2</td>\n      <td>1005.1</td>\n      <td>991.9</td>\n      <td>2020/9/1 03:36</td>\n      <td>28.1</td>\n      <td>35.1</td>\n      <td>2020/9/7 13:35</td>\n      <td>21.7</td>\n      <td>...</td>\n      <td>54.5</td>\n      <td>2020/9/13 00:00</td>\n      <td>71</td>\n      <td>111.5</td>\n      <td>198.6</td>\n      <td>512.50</td>\n      <td>...</td>\n      <td>...</td>\n      <td>...</td>\n      <td>5.5</td>\n    </tr>\n    <tr>\n      <th>2020-10-29 08:40:00</th>\n      <td>10</td>\n      <td>1002.0</td>\n      <td>1011.8</td>\n      <td>1008.0</td>\n      <td>995.5</td>\n      <td>2020/10/21 14:44</td>\n      <td>26.1</td>\n      <td>34.8</td>\n      <td>2020/10/4 13:28</td>\n      <td>19.7</td>\n      <td>...</td>\n      <td>0.0</td>\n      <td>2020/10/1 00:00</td>\n      <td>69</td>\n      <td>132.4</td>\n      <td>220.1</td>\n      <td>506.06</td>\n      <td>...</td>\n      <td>...</td>\n      <td>...</td>\n      <td>5.0</td>\n    </tr>\n  </tbody>\n</table>\n<p>8 rows × 34 columns</p>\n</div>"
     },
     "metadata": {},
     "execution_count": 23
    }
   ],
   "source": [
    "df1[pd.Timestamp('2020-03-16 08:59:00'):pd.Timestamp('2020-11-28 09:20:00')]"
   ]
  },
  {
   "cell_type": "code",
   "execution_count": 24,
   "metadata": {},
   "outputs": [
    {
     "output_type": "execute_result",
     "data": {
      "text/plain": [
       "                     ObsTime  StnPres  SeaPres  StnPresMax  StnPresMin  \\\n",
       "StnPresMaxTime                                                           \n",
       "2020-03-16 08:59:00        3   1005.3   1015.3      1011.6       995.5   \n",
       "2020-04-02 09:51:00        4   1005.7   1015.7      1010.9      1000.6   \n",
       "2020-05-01 08:49:00        5    999.4   1009.2      1005.0       992.7   \n",
       "2020-06-15 00:04:00        6    999.1   1008.8      1004.7       994.8   \n",
       "2020-07-21 09:11:00        7    998.7   1008.3      1003.0       993.8   \n",
       "2020-08-12 21:54:00        8    997.5   1007.2      1006.0       991.6   \n",
       "2020-09-19 08:55:00        9    999.5   1009.2      1005.1       991.9   \n",
       "2020-10-29 08:40:00       10   1002.0   1011.8      1008.0       995.5   \n",
       "\n",
       "                       StnPresMinTime  Temperature  T Max       T Max Time  \\\n",
       "StnPresMaxTime                                                               \n",
       "2020-03-16 08:59:00    2020/3/9 14:36         22.3   33.2  2020/3/26 13:47   \n",
       "2020-04-02 09:51:00   2020/4/19 16:45         22.2   32.8  2020/4/19 12:57   \n",
       "2020-05-01 08:49:00   2020/5/17 15:52         27.5   36.9  2020/5/10 12:16   \n",
       "2020-06-15 00:04:00   2020/6/12 16:17         29.1   35.1  2020/6/29 14:10   \n",
       "2020-07-21 09:11:00   2020/7/14 15:43         29.6   36.3  2020/7/31 13:00   \n",
       "2020-08-12 21:54:00   2020/8/25 15:04         28.5   35.2  2020/8/25 14:05   \n",
       "2020-09-19 08:55:00    2020/9/1 03:36         28.1   35.1   2020/9/7 13:35   \n",
       "2020-10-29 08:40:00  2020/10/21 14:44         26.1   34.8  2020/10/4 13:28   \n",
       "\n",
       "                     T Min  ... Precp1DayMax  Precp1DayMaxTime  RH  EvapA  \\\n",
       "StnPresMaxTime              ...                                             \n",
       "2020-03-16 08:59:00   14.5  ...         23.5   2020/3/10 00:00  70  105.6   \n",
       "2020-04-02 09:51:00   12.8  ...         20.0    2020/4/2 00:00  70  100.7   \n",
       "2020-05-01 08:49:00   21.8  ...         61.0   2020/5/22 00:00  75  121.2   \n",
       "2020-06-15 00:04:00   22.0  ...         99.0   2020/6/14 00:00  70  121.8   \n",
       "2020-07-21 09:11:00   24.0  ...         28.0    2020/7/2 00:00  74  137.2   \n",
       "2020-08-12 21:54:00   23.2  ...         70.0    2020/8/3 00:00  75  112.6   \n",
       "2020-09-19 08:55:00   21.7  ...         54.5   2020/9/13 00:00  71  111.5   \n",
       "2020-10-29 08:40:00   19.7  ...          0.0   2020/10/1 00:00  69  132.4   \n",
       "\n",
       "                     SunShine  GloblRad UVI Max Mean UVI Max  UVI Max Time  \\\n",
       "StnPresMaxTime                                                               \n",
       "2020-03-16 08:59:00     178.0    480.35          ...     ...           ...   \n",
       "2020-04-02 09:51:00     154.5    493.50          ...     ...           ...   \n",
       "2020-05-01 08:49:00     167.2    522.51          ...     ...           ...   \n",
       "2020-06-15 00:04:00     211.9    609.28          ...     ...           ...   \n",
       "2020-07-21 09:11:00     215.1    614.72          ...     ...           ...   \n",
       "2020-08-12 21:54:00     174.5    526.22          ...     ...           ...   \n",
       "2020-09-19 08:55:00     198.6    512.50          ...     ...           ...   \n",
       "2020-10-29 08:40:00     220.1    506.06          ...     ...           ...   \n",
       "\n",
       "                     Cloud Amount  \n",
       "StnPresMaxTime                     \n",
       "2020-03-16 08:59:00           6.4  \n",
       "2020-04-02 09:51:00           6.4  \n",
       "2020-05-01 08:49:00           6.7  \n",
       "2020-06-15 00:04:00           5.4  \n",
       "2020-07-21 09:11:00           5.9  \n",
       "2020-08-12 21:54:00           6.3  \n",
       "2020-09-19 08:55:00           5.5  \n",
       "2020-10-29 08:40:00           5.0  \n",
       "\n",
       "[8 rows x 34 columns]"
      ],
      "text/html": "<div>\n<style scoped>\n    .dataframe tbody tr th:only-of-type {\n        vertical-align: middle;\n    }\n\n    .dataframe tbody tr th {\n        vertical-align: top;\n    }\n\n    .dataframe thead th {\n        text-align: right;\n    }\n</style>\n<table border=\"1\" class=\"dataframe\">\n  <thead>\n    <tr style=\"text-align: right;\">\n      <th></th>\n      <th>ObsTime</th>\n      <th>StnPres</th>\n      <th>SeaPres</th>\n      <th>StnPresMax</th>\n      <th>StnPresMin</th>\n      <th>StnPresMinTime</th>\n      <th>Temperature</th>\n      <th>T Max</th>\n      <th>T Max Time</th>\n      <th>T Min</th>\n      <th>...</th>\n      <th>Precp1DayMax</th>\n      <th>Precp1DayMaxTime</th>\n      <th>RH</th>\n      <th>EvapA</th>\n      <th>SunShine</th>\n      <th>GloblRad</th>\n      <th>UVI Max Mean</th>\n      <th>UVI Max</th>\n      <th>UVI Max Time</th>\n      <th>Cloud Amount</th>\n    </tr>\n    <tr>\n      <th>StnPresMaxTime</th>\n      <th></th>\n      <th></th>\n      <th></th>\n      <th></th>\n      <th></th>\n      <th></th>\n      <th></th>\n      <th></th>\n      <th></th>\n      <th></th>\n      <th></th>\n      <th></th>\n      <th></th>\n      <th></th>\n      <th></th>\n      <th></th>\n      <th></th>\n      <th></th>\n      <th></th>\n      <th></th>\n      <th></th>\n    </tr>\n  </thead>\n  <tbody>\n    <tr>\n      <th>2020-03-16 08:59:00</th>\n      <td>3</td>\n      <td>1005.3</td>\n      <td>1015.3</td>\n      <td>1011.6</td>\n      <td>995.5</td>\n      <td>2020/3/9 14:36</td>\n      <td>22.3</td>\n      <td>33.2</td>\n      <td>2020/3/26 13:47</td>\n      <td>14.5</td>\n      <td>...</td>\n      <td>23.5</td>\n      <td>2020/3/10 00:00</td>\n      <td>70</td>\n      <td>105.6</td>\n      <td>178.0</td>\n      <td>480.35</td>\n      <td>...</td>\n      <td>...</td>\n      <td>...</td>\n      <td>6.4</td>\n    </tr>\n    <tr>\n      <th>2020-04-02 09:51:00</th>\n      <td>4</td>\n      <td>1005.7</td>\n      <td>1015.7</td>\n      <td>1010.9</td>\n      <td>1000.6</td>\n      <td>2020/4/19 16:45</td>\n      <td>22.2</td>\n      <td>32.8</td>\n      <td>2020/4/19 12:57</td>\n      <td>12.8</td>\n      <td>...</td>\n      <td>20.0</td>\n      <td>2020/4/2 00:00</td>\n      <td>70</td>\n      <td>100.7</td>\n      <td>154.5</td>\n      <td>493.50</td>\n      <td>...</td>\n      <td>...</td>\n      <td>...</td>\n      <td>6.4</td>\n    </tr>\n    <tr>\n      <th>2020-05-01 08:49:00</th>\n      <td>5</td>\n      <td>999.4</td>\n      <td>1009.2</td>\n      <td>1005.0</td>\n      <td>992.7</td>\n      <td>2020/5/17 15:52</td>\n      <td>27.5</td>\n      <td>36.9</td>\n      <td>2020/5/10 12:16</td>\n      <td>21.8</td>\n      <td>...</td>\n      <td>61.0</td>\n      <td>2020/5/22 00:00</td>\n      <td>75</td>\n      <td>121.2</td>\n      <td>167.2</td>\n      <td>522.51</td>\n      <td>...</td>\n      <td>...</td>\n      <td>...</td>\n      <td>6.7</td>\n    </tr>\n    <tr>\n      <th>2020-06-15 00:04:00</th>\n      <td>6</td>\n      <td>999.1</td>\n      <td>1008.8</td>\n      <td>1004.7</td>\n      <td>994.8</td>\n      <td>2020/6/12 16:17</td>\n      <td>29.1</td>\n      <td>35.1</td>\n      <td>2020/6/29 14:10</td>\n      <td>22.0</td>\n      <td>...</td>\n      <td>99.0</td>\n      <td>2020/6/14 00:00</td>\n      <td>70</td>\n      <td>121.8</td>\n      <td>211.9</td>\n      <td>609.28</td>\n      <td>...</td>\n      <td>...</td>\n      <td>...</td>\n      <td>5.4</td>\n    </tr>\n    <tr>\n      <th>2020-07-21 09:11:00</th>\n      <td>7</td>\n      <td>998.7</td>\n      <td>1008.3</td>\n      <td>1003.0</td>\n      <td>993.8</td>\n      <td>2020/7/14 15:43</td>\n      <td>29.6</td>\n      <td>36.3</td>\n      <td>2020/7/31 13:00</td>\n      <td>24.0</td>\n      <td>...</td>\n      <td>28.0</td>\n      <td>2020/7/2 00:00</td>\n      <td>74</td>\n      <td>137.2</td>\n      <td>215.1</td>\n      <td>614.72</td>\n      <td>...</td>\n      <td>...</td>\n      <td>...</td>\n      <td>5.9</td>\n    </tr>\n    <tr>\n      <th>2020-08-12 21:54:00</th>\n      <td>8</td>\n      <td>997.5</td>\n      <td>1007.2</td>\n      <td>1006.0</td>\n      <td>991.6</td>\n      <td>2020/8/25 15:04</td>\n      <td>28.5</td>\n      <td>35.2</td>\n      <td>2020/8/25 14:05</td>\n      <td>23.2</td>\n      <td>...</td>\n      <td>70.0</td>\n      <td>2020/8/3 00:00</td>\n      <td>75</td>\n      <td>112.6</td>\n      <td>174.5</td>\n      <td>526.22</td>\n      <td>...</td>\n      <td>...</td>\n      <td>...</td>\n      <td>6.3</td>\n    </tr>\n    <tr>\n      <th>2020-09-19 08:55:00</th>\n      <td>9</td>\n      <td>999.5</td>\n      <td>1009.2</td>\n      <td>1005.1</td>\n      <td>991.9</td>\n      <td>2020/9/1 03:36</td>\n      <td>28.1</td>\n      <td>35.1</td>\n      <td>2020/9/7 13:35</td>\n      <td>21.7</td>\n      <td>...</td>\n      <td>54.5</td>\n      <td>2020/9/13 00:00</td>\n      <td>71</td>\n      <td>111.5</td>\n      <td>198.6</td>\n      <td>512.50</td>\n      <td>...</td>\n      <td>...</td>\n      <td>...</td>\n      <td>5.5</td>\n    </tr>\n    <tr>\n      <th>2020-10-29 08:40:00</th>\n      <td>10</td>\n      <td>1002.0</td>\n      <td>1011.8</td>\n      <td>1008.0</td>\n      <td>995.5</td>\n      <td>2020/10/21 14:44</td>\n      <td>26.1</td>\n      <td>34.8</td>\n      <td>2020/10/4 13:28</td>\n      <td>19.7</td>\n      <td>...</td>\n      <td>0.0</td>\n      <td>2020/10/1 00:00</td>\n      <td>69</td>\n      <td>132.4</td>\n      <td>220.1</td>\n      <td>506.06</td>\n      <td>...</td>\n      <td>...</td>\n      <td>...</td>\n      <td>5.0</td>\n    </tr>\n  </tbody>\n</table>\n<p>8 rows × 34 columns</p>\n</div>"
     },
     "metadata": {},
     "execution_count": 24
    }
   ],
   "source": [
    "df1[('2020-03-16 08:59:00'):('2020-11-28 09:20:00')]"
   ]
  },
  {
   "cell_type": "code",
   "execution_count": 26,
   "metadata": {},
   "outputs": [
    {
     "output_type": "stream",
     "name": "stderr",
     "text": [
      "C:\\Users\\BOOM\\AppData\\Local\\Temp/ipykernel_17080/2771326581.py:1: FutureWarning: Indexing a DataFrame with a datetimelike index using a single string to slice the rows, like `frame[string]`, is deprecated and will be removed in a future version. Use `frame.loc[string]` instead.\n  df1['2020']\n"
     ]
    },
    {
     "output_type": "execute_result",
     "data": {
      "text/plain": [
       "                     ObsTime  StnPres  SeaPres  StnPresMax  StnPresMin  \\\n",
       "StnPresMaxTime                                                           \n",
       "2020-01-01 09:33:00        1   1008.7   1018.9      1017.7       999.6   \n",
       "2020-02-21 09:02:00        2   1010.5   1020.6      1017.8      1001.7   \n",
       "2020-03-16 08:59:00        3   1005.3   1015.3      1011.6       995.5   \n",
       "2020-04-02 09:51:00        4   1005.7   1015.7      1010.9      1000.6   \n",
       "2020-05-01 08:49:00        5    999.4   1009.2      1005.0       992.7   \n",
       "2020-06-15 00:04:00        6    999.1   1008.8      1004.7       994.8   \n",
       "2020-07-21 09:11:00        7    998.7   1008.3      1003.0       993.8   \n",
       "2020-08-12 21:54:00        8    997.5   1007.2      1006.0       991.6   \n",
       "2020-09-19 08:55:00        9    999.5   1009.2      1005.1       991.9   \n",
       "2020-10-29 08:40:00       10   1002.0   1011.8      1008.0       995.5   \n",
       "2020-11-28 09:21:00       11   1005.9   1015.8      1011.0       998.4   \n",
       "2020-12-31 09:37:00       12   1007.3   1017.4      1015.8      1000.7   \n",
       "\n",
       "                       StnPresMinTime  Temperature  T Max        T Max Time  \\\n",
       "StnPresMaxTime                                                                \n",
       "2020-01-01 09:33:00   2020/1/26 13:39         18.0   29.0   2020/1/23 12:58   \n",
       "2020-02-21 09:02:00   2020/2/15 14:34         19.0   30.2   2020/2/26 12:12   \n",
       "2020-03-16 08:59:00    2020/3/9 14:36         22.3   33.2   2020/3/26 13:47   \n",
       "2020-04-02 09:51:00   2020/4/19 16:45         22.2   32.8   2020/4/19 12:57   \n",
       "2020-05-01 08:49:00   2020/5/17 15:52         27.5   36.9   2020/5/10 12:16   \n",
       "2020-06-15 00:04:00   2020/6/12 16:17         29.1   35.1   2020/6/29 14:10   \n",
       "2020-07-21 09:11:00   2020/7/14 15:43         29.6   36.3   2020/7/31 13:00   \n",
       "2020-08-12 21:54:00   2020/8/25 15:04         28.5   35.2   2020/8/25 14:05   \n",
       "2020-09-19 08:55:00    2020/9/1 03:36         28.1   35.1    2020/9/7 13:35   \n",
       "2020-10-29 08:40:00  2020/10/21 14:44         26.1   34.8   2020/10/4 13:28   \n",
       "2020-11-28 09:21:00   2020/11/6 15:30         23.9   33.7  2020/11/21 13:38   \n",
       "2020-12-31 09:37:00  2020/12/28 15:16         19.5   28.5  2020/12/28 14:25   \n",
       "\n",
       "                     T Min  ... Precp1DayMax  Precp1DayMaxTime  RH  EvapA  \\\n",
       "StnPresMaxTime              ...                                             \n",
       "2020-01-01 09:33:00    6.9  ...         20.0   2020/1/26 00:00  76   89.0   \n",
       "2020-02-21 09:02:00    8.4  ...          2.5   2020/2/15 00:00  72   82.0   \n",
       "2020-03-16 08:59:00   14.5  ...         23.5   2020/3/10 00:00  70  105.6   \n",
       "2020-04-02 09:51:00   12.8  ...         20.0    2020/4/2 00:00  70  100.7   \n",
       "2020-05-01 08:49:00   21.8  ...         61.0   2020/5/22 00:00  75  121.2   \n",
       "2020-06-15 00:04:00   22.0  ...         99.0   2020/6/14 00:00  70  121.8   \n",
       "2020-07-21 09:11:00   24.0  ...         28.0    2020/7/2 00:00  74  137.2   \n",
       "2020-08-12 21:54:00   23.2  ...         70.0    2020/8/3 00:00  75  112.6   \n",
       "2020-09-19 08:55:00   21.7  ...         54.5   2020/9/13 00:00  71  111.5   \n",
       "2020-10-29 08:40:00   19.7  ...          0.0   2020/10/1 00:00  69  132.4   \n",
       "2020-11-28 09:21:00   18.1  ...          3.0  2020/11/13 00:00  72   91.3   \n",
       "2020-12-31 09:37:00    9.1  ...         28.5   2020/12/9 00:00  77   81.4   \n",
       "\n",
       "                     SunShine  GloblRad UVI Max Mean UVI Max  UVI Max Time  \\\n",
       "StnPresMaxTime                                                               \n",
       "2020-01-01 09:33:00     225.1    418.05          ...     ...           ...   \n",
       "2020-02-21 09:02:00     212.5    446.52          ...     ...           ...   \n",
       "2020-03-16 08:59:00     178.0    480.35          ...     ...           ...   \n",
       "2020-04-02 09:51:00     154.5    493.50          ...     ...           ...   \n",
       "2020-05-01 08:49:00     167.2    522.51          ...     ...           ...   \n",
       "2020-06-15 00:04:00     211.9    609.28          ...     ...           ...   \n",
       "2020-07-21 09:11:00     215.1    614.72          ...     ...           ...   \n",
       "2020-08-12 21:54:00     174.5    526.22          ...     ...           ...   \n",
       "2020-09-19 08:55:00     198.6    512.50          ...     ...           ...   \n",
       "2020-10-29 08:40:00     220.1    506.06          ...     ...           ...   \n",
       "2020-11-28 09:21:00     182.9    376.24          ...     ...           ...   \n",
       "2020-12-31 09:37:00     156.2    338.25          ...     ...           ...   \n",
       "\n",
       "                     Cloud Amount  \n",
       "StnPresMaxTime                     \n",
       "2020-01-01 09:33:00           3.8  \n",
       "2020-02-21 09:02:00           4.0  \n",
       "2020-03-16 08:59:00           6.4  \n",
       "2020-04-02 09:51:00           6.4  \n",
       "2020-05-01 08:49:00           6.7  \n",
       "2020-06-15 00:04:00           5.4  \n",
       "2020-07-21 09:11:00           5.9  \n",
       "2020-08-12 21:54:00           6.3  \n",
       "2020-09-19 08:55:00           5.5  \n",
       "2020-10-29 08:40:00           5.0  \n",
       "2020-11-28 09:21:00           4.9  \n",
       "2020-12-31 09:37:00           6.6  \n",
       "\n",
       "[12 rows x 34 columns]"
      ],
      "text/html": "<div>\n<style scoped>\n    .dataframe tbody tr th:only-of-type {\n        vertical-align: middle;\n    }\n\n    .dataframe tbody tr th {\n        vertical-align: top;\n    }\n\n    .dataframe thead th {\n        text-align: right;\n    }\n</style>\n<table border=\"1\" class=\"dataframe\">\n  <thead>\n    <tr style=\"text-align: right;\">\n      <th></th>\n      <th>ObsTime</th>\n      <th>StnPres</th>\n      <th>SeaPres</th>\n      <th>StnPresMax</th>\n      <th>StnPresMin</th>\n      <th>StnPresMinTime</th>\n      <th>Temperature</th>\n      <th>T Max</th>\n      <th>T Max Time</th>\n      <th>T Min</th>\n      <th>...</th>\n      <th>Precp1DayMax</th>\n      <th>Precp1DayMaxTime</th>\n      <th>RH</th>\n      <th>EvapA</th>\n      <th>SunShine</th>\n      <th>GloblRad</th>\n      <th>UVI Max Mean</th>\n      <th>UVI Max</th>\n      <th>UVI Max Time</th>\n      <th>Cloud Amount</th>\n    </tr>\n    <tr>\n      <th>StnPresMaxTime</th>\n      <th></th>\n      <th></th>\n      <th></th>\n      <th></th>\n      <th></th>\n      <th></th>\n      <th></th>\n      <th></th>\n      <th></th>\n      <th></th>\n      <th></th>\n      <th></th>\n      <th></th>\n      <th></th>\n      <th></th>\n      <th></th>\n      <th></th>\n      <th></th>\n      <th></th>\n      <th></th>\n      <th></th>\n    </tr>\n  </thead>\n  <tbody>\n    <tr>\n      <th>2020-01-01 09:33:00</th>\n      <td>1</td>\n      <td>1008.7</td>\n      <td>1018.9</td>\n      <td>1017.7</td>\n      <td>999.6</td>\n      <td>2020/1/26 13:39</td>\n      <td>18.0</td>\n      <td>29.0</td>\n      <td>2020/1/23 12:58</td>\n      <td>6.9</td>\n      <td>...</td>\n      <td>20.0</td>\n      <td>2020/1/26 00:00</td>\n      <td>76</td>\n      <td>89.0</td>\n      <td>225.1</td>\n      <td>418.05</td>\n      <td>...</td>\n      <td>...</td>\n      <td>...</td>\n      <td>3.8</td>\n    </tr>\n    <tr>\n      <th>2020-02-21 09:02:00</th>\n      <td>2</td>\n      <td>1010.5</td>\n      <td>1020.6</td>\n      <td>1017.8</td>\n      <td>1001.7</td>\n      <td>2020/2/15 14:34</td>\n      <td>19.0</td>\n      <td>30.2</td>\n      <td>2020/2/26 12:12</td>\n      <td>8.4</td>\n      <td>...</td>\n      <td>2.5</td>\n      <td>2020/2/15 00:00</td>\n      <td>72</td>\n      <td>82.0</td>\n      <td>212.5</td>\n      <td>446.52</td>\n      <td>...</td>\n      <td>...</td>\n      <td>...</td>\n      <td>4.0</td>\n    </tr>\n    <tr>\n      <th>2020-03-16 08:59:00</th>\n      <td>3</td>\n      <td>1005.3</td>\n      <td>1015.3</td>\n      <td>1011.6</td>\n      <td>995.5</td>\n      <td>2020/3/9 14:36</td>\n      <td>22.3</td>\n      <td>33.2</td>\n      <td>2020/3/26 13:47</td>\n      <td>14.5</td>\n      <td>...</td>\n      <td>23.5</td>\n      <td>2020/3/10 00:00</td>\n      <td>70</td>\n      <td>105.6</td>\n      <td>178.0</td>\n      <td>480.35</td>\n      <td>...</td>\n      <td>...</td>\n      <td>...</td>\n      <td>6.4</td>\n    </tr>\n    <tr>\n      <th>2020-04-02 09:51:00</th>\n      <td>4</td>\n      <td>1005.7</td>\n      <td>1015.7</td>\n      <td>1010.9</td>\n      <td>1000.6</td>\n      <td>2020/4/19 16:45</td>\n      <td>22.2</td>\n      <td>32.8</td>\n      <td>2020/4/19 12:57</td>\n      <td>12.8</td>\n      <td>...</td>\n      <td>20.0</td>\n      <td>2020/4/2 00:00</td>\n      <td>70</td>\n      <td>100.7</td>\n      <td>154.5</td>\n      <td>493.50</td>\n      <td>...</td>\n      <td>...</td>\n      <td>...</td>\n      <td>6.4</td>\n    </tr>\n    <tr>\n      <th>2020-05-01 08:49:00</th>\n      <td>5</td>\n      <td>999.4</td>\n      <td>1009.2</td>\n      <td>1005.0</td>\n      <td>992.7</td>\n      <td>2020/5/17 15:52</td>\n      <td>27.5</td>\n      <td>36.9</td>\n      <td>2020/5/10 12:16</td>\n      <td>21.8</td>\n      <td>...</td>\n      <td>61.0</td>\n      <td>2020/5/22 00:00</td>\n      <td>75</td>\n      <td>121.2</td>\n      <td>167.2</td>\n      <td>522.51</td>\n      <td>...</td>\n      <td>...</td>\n      <td>...</td>\n      <td>6.7</td>\n    </tr>\n    <tr>\n      <th>2020-06-15 00:04:00</th>\n      <td>6</td>\n      <td>999.1</td>\n      <td>1008.8</td>\n      <td>1004.7</td>\n      <td>994.8</td>\n      <td>2020/6/12 16:17</td>\n      <td>29.1</td>\n      <td>35.1</td>\n      <td>2020/6/29 14:10</td>\n      <td>22.0</td>\n      <td>...</td>\n      <td>99.0</td>\n      <td>2020/6/14 00:00</td>\n      <td>70</td>\n      <td>121.8</td>\n      <td>211.9</td>\n      <td>609.28</td>\n      <td>...</td>\n      <td>...</td>\n      <td>...</td>\n      <td>5.4</td>\n    </tr>\n    <tr>\n      <th>2020-07-21 09:11:00</th>\n      <td>7</td>\n      <td>998.7</td>\n      <td>1008.3</td>\n      <td>1003.0</td>\n      <td>993.8</td>\n      <td>2020/7/14 15:43</td>\n      <td>29.6</td>\n      <td>36.3</td>\n      <td>2020/7/31 13:00</td>\n      <td>24.0</td>\n      <td>...</td>\n      <td>28.0</td>\n      <td>2020/7/2 00:00</td>\n      <td>74</td>\n      <td>137.2</td>\n      <td>215.1</td>\n      <td>614.72</td>\n      <td>...</td>\n      <td>...</td>\n      <td>...</td>\n      <td>5.9</td>\n    </tr>\n    <tr>\n      <th>2020-08-12 21:54:00</th>\n      <td>8</td>\n      <td>997.5</td>\n      <td>1007.2</td>\n      <td>1006.0</td>\n      <td>991.6</td>\n      <td>2020/8/25 15:04</td>\n      <td>28.5</td>\n      <td>35.2</td>\n      <td>2020/8/25 14:05</td>\n      <td>23.2</td>\n      <td>...</td>\n      <td>70.0</td>\n      <td>2020/8/3 00:00</td>\n      <td>75</td>\n      <td>112.6</td>\n      <td>174.5</td>\n      <td>526.22</td>\n      <td>...</td>\n      <td>...</td>\n      <td>...</td>\n      <td>6.3</td>\n    </tr>\n    <tr>\n      <th>2020-09-19 08:55:00</th>\n      <td>9</td>\n      <td>999.5</td>\n      <td>1009.2</td>\n      <td>1005.1</td>\n      <td>991.9</td>\n      <td>2020/9/1 03:36</td>\n      <td>28.1</td>\n      <td>35.1</td>\n      <td>2020/9/7 13:35</td>\n      <td>21.7</td>\n      <td>...</td>\n      <td>54.5</td>\n      <td>2020/9/13 00:00</td>\n      <td>71</td>\n      <td>111.5</td>\n      <td>198.6</td>\n      <td>512.50</td>\n      <td>...</td>\n      <td>...</td>\n      <td>...</td>\n      <td>5.5</td>\n    </tr>\n    <tr>\n      <th>2020-10-29 08:40:00</th>\n      <td>10</td>\n      <td>1002.0</td>\n      <td>1011.8</td>\n      <td>1008.0</td>\n      <td>995.5</td>\n      <td>2020/10/21 14:44</td>\n      <td>26.1</td>\n      <td>34.8</td>\n      <td>2020/10/4 13:28</td>\n      <td>19.7</td>\n      <td>...</td>\n      <td>0.0</td>\n      <td>2020/10/1 00:00</td>\n      <td>69</td>\n      <td>132.4</td>\n      <td>220.1</td>\n      <td>506.06</td>\n      <td>...</td>\n      <td>...</td>\n      <td>...</td>\n      <td>5.0</td>\n    </tr>\n    <tr>\n      <th>2020-11-28 09:21:00</th>\n      <td>11</td>\n      <td>1005.9</td>\n      <td>1015.8</td>\n      <td>1011.0</td>\n      <td>998.4</td>\n      <td>2020/11/6 15:30</td>\n      <td>23.9</td>\n      <td>33.7</td>\n      <td>2020/11/21 13:38</td>\n      <td>18.1</td>\n      <td>...</td>\n      <td>3.0</td>\n      <td>2020/11/13 00:00</td>\n      <td>72</td>\n      <td>91.3</td>\n      <td>182.9</td>\n      <td>376.24</td>\n      <td>...</td>\n      <td>...</td>\n      <td>...</td>\n      <td>4.9</td>\n    </tr>\n    <tr>\n      <th>2020-12-31 09:37:00</th>\n      <td>12</td>\n      <td>1007.3</td>\n      <td>1017.4</td>\n      <td>1015.8</td>\n      <td>1000.7</td>\n      <td>2020/12/28 15:16</td>\n      <td>19.5</td>\n      <td>28.5</td>\n      <td>2020/12/28 14:25</td>\n      <td>9.1</td>\n      <td>...</td>\n      <td>28.5</td>\n      <td>2020/12/9 00:00</td>\n      <td>77</td>\n      <td>81.4</td>\n      <td>156.2</td>\n      <td>338.25</td>\n      <td>...</td>\n      <td>...</td>\n      <td>...</td>\n      <td>6.6</td>\n    </tr>\n  </tbody>\n</table>\n<p>12 rows × 34 columns</p>\n</div>"
     },
     "metadata": {},
     "execution_count": 26
    }
   ],
   "source": [
    "df1['2020']"
   ]
  },
  {
   "cell_type": "code",
   "execution_count": 27,
   "metadata": {},
   "outputs": [
    {
     "output_type": "execute_result",
     "data": {
      "text/plain": [
       "                     ObsTime  StnPres  SeaPres  StnPresMax  StnPresMin  \\\n",
       "StnPresMaxTime                                                           \n",
       "2020-03-16 08:59:00        3   1005.3   1015.3      1011.6       995.5   \n",
       "\n",
       "                     StnPresMinTime  Temperature  T Max       T Max Time  \\\n",
       "StnPresMaxTime                                                             \n",
       "2020-03-16 08:59:00  2020/3/9 14:36         22.3   33.2  2020/3/26 13:47   \n",
       "\n",
       "                     T Min  ... Precp1DayMax  Precp1DayMaxTime  RH  EvapA  \\\n",
       "StnPresMaxTime              ...                                             \n",
       "2020-03-16 08:59:00   14.5  ...         23.5   2020/3/10 00:00  70  105.6   \n",
       "\n",
       "                     SunShine  GloblRad UVI Max Mean UVI Max  UVI Max Time  \\\n",
       "StnPresMaxTime                                                               \n",
       "2020-03-16 08:59:00     178.0    480.35          ...     ...           ...   \n",
       "\n",
       "                     Cloud Amount  \n",
       "StnPresMaxTime                     \n",
       "2020-03-16 08:59:00           6.4  \n",
       "\n",
       "[1 rows x 34 columns]"
      ],
      "text/html": "<div>\n<style scoped>\n    .dataframe tbody tr th:only-of-type {\n        vertical-align: middle;\n    }\n\n    .dataframe tbody tr th {\n        vertical-align: top;\n    }\n\n    .dataframe thead th {\n        text-align: right;\n    }\n</style>\n<table border=\"1\" class=\"dataframe\">\n  <thead>\n    <tr style=\"text-align: right;\">\n      <th></th>\n      <th>ObsTime</th>\n      <th>StnPres</th>\n      <th>SeaPres</th>\n      <th>StnPresMax</th>\n      <th>StnPresMin</th>\n      <th>StnPresMinTime</th>\n      <th>Temperature</th>\n      <th>T Max</th>\n      <th>T Max Time</th>\n      <th>T Min</th>\n      <th>...</th>\n      <th>Precp1DayMax</th>\n      <th>Precp1DayMaxTime</th>\n      <th>RH</th>\n      <th>EvapA</th>\n      <th>SunShine</th>\n      <th>GloblRad</th>\n      <th>UVI Max Mean</th>\n      <th>UVI Max</th>\n      <th>UVI Max Time</th>\n      <th>Cloud Amount</th>\n    </tr>\n    <tr>\n      <th>StnPresMaxTime</th>\n      <th></th>\n      <th></th>\n      <th></th>\n      <th></th>\n      <th></th>\n      <th></th>\n      <th></th>\n      <th></th>\n      <th></th>\n      <th></th>\n      <th></th>\n      <th></th>\n      <th></th>\n      <th></th>\n      <th></th>\n      <th></th>\n      <th></th>\n      <th></th>\n      <th></th>\n      <th></th>\n      <th></th>\n    </tr>\n  </thead>\n  <tbody>\n    <tr>\n      <th>2020-03-16 08:59:00</th>\n      <td>3</td>\n      <td>1005.3</td>\n      <td>1015.3</td>\n      <td>1011.6</td>\n      <td>995.5</td>\n      <td>2020/3/9 14:36</td>\n      <td>22.3</td>\n      <td>33.2</td>\n      <td>2020/3/26 13:47</td>\n      <td>14.5</td>\n      <td>...</td>\n      <td>23.5</td>\n      <td>2020/3/10 00:00</td>\n      <td>70</td>\n      <td>105.6</td>\n      <td>178.0</td>\n      <td>480.35</td>\n      <td>...</td>\n      <td>...</td>\n      <td>...</td>\n      <td>6.4</td>\n    </tr>\n  </tbody>\n</table>\n<p>1 rows × 34 columns</p>\n</div>"
     },
     "metadata": {},
     "execution_count": 27
    }
   ],
   "source": [
    "df1[df1.index.month == 3] # include 2020 2021"
   ]
  },
  {
   "cell_type": "code",
   "execution_count": 31,
   "metadata": {},
   "outputs": [
    {
     "output_type": "execute_result",
     "data": {
      "text/plain": [
       "                     ObsTime  StnPres  SeaPres  StnPresMax  StnPresMin  \\\n",
       "StnPresMaxTime                                                           \n",
       "2020-01-01 09:33:00        1   1008.7   1018.9      1017.7       999.6   \n",
       "2020-02-21 09:02:00        2   1010.5   1020.6      1017.8      1001.7   \n",
       "2020-04-02 09:51:00        4   1005.7   1015.7      1010.9      1000.6   \n",
       "2020-07-21 09:11:00        7    998.7   1008.3      1003.0       993.8   \n",
       "2020-11-28 09:21:00       11   1005.9   1015.8      1011.0       998.4   \n",
       "2020-12-31 09:37:00       12   1007.3   1017.4      1015.8      1000.7   \n",
       "\n",
       "                       StnPresMinTime  Temperature  T Max        T Max Time  \\\n",
       "StnPresMaxTime                                                                \n",
       "2020-01-01 09:33:00   2020/1/26 13:39         18.0   29.0   2020/1/23 12:58   \n",
       "2020-02-21 09:02:00   2020/2/15 14:34         19.0   30.2   2020/2/26 12:12   \n",
       "2020-04-02 09:51:00   2020/4/19 16:45         22.2   32.8   2020/4/19 12:57   \n",
       "2020-07-21 09:11:00   2020/7/14 15:43         29.6   36.3   2020/7/31 13:00   \n",
       "2020-11-28 09:21:00   2020/11/6 15:30         23.9   33.7  2020/11/21 13:38   \n",
       "2020-12-31 09:37:00  2020/12/28 15:16         19.5   28.5  2020/12/28 14:25   \n",
       "\n",
       "                     T Min  ... Precp1DayMax  Precp1DayMaxTime  RH  EvapA  \\\n",
       "StnPresMaxTime              ...                                             \n",
       "2020-01-01 09:33:00    6.9  ...         20.0   2020/1/26 00:00  76   89.0   \n",
       "2020-02-21 09:02:00    8.4  ...          2.5   2020/2/15 00:00  72   82.0   \n",
       "2020-04-02 09:51:00   12.8  ...         20.0    2020/4/2 00:00  70  100.7   \n",
       "2020-07-21 09:11:00   24.0  ...         28.0    2020/7/2 00:00  74  137.2   \n",
       "2020-11-28 09:21:00   18.1  ...          3.0  2020/11/13 00:00  72   91.3   \n",
       "2020-12-31 09:37:00    9.1  ...         28.5   2020/12/9 00:00  77   81.4   \n",
       "\n",
       "                     SunShine  GloblRad UVI Max Mean UVI Max  UVI Max Time  \\\n",
       "StnPresMaxTime                                                               \n",
       "2020-01-01 09:33:00     225.1    418.05          ...     ...           ...   \n",
       "2020-02-21 09:02:00     212.5    446.52          ...     ...           ...   \n",
       "2020-04-02 09:51:00     154.5    493.50          ...     ...           ...   \n",
       "2020-07-21 09:11:00     215.1    614.72          ...     ...           ...   \n",
       "2020-11-28 09:21:00     182.9    376.24          ...     ...           ...   \n",
       "2020-12-31 09:37:00     156.2    338.25          ...     ...           ...   \n",
       "\n",
       "                     Cloud Amount  \n",
       "StnPresMaxTime                     \n",
       "2020-01-01 09:33:00           3.8  \n",
       "2020-02-21 09:02:00           4.0  \n",
       "2020-04-02 09:51:00           6.4  \n",
       "2020-07-21 09:11:00           5.9  \n",
       "2020-11-28 09:21:00           4.9  \n",
       "2020-12-31 09:37:00           6.6  \n",
       "\n",
       "[6 rows x 34 columns]"
      ],
      "text/html": "<div>\n<style scoped>\n    .dataframe tbody tr th:only-of-type {\n        vertical-align: middle;\n    }\n\n    .dataframe tbody tr th {\n        vertical-align: top;\n    }\n\n    .dataframe thead th {\n        text-align: right;\n    }\n</style>\n<table border=\"1\" class=\"dataframe\">\n  <thead>\n    <tr style=\"text-align: right;\">\n      <th></th>\n      <th>ObsTime</th>\n      <th>StnPres</th>\n      <th>SeaPres</th>\n      <th>StnPresMax</th>\n      <th>StnPresMin</th>\n      <th>StnPresMinTime</th>\n      <th>Temperature</th>\n      <th>T Max</th>\n      <th>T Max Time</th>\n      <th>T Min</th>\n      <th>...</th>\n      <th>Precp1DayMax</th>\n      <th>Precp1DayMaxTime</th>\n      <th>RH</th>\n      <th>EvapA</th>\n      <th>SunShine</th>\n      <th>GloblRad</th>\n      <th>UVI Max Mean</th>\n      <th>UVI Max</th>\n      <th>UVI Max Time</th>\n      <th>Cloud Amount</th>\n    </tr>\n    <tr>\n      <th>StnPresMaxTime</th>\n      <th></th>\n      <th></th>\n      <th></th>\n      <th></th>\n      <th></th>\n      <th></th>\n      <th></th>\n      <th></th>\n      <th></th>\n      <th></th>\n      <th></th>\n      <th></th>\n      <th></th>\n      <th></th>\n      <th></th>\n      <th></th>\n      <th></th>\n      <th></th>\n      <th></th>\n      <th></th>\n      <th></th>\n    </tr>\n  </thead>\n  <tbody>\n    <tr>\n      <th>2020-01-01 09:33:00</th>\n      <td>1</td>\n      <td>1008.7</td>\n      <td>1018.9</td>\n      <td>1017.7</td>\n      <td>999.6</td>\n      <td>2020/1/26 13:39</td>\n      <td>18.0</td>\n      <td>29.0</td>\n      <td>2020/1/23 12:58</td>\n      <td>6.9</td>\n      <td>...</td>\n      <td>20.0</td>\n      <td>2020/1/26 00:00</td>\n      <td>76</td>\n      <td>89.0</td>\n      <td>225.1</td>\n      <td>418.05</td>\n      <td>...</td>\n      <td>...</td>\n      <td>...</td>\n      <td>3.8</td>\n    </tr>\n    <tr>\n      <th>2020-02-21 09:02:00</th>\n      <td>2</td>\n      <td>1010.5</td>\n      <td>1020.6</td>\n      <td>1017.8</td>\n      <td>1001.7</td>\n      <td>2020/2/15 14:34</td>\n      <td>19.0</td>\n      <td>30.2</td>\n      <td>2020/2/26 12:12</td>\n      <td>8.4</td>\n      <td>...</td>\n      <td>2.5</td>\n      <td>2020/2/15 00:00</td>\n      <td>72</td>\n      <td>82.0</td>\n      <td>212.5</td>\n      <td>446.52</td>\n      <td>...</td>\n      <td>...</td>\n      <td>...</td>\n      <td>4.0</td>\n    </tr>\n    <tr>\n      <th>2020-04-02 09:51:00</th>\n      <td>4</td>\n      <td>1005.7</td>\n      <td>1015.7</td>\n      <td>1010.9</td>\n      <td>1000.6</td>\n      <td>2020/4/19 16:45</td>\n      <td>22.2</td>\n      <td>32.8</td>\n      <td>2020/4/19 12:57</td>\n      <td>12.8</td>\n      <td>...</td>\n      <td>20.0</td>\n      <td>2020/4/2 00:00</td>\n      <td>70</td>\n      <td>100.7</td>\n      <td>154.5</td>\n      <td>493.50</td>\n      <td>...</td>\n      <td>...</td>\n      <td>...</td>\n      <td>6.4</td>\n    </tr>\n    <tr>\n      <th>2020-07-21 09:11:00</th>\n      <td>7</td>\n      <td>998.7</td>\n      <td>1008.3</td>\n      <td>1003.0</td>\n      <td>993.8</td>\n      <td>2020/7/14 15:43</td>\n      <td>29.6</td>\n      <td>36.3</td>\n      <td>2020/7/31 13:00</td>\n      <td>24.0</td>\n      <td>...</td>\n      <td>28.0</td>\n      <td>2020/7/2 00:00</td>\n      <td>74</td>\n      <td>137.2</td>\n      <td>215.1</td>\n      <td>614.72</td>\n      <td>...</td>\n      <td>...</td>\n      <td>...</td>\n      <td>5.9</td>\n    </tr>\n    <tr>\n      <th>2020-11-28 09:21:00</th>\n      <td>11</td>\n      <td>1005.9</td>\n      <td>1015.8</td>\n      <td>1011.0</td>\n      <td>998.4</td>\n      <td>2020/11/6 15:30</td>\n      <td>23.9</td>\n      <td>33.7</td>\n      <td>2020/11/21 13:38</td>\n      <td>18.1</td>\n      <td>...</td>\n      <td>3.0</td>\n      <td>2020/11/13 00:00</td>\n      <td>72</td>\n      <td>91.3</td>\n      <td>182.9</td>\n      <td>376.24</td>\n      <td>...</td>\n      <td>...</td>\n      <td>...</td>\n      <td>4.9</td>\n    </tr>\n    <tr>\n      <th>2020-12-31 09:37:00</th>\n      <td>12</td>\n      <td>1007.3</td>\n      <td>1017.4</td>\n      <td>1015.8</td>\n      <td>1000.7</td>\n      <td>2020/12/28 15:16</td>\n      <td>19.5</td>\n      <td>28.5</td>\n      <td>2020/12/28 14:25</td>\n      <td>9.1</td>\n      <td>...</td>\n      <td>28.5</td>\n      <td>2020/12/9 00:00</td>\n      <td>77</td>\n      <td>81.4</td>\n      <td>156.2</td>\n      <td>338.25</td>\n      <td>...</td>\n      <td>...</td>\n      <td>...</td>\n      <td>6.6</td>\n    </tr>\n  </tbody>\n</table>\n<p>6 rows × 34 columns</p>\n</div>"
     },
     "metadata": {},
     "execution_count": 31
    }
   ],
   "source": [
    "df1[(df1.index.hour > 8) & (df1.index.hour < 12)]"
   ]
  },
  {
   "cell_type": "code",
   "execution_count": 32,
   "metadata": {},
   "outputs": [
    {
     "output_type": "execute_result",
     "data": {
      "text/plain": [
       "                     ObsTime  StnPres  SeaPres  StnPresMax  StnPresMin  \\\n",
       "StnPresMaxTime                                                           \n",
       "2020-01-01 09:33:00        1   1008.7   1018.9      1017.7       999.6   \n",
       "2020-02-21 09:02:00        2   1010.5   1020.6      1017.8      1001.7   \n",
       "2020-03-16 08:59:00        3   1005.3   1015.3      1011.6       995.5   \n",
       "2020-04-02 09:51:00        4   1005.7   1015.7      1010.9      1000.6   \n",
       "2020-05-01 08:49:00        5    999.4   1009.2      1005.0       992.7   \n",
       "2020-07-21 09:11:00        7    998.7   1008.3      1003.0       993.8   \n",
       "2020-09-19 08:55:00        9    999.5   1009.2      1005.1       991.9   \n",
       "2020-10-29 08:40:00       10   1002.0   1011.8      1008.0       995.5   \n",
       "2020-11-28 09:21:00       11   1005.9   1015.8      1011.0       998.4   \n",
       "2020-12-31 09:37:00       12   1007.3   1017.4      1015.8      1000.7   \n",
       "\n",
       "                       StnPresMinTime  Temperature  T Max        T Max Time  \\\n",
       "StnPresMaxTime                                                                \n",
       "2020-01-01 09:33:00   2020/1/26 13:39         18.0   29.0   2020/1/23 12:58   \n",
       "2020-02-21 09:02:00   2020/2/15 14:34         19.0   30.2   2020/2/26 12:12   \n",
       "2020-03-16 08:59:00    2020/3/9 14:36         22.3   33.2   2020/3/26 13:47   \n",
       "2020-04-02 09:51:00   2020/4/19 16:45         22.2   32.8   2020/4/19 12:57   \n",
       "2020-05-01 08:49:00   2020/5/17 15:52         27.5   36.9   2020/5/10 12:16   \n",
       "2020-07-21 09:11:00   2020/7/14 15:43         29.6   36.3   2020/7/31 13:00   \n",
       "2020-09-19 08:55:00    2020/9/1 03:36         28.1   35.1    2020/9/7 13:35   \n",
       "2020-10-29 08:40:00  2020/10/21 14:44         26.1   34.8   2020/10/4 13:28   \n",
       "2020-11-28 09:21:00   2020/11/6 15:30         23.9   33.7  2020/11/21 13:38   \n",
       "2020-12-31 09:37:00  2020/12/28 15:16         19.5   28.5  2020/12/28 14:25   \n",
       "\n",
       "                     T Min  ... Precp1DayMax  Precp1DayMaxTime  RH  EvapA  \\\n",
       "StnPresMaxTime              ...                                             \n",
       "2020-01-01 09:33:00    6.9  ...         20.0   2020/1/26 00:00  76   89.0   \n",
       "2020-02-21 09:02:00    8.4  ...          2.5   2020/2/15 00:00  72   82.0   \n",
       "2020-03-16 08:59:00   14.5  ...         23.5   2020/3/10 00:00  70  105.6   \n",
       "2020-04-02 09:51:00   12.8  ...         20.0    2020/4/2 00:00  70  100.7   \n",
       "2020-05-01 08:49:00   21.8  ...         61.0   2020/5/22 00:00  75  121.2   \n",
       "2020-07-21 09:11:00   24.0  ...         28.0    2020/7/2 00:00  74  137.2   \n",
       "2020-09-19 08:55:00   21.7  ...         54.5   2020/9/13 00:00  71  111.5   \n",
       "2020-10-29 08:40:00   19.7  ...          0.0   2020/10/1 00:00  69  132.4   \n",
       "2020-11-28 09:21:00   18.1  ...          3.0  2020/11/13 00:00  72   91.3   \n",
       "2020-12-31 09:37:00    9.1  ...         28.5   2020/12/9 00:00  77   81.4   \n",
       "\n",
       "                     SunShine  GloblRad UVI Max Mean UVI Max  UVI Max Time  \\\n",
       "StnPresMaxTime                                                               \n",
       "2020-01-01 09:33:00     225.1    418.05          ...     ...           ...   \n",
       "2020-02-21 09:02:00     212.5    446.52          ...     ...           ...   \n",
       "2020-03-16 08:59:00     178.0    480.35          ...     ...           ...   \n",
       "2020-04-02 09:51:00     154.5    493.50          ...     ...           ...   \n",
       "2020-05-01 08:49:00     167.2    522.51          ...     ...           ...   \n",
       "2020-07-21 09:11:00     215.1    614.72          ...     ...           ...   \n",
       "2020-09-19 08:55:00     198.6    512.50          ...     ...           ...   \n",
       "2020-10-29 08:40:00     220.1    506.06          ...     ...           ...   \n",
       "2020-11-28 09:21:00     182.9    376.24          ...     ...           ...   \n",
       "2020-12-31 09:37:00     156.2    338.25          ...     ...           ...   \n",
       "\n",
       "                     Cloud Amount  \n",
       "StnPresMaxTime                     \n",
       "2020-01-01 09:33:00           3.8  \n",
       "2020-02-21 09:02:00           4.0  \n",
       "2020-03-16 08:59:00           6.4  \n",
       "2020-04-02 09:51:00           6.4  \n",
       "2020-05-01 08:49:00           6.7  \n",
       "2020-07-21 09:11:00           5.9  \n",
       "2020-09-19 08:55:00           5.5  \n",
       "2020-10-29 08:40:00           5.0  \n",
       "2020-11-28 09:21:00           4.9  \n",
       "2020-12-31 09:37:00           6.6  \n",
       "\n",
       "[10 rows x 34 columns]"
      ],
      "text/html": "<div>\n<style scoped>\n    .dataframe tbody tr th:only-of-type {\n        vertical-align: middle;\n    }\n\n    .dataframe tbody tr th {\n        vertical-align: top;\n    }\n\n    .dataframe thead th {\n        text-align: right;\n    }\n</style>\n<table border=\"1\" class=\"dataframe\">\n  <thead>\n    <tr style=\"text-align: right;\">\n      <th></th>\n      <th>ObsTime</th>\n      <th>StnPres</th>\n      <th>SeaPres</th>\n      <th>StnPresMax</th>\n      <th>StnPresMin</th>\n      <th>StnPresMinTime</th>\n      <th>Temperature</th>\n      <th>T Max</th>\n      <th>T Max Time</th>\n      <th>T Min</th>\n      <th>...</th>\n      <th>Precp1DayMax</th>\n      <th>Precp1DayMaxTime</th>\n      <th>RH</th>\n      <th>EvapA</th>\n      <th>SunShine</th>\n      <th>GloblRad</th>\n      <th>UVI Max Mean</th>\n      <th>UVI Max</th>\n      <th>UVI Max Time</th>\n      <th>Cloud Amount</th>\n    </tr>\n    <tr>\n      <th>StnPresMaxTime</th>\n      <th></th>\n      <th></th>\n      <th></th>\n      <th></th>\n      <th></th>\n      <th></th>\n      <th></th>\n      <th></th>\n      <th></th>\n      <th></th>\n      <th></th>\n      <th></th>\n      <th></th>\n      <th></th>\n      <th></th>\n      <th></th>\n      <th></th>\n      <th></th>\n      <th></th>\n      <th></th>\n      <th></th>\n    </tr>\n  </thead>\n  <tbody>\n    <tr>\n      <th>2020-01-01 09:33:00</th>\n      <td>1</td>\n      <td>1008.7</td>\n      <td>1018.9</td>\n      <td>1017.7</td>\n      <td>999.6</td>\n      <td>2020/1/26 13:39</td>\n      <td>18.0</td>\n      <td>29.0</td>\n      <td>2020/1/23 12:58</td>\n      <td>6.9</td>\n      <td>...</td>\n      <td>20.0</td>\n      <td>2020/1/26 00:00</td>\n      <td>76</td>\n      <td>89.0</td>\n      <td>225.1</td>\n      <td>418.05</td>\n      <td>...</td>\n      <td>...</td>\n      <td>...</td>\n      <td>3.8</td>\n    </tr>\n    <tr>\n      <th>2020-02-21 09:02:00</th>\n      <td>2</td>\n      <td>1010.5</td>\n      <td>1020.6</td>\n      <td>1017.8</td>\n      <td>1001.7</td>\n      <td>2020/2/15 14:34</td>\n      <td>19.0</td>\n      <td>30.2</td>\n      <td>2020/2/26 12:12</td>\n      <td>8.4</td>\n      <td>...</td>\n      <td>2.5</td>\n      <td>2020/2/15 00:00</td>\n      <td>72</td>\n      <td>82.0</td>\n      <td>212.5</td>\n      <td>446.52</td>\n      <td>...</td>\n      <td>...</td>\n      <td>...</td>\n      <td>4.0</td>\n    </tr>\n    <tr>\n      <th>2020-03-16 08:59:00</th>\n      <td>3</td>\n      <td>1005.3</td>\n      <td>1015.3</td>\n      <td>1011.6</td>\n      <td>995.5</td>\n      <td>2020/3/9 14:36</td>\n      <td>22.3</td>\n      <td>33.2</td>\n      <td>2020/3/26 13:47</td>\n      <td>14.5</td>\n      <td>...</td>\n      <td>23.5</td>\n      <td>2020/3/10 00:00</td>\n      <td>70</td>\n      <td>105.6</td>\n      <td>178.0</td>\n      <td>480.35</td>\n      <td>...</td>\n      <td>...</td>\n      <td>...</td>\n      <td>6.4</td>\n    </tr>\n    <tr>\n      <th>2020-04-02 09:51:00</th>\n      <td>4</td>\n      <td>1005.7</td>\n      <td>1015.7</td>\n      <td>1010.9</td>\n      <td>1000.6</td>\n      <td>2020/4/19 16:45</td>\n      <td>22.2</td>\n      <td>32.8</td>\n      <td>2020/4/19 12:57</td>\n      <td>12.8</td>\n      <td>...</td>\n      <td>20.0</td>\n      <td>2020/4/2 00:00</td>\n      <td>70</td>\n      <td>100.7</td>\n      <td>154.5</td>\n      <td>493.50</td>\n      <td>...</td>\n      <td>...</td>\n      <td>...</td>\n      <td>6.4</td>\n    </tr>\n    <tr>\n      <th>2020-05-01 08:49:00</th>\n      <td>5</td>\n      <td>999.4</td>\n      <td>1009.2</td>\n      <td>1005.0</td>\n      <td>992.7</td>\n      <td>2020/5/17 15:52</td>\n      <td>27.5</td>\n      <td>36.9</td>\n      <td>2020/5/10 12:16</td>\n      <td>21.8</td>\n      <td>...</td>\n      <td>61.0</td>\n      <td>2020/5/22 00:00</td>\n      <td>75</td>\n      <td>121.2</td>\n      <td>167.2</td>\n      <td>522.51</td>\n      <td>...</td>\n      <td>...</td>\n      <td>...</td>\n      <td>6.7</td>\n    </tr>\n    <tr>\n      <th>2020-07-21 09:11:00</th>\n      <td>7</td>\n      <td>998.7</td>\n      <td>1008.3</td>\n      <td>1003.0</td>\n      <td>993.8</td>\n      <td>2020/7/14 15:43</td>\n      <td>29.6</td>\n      <td>36.3</td>\n      <td>2020/7/31 13:00</td>\n      <td>24.0</td>\n      <td>...</td>\n      <td>28.0</td>\n      <td>2020/7/2 00:00</td>\n      <td>74</td>\n      <td>137.2</td>\n      <td>215.1</td>\n      <td>614.72</td>\n      <td>...</td>\n      <td>...</td>\n      <td>...</td>\n      <td>5.9</td>\n    </tr>\n    <tr>\n      <th>2020-09-19 08:55:00</th>\n      <td>9</td>\n      <td>999.5</td>\n      <td>1009.2</td>\n      <td>1005.1</td>\n      <td>991.9</td>\n      <td>2020/9/1 03:36</td>\n      <td>28.1</td>\n      <td>35.1</td>\n      <td>2020/9/7 13:35</td>\n      <td>21.7</td>\n      <td>...</td>\n      <td>54.5</td>\n      <td>2020/9/13 00:00</td>\n      <td>71</td>\n      <td>111.5</td>\n      <td>198.6</td>\n      <td>512.50</td>\n      <td>...</td>\n      <td>...</td>\n      <td>...</td>\n      <td>5.5</td>\n    </tr>\n    <tr>\n      <th>2020-10-29 08:40:00</th>\n      <td>10</td>\n      <td>1002.0</td>\n      <td>1011.8</td>\n      <td>1008.0</td>\n      <td>995.5</td>\n      <td>2020/10/21 14:44</td>\n      <td>26.1</td>\n      <td>34.8</td>\n      <td>2020/10/4 13:28</td>\n      <td>19.7</td>\n      <td>...</td>\n      <td>0.0</td>\n      <td>2020/10/1 00:00</td>\n      <td>69</td>\n      <td>132.4</td>\n      <td>220.1</td>\n      <td>506.06</td>\n      <td>...</td>\n      <td>...</td>\n      <td>...</td>\n      <td>5.0</td>\n    </tr>\n    <tr>\n      <th>2020-11-28 09:21:00</th>\n      <td>11</td>\n      <td>1005.9</td>\n      <td>1015.8</td>\n      <td>1011.0</td>\n      <td>998.4</td>\n      <td>2020/11/6 15:30</td>\n      <td>23.9</td>\n      <td>33.7</td>\n      <td>2020/11/21 13:38</td>\n      <td>18.1</td>\n      <td>...</td>\n      <td>3.0</td>\n      <td>2020/11/13 00:00</td>\n      <td>72</td>\n      <td>91.3</td>\n      <td>182.9</td>\n      <td>376.24</td>\n      <td>...</td>\n      <td>...</td>\n      <td>...</td>\n      <td>4.9</td>\n    </tr>\n    <tr>\n      <th>2020-12-31 09:37:00</th>\n      <td>12</td>\n      <td>1007.3</td>\n      <td>1017.4</td>\n      <td>1015.8</td>\n      <td>1000.7</td>\n      <td>2020/12/28 15:16</td>\n      <td>19.5</td>\n      <td>28.5</td>\n      <td>2020/12/28 14:25</td>\n      <td>9.1</td>\n      <td>...</td>\n      <td>28.5</td>\n      <td>2020/12/9 00:00</td>\n      <td>77</td>\n      <td>81.4</td>\n      <td>156.2</td>\n      <td>338.25</td>\n      <td>...</td>\n      <td>...</td>\n      <td>...</td>\n      <td>6.6</td>\n    </tr>\n  </tbody>\n</table>\n<p>10 rows × 34 columns</p>\n</div>"
     },
     "metadata": {},
     "execution_count": 32
    }
   ],
   "source": [
    "df1.between_time('08:00','12:00') # include 12:00"
   ]
  },
  {
   "cell_type": "code",
   "execution_count": 39,
   "metadata": {},
   "outputs": [
    {
     "output_type": "execute_result",
     "data": {
      "text/plain": [
       "                ObsTime  StnPres  SeaPres  StnPresMax  StnPresMin  \\\n",
       "StnPresMaxTime                                                      \n",
       "2020-01-01          1.0   1008.7   1018.9      1017.7       999.6   \n",
       "2020-02-21          2.0   1010.5   1020.6      1017.8      1001.7   \n",
       "2020-03-16          3.0   1005.3   1015.3      1011.6       995.5   \n",
       "2020-04-02          4.0   1005.7   1015.7      1010.9      1000.6   \n",
       "2020-05-01          5.0    999.4   1009.2      1005.0       992.7   \n",
       "2020-06-15          6.0    999.1   1008.8      1004.7       994.8   \n",
       "2020-07-21          7.0    998.7   1008.3      1003.0       993.8   \n",
       "2020-08-12          8.0    997.5   1007.2      1006.0       991.6   \n",
       "2020-09-19          9.0    999.5   1009.2      1005.1       991.9   \n",
       "2020-10-29         10.0   1002.0   1011.8      1008.0       995.5   \n",
       "2020-11-28         11.0   1005.9   1015.8      1011.0       998.4   \n",
       "2020-12-31         12.0   1007.3   1017.4      1015.8      1000.7   \n",
       "\n",
       "                Temperature  T Max  T Min  Td dew point   WS  ...  WDGust  \\\n",
       "StnPresMaxTime                                                ...           \n",
       "2020-01-01             18.0   29.0    6.9          13.5  1.3  ...    30.0   \n",
       "2020-02-21             19.0   30.2    8.4          13.5  1.3  ...   350.0   \n",
       "2020-03-16             22.3   33.2   14.5          16.5  1.3  ...   320.0   \n",
       "2020-04-02             22.2   32.8   12.8          16.1  1.3  ...   340.0   \n",
       "2020-05-01             27.5   36.9   21.8          22.4  1.3  ...   190.0   \n",
       "2020-06-15             29.1   35.1   22.0          22.9  1.7  ...   260.0   \n",
       "2020-07-21             29.6   36.3   24.0          24.3  1.5  ...   250.0   \n",
       "2020-08-12             28.5   35.2   23.2          23.5  1.2  ...   170.0   \n",
       "2020-09-19             28.1   35.1   21.7          22.3  1.3  ...    20.0   \n",
       "2020-10-29             26.1   34.8   19.7          20.0  1.7  ...    10.0   \n",
       "2020-11-28             23.9   33.7   18.1          18.5  1.4  ...   360.0   \n",
       "2020-12-31             19.5   28.5    9.1          15.2  1.8  ...    10.0   \n",
       "\n",
       "                PrecpHour  PrecpDay  PrecpMax60  Precp1DayMax    RH  EvapA  \\\n",
       "StnPresMaxTime                                                               \n",
       "2020-01-01           12.6       1.0         6.0          20.0  76.0   89.0   \n",
       "2020-02-21           12.8       2.0         2.5           2.5  72.0   82.0   \n",
       "2020-03-16           26.5       6.0        10.5          23.5  70.0  105.6   \n",
       "2020-04-02           52.5       9.0        11.5          20.0  70.0  100.7   \n",
       "2020-05-01           72.1      11.0        29.0          61.0  75.0  121.2   \n",
       "2020-06-15           23.5       5.0        91.0          99.0  70.0  121.8   \n",
       "2020-07-21           19.8      12.0        18.0          28.0  74.0  137.2   \n",
       "2020-08-12           42.1      16.0        50.5          70.0  75.0  112.6   \n",
       "2020-09-19            8.1       4.0        54.0          54.5  71.0  111.5   \n",
       "2020-10-29            3.6       0.0         0.0           0.0  69.0  132.4   \n",
       "2020-11-28           16.5       2.0         1.0           3.0  72.0   91.3   \n",
       "2020-12-31           36.0       6.0        11.0          28.5  77.0   81.4   \n",
       "\n",
       "                SunShine  GloblRad  Cloud Amount  \n",
       "StnPresMaxTime                                    \n",
       "2020-01-01         225.1    418.05           3.8  \n",
       "2020-02-21         212.5    446.52           4.0  \n",
       "2020-03-16         178.0    480.35           6.4  \n",
       "2020-04-02         154.5    493.50           6.4  \n",
       "2020-05-01         167.2    522.51           6.7  \n",
       "2020-06-15         211.9    609.28           5.4  \n",
       "2020-07-21         215.1    614.72           5.9  \n",
       "2020-08-12         174.5    526.22           6.3  \n",
       "2020-09-19         198.6    512.50           5.5  \n",
       "2020-10-29         220.1    506.06           5.0  \n",
       "2020-11-28         182.9    376.24           4.9  \n",
       "2020-12-31         156.2    338.25           6.6  \n",
       "\n",
       "[12 rows x 22 columns]"
      ],
      "text/html": "<div>\n<style scoped>\n    .dataframe tbody tr th:only-of-type {\n        vertical-align: middle;\n    }\n\n    .dataframe tbody tr th {\n        vertical-align: top;\n    }\n\n    .dataframe thead th {\n        text-align: right;\n    }\n</style>\n<table border=\"1\" class=\"dataframe\">\n  <thead>\n    <tr style=\"text-align: right;\">\n      <th></th>\n      <th>ObsTime</th>\n      <th>StnPres</th>\n      <th>SeaPres</th>\n      <th>StnPresMax</th>\n      <th>StnPresMin</th>\n      <th>Temperature</th>\n      <th>T Max</th>\n      <th>T Min</th>\n      <th>Td dew point</th>\n      <th>WS</th>\n      <th>...</th>\n      <th>WDGust</th>\n      <th>PrecpHour</th>\n      <th>PrecpDay</th>\n      <th>PrecpMax60</th>\n      <th>Precp1DayMax</th>\n      <th>RH</th>\n      <th>EvapA</th>\n      <th>SunShine</th>\n      <th>GloblRad</th>\n      <th>Cloud Amount</th>\n    </tr>\n    <tr>\n      <th>StnPresMaxTime</th>\n      <th></th>\n      <th></th>\n      <th></th>\n      <th></th>\n      <th></th>\n      <th></th>\n      <th></th>\n      <th></th>\n      <th></th>\n      <th></th>\n      <th></th>\n      <th></th>\n      <th></th>\n      <th></th>\n      <th></th>\n      <th></th>\n      <th></th>\n      <th></th>\n      <th></th>\n      <th></th>\n      <th></th>\n    </tr>\n  </thead>\n  <tbody>\n    <tr>\n      <th>2020-01-01</th>\n      <td>1.0</td>\n      <td>1008.7</td>\n      <td>1018.9</td>\n      <td>1017.7</td>\n      <td>999.6</td>\n      <td>18.0</td>\n      <td>29.0</td>\n      <td>6.9</td>\n      <td>13.5</td>\n      <td>1.3</td>\n      <td>...</td>\n      <td>30.0</td>\n      <td>12.6</td>\n      <td>1.0</td>\n      <td>6.0</td>\n      <td>20.0</td>\n      <td>76.0</td>\n      <td>89.0</td>\n      <td>225.1</td>\n      <td>418.05</td>\n      <td>3.8</td>\n    </tr>\n    <tr>\n      <th>2020-02-21</th>\n      <td>2.0</td>\n      <td>1010.5</td>\n      <td>1020.6</td>\n      <td>1017.8</td>\n      <td>1001.7</td>\n      <td>19.0</td>\n      <td>30.2</td>\n      <td>8.4</td>\n      <td>13.5</td>\n      <td>1.3</td>\n      <td>...</td>\n      <td>350.0</td>\n      <td>12.8</td>\n      <td>2.0</td>\n      <td>2.5</td>\n      <td>2.5</td>\n      <td>72.0</td>\n      <td>82.0</td>\n      <td>212.5</td>\n      <td>446.52</td>\n      <td>4.0</td>\n    </tr>\n    <tr>\n      <th>2020-03-16</th>\n      <td>3.0</td>\n      <td>1005.3</td>\n      <td>1015.3</td>\n      <td>1011.6</td>\n      <td>995.5</td>\n      <td>22.3</td>\n      <td>33.2</td>\n      <td>14.5</td>\n      <td>16.5</td>\n      <td>1.3</td>\n      <td>...</td>\n      <td>320.0</td>\n      <td>26.5</td>\n      <td>6.0</td>\n      <td>10.5</td>\n      <td>23.5</td>\n      <td>70.0</td>\n      <td>105.6</td>\n      <td>178.0</td>\n      <td>480.35</td>\n      <td>6.4</td>\n    </tr>\n    <tr>\n      <th>2020-04-02</th>\n      <td>4.0</td>\n      <td>1005.7</td>\n      <td>1015.7</td>\n      <td>1010.9</td>\n      <td>1000.6</td>\n      <td>22.2</td>\n      <td>32.8</td>\n      <td>12.8</td>\n      <td>16.1</td>\n      <td>1.3</td>\n      <td>...</td>\n      <td>340.0</td>\n      <td>52.5</td>\n      <td>9.0</td>\n      <td>11.5</td>\n      <td>20.0</td>\n      <td>70.0</td>\n      <td>100.7</td>\n      <td>154.5</td>\n      <td>493.50</td>\n      <td>6.4</td>\n    </tr>\n    <tr>\n      <th>2020-05-01</th>\n      <td>5.0</td>\n      <td>999.4</td>\n      <td>1009.2</td>\n      <td>1005.0</td>\n      <td>992.7</td>\n      <td>27.5</td>\n      <td>36.9</td>\n      <td>21.8</td>\n      <td>22.4</td>\n      <td>1.3</td>\n      <td>...</td>\n      <td>190.0</td>\n      <td>72.1</td>\n      <td>11.0</td>\n      <td>29.0</td>\n      <td>61.0</td>\n      <td>75.0</td>\n      <td>121.2</td>\n      <td>167.2</td>\n      <td>522.51</td>\n      <td>6.7</td>\n    </tr>\n    <tr>\n      <th>2020-06-15</th>\n      <td>6.0</td>\n      <td>999.1</td>\n      <td>1008.8</td>\n      <td>1004.7</td>\n      <td>994.8</td>\n      <td>29.1</td>\n      <td>35.1</td>\n      <td>22.0</td>\n      <td>22.9</td>\n      <td>1.7</td>\n      <td>...</td>\n      <td>260.0</td>\n      <td>23.5</td>\n      <td>5.0</td>\n      <td>91.0</td>\n      <td>99.0</td>\n      <td>70.0</td>\n      <td>121.8</td>\n      <td>211.9</td>\n      <td>609.28</td>\n      <td>5.4</td>\n    </tr>\n    <tr>\n      <th>2020-07-21</th>\n      <td>7.0</td>\n      <td>998.7</td>\n      <td>1008.3</td>\n      <td>1003.0</td>\n      <td>993.8</td>\n      <td>29.6</td>\n      <td>36.3</td>\n      <td>24.0</td>\n      <td>24.3</td>\n      <td>1.5</td>\n      <td>...</td>\n      <td>250.0</td>\n      <td>19.8</td>\n      <td>12.0</td>\n      <td>18.0</td>\n      <td>28.0</td>\n      <td>74.0</td>\n      <td>137.2</td>\n      <td>215.1</td>\n      <td>614.72</td>\n      <td>5.9</td>\n    </tr>\n    <tr>\n      <th>2020-08-12</th>\n      <td>8.0</td>\n      <td>997.5</td>\n      <td>1007.2</td>\n      <td>1006.0</td>\n      <td>991.6</td>\n      <td>28.5</td>\n      <td>35.2</td>\n      <td>23.2</td>\n      <td>23.5</td>\n      <td>1.2</td>\n      <td>...</td>\n      <td>170.0</td>\n      <td>42.1</td>\n      <td>16.0</td>\n      <td>50.5</td>\n      <td>70.0</td>\n      <td>75.0</td>\n      <td>112.6</td>\n      <td>174.5</td>\n      <td>526.22</td>\n      <td>6.3</td>\n    </tr>\n    <tr>\n      <th>2020-09-19</th>\n      <td>9.0</td>\n      <td>999.5</td>\n      <td>1009.2</td>\n      <td>1005.1</td>\n      <td>991.9</td>\n      <td>28.1</td>\n      <td>35.1</td>\n      <td>21.7</td>\n      <td>22.3</td>\n      <td>1.3</td>\n      <td>...</td>\n      <td>20.0</td>\n      <td>8.1</td>\n      <td>4.0</td>\n      <td>54.0</td>\n      <td>54.5</td>\n      <td>71.0</td>\n      <td>111.5</td>\n      <td>198.6</td>\n      <td>512.50</td>\n      <td>5.5</td>\n    </tr>\n    <tr>\n      <th>2020-10-29</th>\n      <td>10.0</td>\n      <td>1002.0</td>\n      <td>1011.8</td>\n      <td>1008.0</td>\n      <td>995.5</td>\n      <td>26.1</td>\n      <td>34.8</td>\n      <td>19.7</td>\n      <td>20.0</td>\n      <td>1.7</td>\n      <td>...</td>\n      <td>10.0</td>\n      <td>3.6</td>\n      <td>0.0</td>\n      <td>0.0</td>\n      <td>0.0</td>\n      <td>69.0</td>\n      <td>132.4</td>\n      <td>220.1</td>\n      <td>506.06</td>\n      <td>5.0</td>\n    </tr>\n    <tr>\n      <th>2020-11-28</th>\n      <td>11.0</td>\n      <td>1005.9</td>\n      <td>1015.8</td>\n      <td>1011.0</td>\n      <td>998.4</td>\n      <td>23.9</td>\n      <td>33.7</td>\n      <td>18.1</td>\n      <td>18.5</td>\n      <td>1.4</td>\n      <td>...</td>\n      <td>360.0</td>\n      <td>16.5</td>\n      <td>2.0</td>\n      <td>1.0</td>\n      <td>3.0</td>\n      <td>72.0</td>\n      <td>91.3</td>\n      <td>182.9</td>\n      <td>376.24</td>\n      <td>4.9</td>\n    </tr>\n    <tr>\n      <th>2020-12-31</th>\n      <td>12.0</td>\n      <td>1007.3</td>\n      <td>1017.4</td>\n      <td>1015.8</td>\n      <td>1000.7</td>\n      <td>19.5</td>\n      <td>28.5</td>\n      <td>9.1</td>\n      <td>15.2</td>\n      <td>1.8</td>\n      <td>...</td>\n      <td>10.0</td>\n      <td>36.0</td>\n      <td>6.0</td>\n      <td>11.0</td>\n      <td>28.5</td>\n      <td>77.0</td>\n      <td>81.4</td>\n      <td>156.2</td>\n      <td>338.25</td>\n      <td>6.6</td>\n    </tr>\n  </tbody>\n</table>\n<p>12 rows × 22 columns</p>\n</div>"
     },
     "metadata": {},
     "execution_count": 39
    }
   ],
   "source": [
    "df1.resample('D').mean().dropna() # 以天為單位 取每天平均  dropna(how=\"all\" subset=['id]) 指定id為NAN del, how='all' all col nan del"
   ]
  },
  {
   "cell_type": "code",
   "execution_count": 38,
   "metadata": {},
   "outputs": [
    {
     "output_type": "execute_result",
     "data": {
      "text/plain": [
       "                ObsTime  StnPres  SeaPres  StnPresMax  StnPresMin  \\\n",
       "StnPresMaxTime                                                      \n",
       "2020-01-01         True     True     True        True        True   \n",
       "2020-01-04        False    False    False       False       False   \n",
       "2020-01-07        False    False    False       False       False   \n",
       "2020-01-10        False    False    False       False       False   \n",
       "2020-01-13        False    False    False       False       False   \n",
       "...                 ...      ...      ...         ...         ...   \n",
       "2020-12-17        False    False    False       False       False   \n",
       "2020-12-20        False    False    False       False       False   \n",
       "2020-12-23        False    False    False       False       False   \n",
       "2020-12-26        False    False    False       False       False   \n",
       "2020-12-29         True     True     True        True        True   \n",
       "\n",
       "                Temperature  T Max  T Min  Td dew point     WS  ...  WDGust  \\\n",
       "StnPresMaxTime                                                  ...           \n",
       "2020-01-01             True   True   True          True   True  ...    True   \n",
       "2020-01-04            False  False  False         False  False  ...   False   \n",
       "2020-01-07            False  False  False         False  False  ...   False   \n",
       "2020-01-10            False  False  False         False  False  ...   False   \n",
       "2020-01-13            False  False  False         False  False  ...   False   \n",
       "...                     ...    ...    ...           ...    ...  ...     ...   \n",
       "2020-12-17            False  False  False         False  False  ...   False   \n",
       "2020-12-20            False  False  False         False  False  ...   False   \n",
       "2020-12-23            False  False  False         False  False  ...   False   \n",
       "2020-12-26            False  False  False         False  False  ...   False   \n",
       "2020-12-29             True   True   True          True   True  ...    True   \n",
       "\n",
       "                PrecpHour  PrecpDay  PrecpMax60  Precp1DayMax     RH  EvapA  \\\n",
       "StnPresMaxTime                                                                \n",
       "2020-01-01           True      True        True          True   True   True   \n",
       "2020-01-04          False     False       False         False  False  False   \n",
       "2020-01-07          False     False       False         False  False  False   \n",
       "2020-01-10          False     False       False         False  False  False   \n",
       "2020-01-13          False     False       False         False  False  False   \n",
       "...                   ...       ...         ...           ...    ...    ...   \n",
       "2020-12-17          False     False       False         False  False  False   \n",
       "2020-12-20          False     False       False         False  False  False   \n",
       "2020-12-23          False     False       False         False  False  False   \n",
       "2020-12-26          False     False       False         False  False  False   \n",
       "2020-12-29           True      True        True          True   True   True   \n",
       "\n",
       "                SunShine  GloblRad  Cloud Amount  \n",
       "StnPresMaxTime                                    \n",
       "2020-01-01          True      True          True  \n",
       "2020-01-04         False     False         False  \n",
       "2020-01-07         False     False         False  \n",
       "2020-01-10         False     False         False  \n",
       "2020-01-13         False     False         False  \n",
       "...                  ...       ...           ...  \n",
       "2020-12-17         False     False         False  \n",
       "2020-12-20         False     False         False  \n",
       "2020-12-23         False     False         False  \n",
       "2020-12-26         False     False         False  \n",
       "2020-12-29          True      True          True  \n",
       "\n",
       "[122 rows x 22 columns]"
      ],
      "text/html": "<div>\n<style scoped>\n    .dataframe tbody tr th:only-of-type {\n        vertical-align: middle;\n    }\n\n    .dataframe tbody tr th {\n        vertical-align: top;\n    }\n\n    .dataframe thead th {\n        text-align: right;\n    }\n</style>\n<table border=\"1\" class=\"dataframe\">\n  <thead>\n    <tr style=\"text-align: right;\">\n      <th></th>\n      <th>ObsTime</th>\n      <th>StnPres</th>\n      <th>SeaPres</th>\n      <th>StnPresMax</th>\n      <th>StnPresMin</th>\n      <th>Temperature</th>\n      <th>T Max</th>\n      <th>T Min</th>\n      <th>Td dew point</th>\n      <th>WS</th>\n      <th>...</th>\n      <th>WDGust</th>\n      <th>PrecpHour</th>\n      <th>PrecpDay</th>\n      <th>PrecpMax60</th>\n      <th>Precp1DayMax</th>\n      <th>RH</th>\n      <th>EvapA</th>\n      <th>SunShine</th>\n      <th>GloblRad</th>\n      <th>Cloud Amount</th>\n    </tr>\n    <tr>\n      <th>StnPresMaxTime</th>\n      <th></th>\n      <th></th>\n      <th></th>\n      <th></th>\n      <th></th>\n      <th></th>\n      <th></th>\n      <th></th>\n      <th></th>\n      <th></th>\n      <th></th>\n      <th></th>\n      <th></th>\n      <th></th>\n      <th></th>\n      <th></th>\n      <th></th>\n      <th></th>\n      <th></th>\n      <th></th>\n      <th></th>\n    </tr>\n  </thead>\n  <tbody>\n    <tr>\n      <th>2020-01-01</th>\n      <td>True</td>\n      <td>True</td>\n      <td>True</td>\n      <td>True</td>\n      <td>True</td>\n      <td>True</td>\n      <td>True</td>\n      <td>True</td>\n      <td>True</td>\n      <td>True</td>\n      <td>...</td>\n      <td>True</td>\n      <td>True</td>\n      <td>True</td>\n      <td>True</td>\n      <td>True</td>\n      <td>True</td>\n      <td>True</td>\n      <td>True</td>\n      <td>True</td>\n      <td>True</td>\n    </tr>\n    <tr>\n      <th>2020-01-04</th>\n      <td>False</td>\n      <td>False</td>\n      <td>False</td>\n      <td>False</td>\n      <td>False</td>\n      <td>False</td>\n      <td>False</td>\n      <td>False</td>\n      <td>False</td>\n      <td>False</td>\n      <td>...</td>\n      <td>False</td>\n      <td>False</td>\n      <td>False</td>\n      <td>False</td>\n      <td>False</td>\n      <td>False</td>\n      <td>False</td>\n      <td>False</td>\n      <td>False</td>\n      <td>False</td>\n    </tr>\n    <tr>\n      <th>2020-01-07</th>\n      <td>False</td>\n      <td>False</td>\n      <td>False</td>\n      <td>False</td>\n      <td>False</td>\n      <td>False</td>\n      <td>False</td>\n      <td>False</td>\n      <td>False</td>\n      <td>False</td>\n      <td>...</td>\n      <td>False</td>\n      <td>False</td>\n      <td>False</td>\n      <td>False</td>\n      <td>False</td>\n      <td>False</td>\n      <td>False</td>\n      <td>False</td>\n      <td>False</td>\n      <td>False</td>\n    </tr>\n    <tr>\n      <th>2020-01-10</th>\n      <td>False</td>\n      <td>False</td>\n      <td>False</td>\n      <td>False</td>\n      <td>False</td>\n      <td>False</td>\n      <td>False</td>\n      <td>False</td>\n      <td>False</td>\n      <td>False</td>\n      <td>...</td>\n      <td>False</td>\n      <td>False</td>\n      <td>False</td>\n      <td>False</td>\n      <td>False</td>\n      <td>False</td>\n      <td>False</td>\n      <td>False</td>\n      <td>False</td>\n      <td>False</td>\n    </tr>\n    <tr>\n      <th>2020-01-13</th>\n      <td>False</td>\n      <td>False</td>\n      <td>False</td>\n      <td>False</td>\n      <td>False</td>\n      <td>False</td>\n      <td>False</td>\n      <td>False</td>\n      <td>False</td>\n      <td>False</td>\n      <td>...</td>\n      <td>False</td>\n      <td>False</td>\n      <td>False</td>\n      <td>False</td>\n      <td>False</td>\n      <td>False</td>\n      <td>False</td>\n      <td>False</td>\n      <td>False</td>\n      <td>False</td>\n    </tr>\n    <tr>\n      <th>...</th>\n      <td>...</td>\n      <td>...</td>\n      <td>...</td>\n      <td>...</td>\n      <td>...</td>\n      <td>...</td>\n      <td>...</td>\n      <td>...</td>\n      <td>...</td>\n      <td>...</td>\n      <td>...</td>\n      <td>...</td>\n      <td>...</td>\n      <td>...</td>\n      <td>...</td>\n      <td>...</td>\n      <td>...</td>\n      <td>...</td>\n      <td>...</td>\n      <td>...</td>\n      <td>...</td>\n    </tr>\n    <tr>\n      <th>2020-12-17</th>\n      <td>False</td>\n      <td>False</td>\n      <td>False</td>\n      <td>False</td>\n      <td>False</td>\n      <td>False</td>\n      <td>False</td>\n      <td>False</td>\n      <td>False</td>\n      <td>False</td>\n      <td>...</td>\n      <td>False</td>\n      <td>False</td>\n      <td>False</td>\n      <td>False</td>\n      <td>False</td>\n      <td>False</td>\n      <td>False</td>\n      <td>False</td>\n      <td>False</td>\n      <td>False</td>\n    </tr>\n    <tr>\n      <th>2020-12-20</th>\n      <td>False</td>\n      <td>False</td>\n      <td>False</td>\n      <td>False</td>\n      <td>False</td>\n      <td>False</td>\n      <td>False</td>\n      <td>False</td>\n      <td>False</td>\n      <td>False</td>\n      <td>...</td>\n      <td>False</td>\n      <td>False</td>\n      <td>False</td>\n      <td>False</td>\n      <td>False</td>\n      <td>False</td>\n      <td>False</td>\n      <td>False</td>\n      <td>False</td>\n      <td>False</td>\n    </tr>\n    <tr>\n      <th>2020-12-23</th>\n      <td>False</td>\n      <td>False</td>\n      <td>False</td>\n      <td>False</td>\n      <td>False</td>\n      <td>False</td>\n      <td>False</td>\n      <td>False</td>\n      <td>False</td>\n      <td>False</td>\n      <td>...</td>\n      <td>False</td>\n      <td>False</td>\n      <td>False</td>\n      <td>False</td>\n      <td>False</td>\n      <td>False</td>\n      <td>False</td>\n      <td>False</td>\n      <td>False</td>\n      <td>False</td>\n    </tr>\n    <tr>\n      <th>2020-12-26</th>\n      <td>False</td>\n      <td>False</td>\n      <td>False</td>\n      <td>False</td>\n      <td>False</td>\n      <td>False</td>\n      <td>False</td>\n      <td>False</td>\n      <td>False</td>\n      <td>False</td>\n      <td>...</td>\n      <td>False</td>\n      <td>False</td>\n      <td>False</td>\n      <td>False</td>\n      <td>False</td>\n      <td>False</td>\n      <td>False</td>\n      <td>False</td>\n      <td>False</td>\n      <td>False</td>\n    </tr>\n    <tr>\n      <th>2020-12-29</th>\n      <td>True</td>\n      <td>True</td>\n      <td>True</td>\n      <td>True</td>\n      <td>True</td>\n      <td>True</td>\n      <td>True</td>\n      <td>True</td>\n      <td>True</td>\n      <td>True</td>\n      <td>...</td>\n      <td>True</td>\n      <td>True</td>\n      <td>True</td>\n      <td>True</td>\n      <td>True</td>\n      <td>True</td>\n      <td>True</td>\n      <td>True</td>\n      <td>True</td>\n      <td>True</td>\n    </tr>\n  </tbody>\n</table>\n<p>122 rows × 22 columns</p>\n</div>"
     },
     "metadata": {},
     "execution_count": 38
    }
   ],
   "source": [
    "\n",
    "df1.resample('3D').mean().notna() # nan return false"
   ]
  },
  {
   "cell_type": "code",
   "execution_count": null,
   "metadata": {},
   "outputs": [],
   "source": []
  }
 ]
}