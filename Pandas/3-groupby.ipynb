{
 "metadata": {
  "language_info": {
   "codemirror_mode": {
    "name": "ipython",
    "version": 3
   },
   "file_extension": ".py",
   "mimetype": "text/x-python",
   "name": "python",
   "nbconvert_exporter": "python",
   "pygments_lexer": "ipython3",
   "version": "3.8.5"
  },
  "orig_nbformat": 4,
  "kernelspec": {
   "name": "python3",
   "display_name": "Python 3.8.5 64-bit"
  },
  "interpreter": {
   "hash": "4eaf1be304415beee96765ae99c3f893cc8312c7f1196698e6029668e9aeb3e5"
  }
 },
 "nbformat": 4,
 "nbformat_minor": 2,
 "cells": [
  {
   "cell_type": "code",
   "execution_count": null,
   "metadata": {},
   "outputs": [],
   "source": [
    "# groupby\n",
    "# original data -> split -> apply -> combined"
   ]
  },
  {
   "cell_type": "code",
   "execution_count": 9,
   "metadata": {},
   "outputs": [],
   "source": [
    "import pandas as pd\n",
    "import numpy as np"
   ]
  },
  {
   "cell_type": "code",
   "execution_count": 3,
   "metadata": {},
   "outputs": [
    {
     "output_type": "execute_result",
     "data": {
      "text/plain": [
       "  key  data\n",
       "0   a     0\n",
       "1   b     5\n",
       "2   c    15\n",
       "3   a    20\n",
       "4   b    15\n",
       "5   c    20\n",
       "6   a    25\n",
       "7   b    15\n",
       "8   c     5"
      ],
      "text/html": "<div>\n<style scoped>\n    .dataframe tbody tr th:only-of-type {\n        vertical-align: middle;\n    }\n\n    .dataframe tbody tr th {\n        vertical-align: top;\n    }\n\n    .dataframe thead th {\n        text-align: right;\n    }\n</style>\n<table border=\"1\" class=\"dataframe\">\n  <thead>\n    <tr style=\"text-align: right;\">\n      <th></th>\n      <th>key</th>\n      <th>data</th>\n    </tr>\n  </thead>\n  <tbody>\n    <tr>\n      <th>0</th>\n      <td>a</td>\n      <td>0</td>\n    </tr>\n    <tr>\n      <th>1</th>\n      <td>b</td>\n      <td>5</td>\n    </tr>\n    <tr>\n      <th>2</th>\n      <td>c</td>\n      <td>15</td>\n    </tr>\n    <tr>\n      <th>3</th>\n      <td>a</td>\n      <td>20</td>\n    </tr>\n    <tr>\n      <th>4</th>\n      <td>b</td>\n      <td>15</td>\n    </tr>\n    <tr>\n      <th>5</th>\n      <td>c</td>\n      <td>20</td>\n    </tr>\n    <tr>\n      <th>6</th>\n      <td>a</td>\n      <td>25</td>\n    </tr>\n    <tr>\n      <th>7</th>\n      <td>b</td>\n      <td>15</td>\n    </tr>\n    <tr>\n      <th>8</th>\n      <td>c</td>\n      <td>5</td>\n    </tr>\n  </tbody>\n</table>\n</div>"
     },
     "metadata": {},
     "execution_count": 3
    }
   ],
   "source": [
    "df = pd.DataFrame({'key':['a','b','c','a','b','c','a','b','c'],\n",
    "                    'data':[0,5,15,20,15,20,25,15,5]})\n",
    "df"
   ]
  },
  {
   "cell_type": "code",
   "execution_count": 4,
   "metadata": {},
   "outputs": [
    {
     "output_type": "stream",
     "name": "stdout",
     "text": [
      "a key     aaa\ndata     45\ndtype: object\nb key     bbb\ndata     35\ndtype: object\nc key     ccc\ndata     40\ndtype: object\n"
     ]
    }
   ],
   "source": [
    "for key in ['a','b','c']:\n",
    "    print(key,df[df['key'] == key].sum())"
   ]
  },
  {
   "cell_type": "code",
   "execution_count": 5,
   "metadata": {},
   "outputs": [
    {
     "output_type": "execute_result",
     "data": {
      "text/plain": [
       "     data\n",
       "key      \n",
       "a      45\n",
       "b      35\n",
       "c      40"
      ],
      "text/html": "<div>\n<style scoped>\n    .dataframe tbody tr th:only-of-type {\n        vertical-align: middle;\n    }\n\n    .dataframe tbody tr th {\n        vertical-align: top;\n    }\n\n    .dataframe thead th {\n        text-align: right;\n    }\n</style>\n<table border=\"1\" class=\"dataframe\">\n  <thead>\n    <tr style=\"text-align: right;\">\n      <th></th>\n      <th>data</th>\n    </tr>\n    <tr>\n      <th>key</th>\n      <th></th>\n    </tr>\n  </thead>\n  <tbody>\n    <tr>\n      <th>a</th>\n      <td>45</td>\n    </tr>\n    <tr>\n      <th>b</th>\n      <td>35</td>\n    </tr>\n    <tr>\n      <th>c</th>\n      <td>40</td>\n    </tr>\n  </tbody>\n</table>\n</div>"
     },
     "metadata": {},
     "execution_count": 5
    }
   ],
   "source": [
    "df.groupby('key').sum()"
   ]
  },
  {
   "cell_type": "code",
   "execution_count": 13,
   "metadata": {},
   "outputs": [
    {
     "output_type": "execute_result",
     "data": {
      "text/plain": [
       "          data\n",
       "key           \n",
       "a    15.000000\n",
       "b    11.666667\n",
       "c    13.333333"
      ],
      "text/html": "<div>\n<style scoped>\n    .dataframe tbody tr th:only-of-type {\n        vertical-align: middle;\n    }\n\n    .dataframe tbody tr th {\n        vertical-align: top;\n    }\n\n    .dataframe thead th {\n        text-align: right;\n    }\n</style>\n<table border=\"1\" class=\"dataframe\">\n  <thead>\n    <tr style=\"text-align: right;\">\n      <th></th>\n      <th>data</th>\n    </tr>\n    <tr>\n      <th>key</th>\n      <th></th>\n    </tr>\n  </thead>\n  <tbody>\n    <tr>\n      <th>a</th>\n      <td>15.000000</td>\n    </tr>\n    <tr>\n      <th>b</th>\n      <td>11.666667</td>\n    </tr>\n    <tr>\n      <th>c</th>\n      <td>13.333333</td>\n    </tr>\n  </tbody>\n</table>\n</div>"
     },
     "metadata": {},
     "execution_count": 13
    }
   ],
   "source": [
    "df.groupby('key').aggregate(np.mean)"
   ]
  },
  {
   "cell_type": "code",
   "execution_count": 16,
   "metadata": {},
   "outputs": [
    {
     "output_type": "execute_result",
     "data": {
      "text/plain": [
       "    ObsTime  StnPres  SeaPres  StnPresMax    StnPresMaxTime  StnPresMin  \\\n",
       "0         1   1008.7   1018.9      1017.7    2020/1/1 09:33       999.6   \n",
       "1         2   1010.5   1020.6      1017.8   2020/2/21 09:02      1001.7   \n",
       "2         3   1005.3   1015.3      1011.6   2020/3/16 08:59       995.5   \n",
       "3         4   1005.7   1015.7      1010.9    2020/4/2 09:51      1000.6   \n",
       "4         5    999.4   1009.2      1005.0    2020/5/1 08:49       992.7   \n",
       "5         6    999.1   1008.8      1004.7   2020/6/15 00:04       994.8   \n",
       "6         7    998.7   1008.3      1003.0   2020/7/21 09:11       993.8   \n",
       "7         8    997.5   1007.2      1006.0   2020/8/12 21:54       991.6   \n",
       "8         9    999.5   1009.2      1005.1   2020/9/19 08:55       991.9   \n",
       "9        10   1002.0   1011.8      1008.0  2020/10/29 08:40       995.5   \n",
       "10       11   1005.9   1015.8      1011.0  2020/11/28 09:21       998.4   \n",
       "11       12   1007.3   1017.4      1015.8  2020/12/31 09:37      1000.7   \n",
       "\n",
       "      StnPresMinTime  Temperature  T Max        T Max Time  ...  Precp1DayMax  \\\n",
       "0    2020/1/26 13:39         18.0   29.0   2020/1/23 12:58  ...          20.0   \n",
       "1    2020/2/15 14:34         19.0   30.2   2020/2/26 12:12  ...           2.5   \n",
       "2     2020/3/9 14:36         22.3   33.2   2020/3/26 13:47  ...          23.5   \n",
       "3    2020/4/19 16:45         22.2   32.8   2020/4/19 12:57  ...          20.0   \n",
       "4    2020/5/17 15:52         27.5   36.9   2020/5/10 12:16  ...          61.0   \n",
       "5    2020/6/12 16:17         29.1   35.1   2020/6/29 14:10  ...          99.0   \n",
       "6    2020/7/14 15:43         29.6   36.3   2020/7/31 13:00  ...          28.0   \n",
       "7    2020/8/25 15:04         28.5   35.2   2020/8/25 14:05  ...          70.0   \n",
       "8     2020/9/1 03:36         28.1   35.1    2020/9/7 13:35  ...          54.5   \n",
       "9   2020/10/21 14:44         26.1   34.8   2020/10/4 13:28  ...           0.0   \n",
       "10   2020/11/6 15:30         23.9   33.7  2020/11/21 13:38  ...           3.0   \n",
       "11  2020/12/28 15:16         19.5   28.5  2020/12/28 14:25  ...          28.5   \n",
       "\n",
       "    Precp1DayMaxTime  RH  EvapA  SunShine  GloblRad  UVI Max Mean UVI Max  \\\n",
       "0    2020/1/26 00:00  76   89.0     225.1    418.05           ...     ...   \n",
       "1    2020/2/15 00:00  72   82.0     212.5    446.52           ...     ...   \n",
       "2    2020/3/10 00:00  70  105.6     178.0    480.35           ...     ...   \n",
       "3     2020/4/2 00:00  70  100.7     154.5    493.50           ...     ...   \n",
       "4    2020/5/22 00:00  75  121.2     167.2    522.51           ...     ...   \n",
       "5    2020/6/14 00:00  70  121.8     211.9    609.28           ...     ...   \n",
       "6     2020/7/2 00:00  74  137.2     215.1    614.72           ...     ...   \n",
       "7     2020/8/3 00:00  75  112.6     174.5    526.22           ...     ...   \n",
       "8    2020/9/13 00:00  71  111.5     198.6    512.50           ...     ...   \n",
       "9    2020/10/1 00:00  69  132.4     220.1    506.06           ...     ...   \n",
       "10  2020/11/13 00:00  72   91.3     182.9    376.24           ...     ...   \n",
       "11   2020/12/9 00:00  77   81.4     156.2    338.25           ...     ...   \n",
       "\n",
       "   UVI Max Time  Cloud Amount  \n",
       "0           ...           3.8  \n",
       "1           ...           4.0  \n",
       "2           ...           6.4  \n",
       "3           ...           6.4  \n",
       "4           ...           6.7  \n",
       "5           ...           5.4  \n",
       "6           ...           5.9  \n",
       "7           ...           6.3  \n",
       "8           ...           5.5  \n",
       "9           ...           5.0  \n",
       "10          ...           4.9  \n",
       "11          ...           6.6  \n",
       "\n",
       "[12 rows x 35 columns]"
      ],
      "text/html": "<div>\n<style scoped>\n    .dataframe tbody tr th:only-of-type {\n        vertical-align: middle;\n    }\n\n    .dataframe tbody tr th {\n        vertical-align: top;\n    }\n\n    .dataframe thead th {\n        text-align: right;\n    }\n</style>\n<table border=\"1\" class=\"dataframe\">\n  <thead>\n    <tr style=\"text-align: right;\">\n      <th></th>\n      <th>ObsTime</th>\n      <th>StnPres</th>\n      <th>SeaPres</th>\n      <th>StnPresMax</th>\n      <th>StnPresMaxTime</th>\n      <th>StnPresMin</th>\n      <th>StnPresMinTime</th>\n      <th>Temperature</th>\n      <th>T Max</th>\n      <th>T Max Time</th>\n      <th>...</th>\n      <th>Precp1DayMax</th>\n      <th>Precp1DayMaxTime</th>\n      <th>RH</th>\n      <th>EvapA</th>\n      <th>SunShine</th>\n      <th>GloblRad</th>\n      <th>UVI Max Mean</th>\n      <th>UVI Max</th>\n      <th>UVI Max Time</th>\n      <th>Cloud Amount</th>\n    </tr>\n  </thead>\n  <tbody>\n    <tr>\n      <th>0</th>\n      <td>1</td>\n      <td>1008.7</td>\n      <td>1018.9</td>\n      <td>1017.7</td>\n      <td>2020/1/1 09:33</td>\n      <td>999.6</td>\n      <td>2020/1/26 13:39</td>\n      <td>18.0</td>\n      <td>29.0</td>\n      <td>2020/1/23 12:58</td>\n      <td>...</td>\n      <td>20.0</td>\n      <td>2020/1/26 00:00</td>\n      <td>76</td>\n      <td>89.0</td>\n      <td>225.1</td>\n      <td>418.05</td>\n      <td>...</td>\n      <td>...</td>\n      <td>...</td>\n      <td>3.8</td>\n    </tr>\n    <tr>\n      <th>1</th>\n      <td>2</td>\n      <td>1010.5</td>\n      <td>1020.6</td>\n      <td>1017.8</td>\n      <td>2020/2/21 09:02</td>\n      <td>1001.7</td>\n      <td>2020/2/15 14:34</td>\n      <td>19.0</td>\n      <td>30.2</td>\n      <td>2020/2/26 12:12</td>\n      <td>...</td>\n      <td>2.5</td>\n      <td>2020/2/15 00:00</td>\n      <td>72</td>\n      <td>82.0</td>\n      <td>212.5</td>\n      <td>446.52</td>\n      <td>...</td>\n      <td>...</td>\n      <td>...</td>\n      <td>4.0</td>\n    </tr>\n    <tr>\n      <th>2</th>\n      <td>3</td>\n      <td>1005.3</td>\n      <td>1015.3</td>\n      <td>1011.6</td>\n      <td>2020/3/16 08:59</td>\n      <td>995.5</td>\n      <td>2020/3/9 14:36</td>\n      <td>22.3</td>\n      <td>33.2</td>\n      <td>2020/3/26 13:47</td>\n      <td>...</td>\n      <td>23.5</td>\n      <td>2020/3/10 00:00</td>\n      <td>70</td>\n      <td>105.6</td>\n      <td>178.0</td>\n      <td>480.35</td>\n      <td>...</td>\n      <td>...</td>\n      <td>...</td>\n      <td>6.4</td>\n    </tr>\n    <tr>\n      <th>3</th>\n      <td>4</td>\n      <td>1005.7</td>\n      <td>1015.7</td>\n      <td>1010.9</td>\n      <td>2020/4/2 09:51</td>\n      <td>1000.6</td>\n      <td>2020/4/19 16:45</td>\n      <td>22.2</td>\n      <td>32.8</td>\n      <td>2020/4/19 12:57</td>\n      <td>...</td>\n      <td>20.0</td>\n      <td>2020/4/2 00:00</td>\n      <td>70</td>\n      <td>100.7</td>\n      <td>154.5</td>\n      <td>493.50</td>\n      <td>...</td>\n      <td>...</td>\n      <td>...</td>\n      <td>6.4</td>\n    </tr>\n    <tr>\n      <th>4</th>\n      <td>5</td>\n      <td>999.4</td>\n      <td>1009.2</td>\n      <td>1005.0</td>\n      <td>2020/5/1 08:49</td>\n      <td>992.7</td>\n      <td>2020/5/17 15:52</td>\n      <td>27.5</td>\n      <td>36.9</td>\n      <td>2020/5/10 12:16</td>\n      <td>...</td>\n      <td>61.0</td>\n      <td>2020/5/22 00:00</td>\n      <td>75</td>\n      <td>121.2</td>\n      <td>167.2</td>\n      <td>522.51</td>\n      <td>...</td>\n      <td>...</td>\n      <td>...</td>\n      <td>6.7</td>\n    </tr>\n    <tr>\n      <th>5</th>\n      <td>6</td>\n      <td>999.1</td>\n      <td>1008.8</td>\n      <td>1004.7</td>\n      <td>2020/6/15 00:04</td>\n      <td>994.8</td>\n      <td>2020/6/12 16:17</td>\n      <td>29.1</td>\n      <td>35.1</td>\n      <td>2020/6/29 14:10</td>\n      <td>...</td>\n      <td>99.0</td>\n      <td>2020/6/14 00:00</td>\n      <td>70</td>\n      <td>121.8</td>\n      <td>211.9</td>\n      <td>609.28</td>\n      <td>...</td>\n      <td>...</td>\n      <td>...</td>\n      <td>5.4</td>\n    </tr>\n    <tr>\n      <th>6</th>\n      <td>7</td>\n      <td>998.7</td>\n      <td>1008.3</td>\n      <td>1003.0</td>\n      <td>2020/7/21 09:11</td>\n      <td>993.8</td>\n      <td>2020/7/14 15:43</td>\n      <td>29.6</td>\n      <td>36.3</td>\n      <td>2020/7/31 13:00</td>\n      <td>...</td>\n      <td>28.0</td>\n      <td>2020/7/2 00:00</td>\n      <td>74</td>\n      <td>137.2</td>\n      <td>215.1</td>\n      <td>614.72</td>\n      <td>...</td>\n      <td>...</td>\n      <td>...</td>\n      <td>5.9</td>\n    </tr>\n    <tr>\n      <th>7</th>\n      <td>8</td>\n      <td>997.5</td>\n      <td>1007.2</td>\n      <td>1006.0</td>\n      <td>2020/8/12 21:54</td>\n      <td>991.6</td>\n      <td>2020/8/25 15:04</td>\n      <td>28.5</td>\n      <td>35.2</td>\n      <td>2020/8/25 14:05</td>\n      <td>...</td>\n      <td>70.0</td>\n      <td>2020/8/3 00:00</td>\n      <td>75</td>\n      <td>112.6</td>\n      <td>174.5</td>\n      <td>526.22</td>\n      <td>...</td>\n      <td>...</td>\n      <td>...</td>\n      <td>6.3</td>\n    </tr>\n    <tr>\n      <th>8</th>\n      <td>9</td>\n      <td>999.5</td>\n      <td>1009.2</td>\n      <td>1005.1</td>\n      <td>2020/9/19 08:55</td>\n      <td>991.9</td>\n      <td>2020/9/1 03:36</td>\n      <td>28.1</td>\n      <td>35.1</td>\n      <td>2020/9/7 13:35</td>\n      <td>...</td>\n      <td>54.5</td>\n      <td>2020/9/13 00:00</td>\n      <td>71</td>\n      <td>111.5</td>\n      <td>198.6</td>\n      <td>512.50</td>\n      <td>...</td>\n      <td>...</td>\n      <td>...</td>\n      <td>5.5</td>\n    </tr>\n    <tr>\n      <th>9</th>\n      <td>10</td>\n      <td>1002.0</td>\n      <td>1011.8</td>\n      <td>1008.0</td>\n      <td>2020/10/29 08:40</td>\n      <td>995.5</td>\n      <td>2020/10/21 14:44</td>\n      <td>26.1</td>\n      <td>34.8</td>\n      <td>2020/10/4 13:28</td>\n      <td>...</td>\n      <td>0.0</td>\n      <td>2020/10/1 00:00</td>\n      <td>69</td>\n      <td>132.4</td>\n      <td>220.1</td>\n      <td>506.06</td>\n      <td>...</td>\n      <td>...</td>\n      <td>...</td>\n      <td>5.0</td>\n    </tr>\n    <tr>\n      <th>10</th>\n      <td>11</td>\n      <td>1005.9</td>\n      <td>1015.8</td>\n      <td>1011.0</td>\n      <td>2020/11/28 09:21</td>\n      <td>998.4</td>\n      <td>2020/11/6 15:30</td>\n      <td>23.9</td>\n      <td>33.7</td>\n      <td>2020/11/21 13:38</td>\n      <td>...</td>\n      <td>3.0</td>\n      <td>2020/11/13 00:00</td>\n      <td>72</td>\n      <td>91.3</td>\n      <td>182.9</td>\n      <td>376.24</td>\n      <td>...</td>\n      <td>...</td>\n      <td>...</td>\n      <td>4.9</td>\n    </tr>\n    <tr>\n      <th>11</th>\n      <td>12</td>\n      <td>1007.3</td>\n      <td>1017.4</td>\n      <td>1015.8</td>\n      <td>2020/12/31 09:37</td>\n      <td>1000.7</td>\n      <td>2020/12/28 15:16</td>\n      <td>19.5</td>\n      <td>28.5</td>\n      <td>2020/12/28 14:25</td>\n      <td>...</td>\n      <td>28.5</td>\n      <td>2020/12/9 00:00</td>\n      <td>77</td>\n      <td>81.4</td>\n      <td>156.2</td>\n      <td>338.25</td>\n      <td>...</td>\n      <td>...</td>\n      <td>...</td>\n      <td>6.6</td>\n    </tr>\n  </tbody>\n</table>\n<p>12 rows × 35 columns</p>\n</div>"
     },
     "metadata": {},
     "execution_count": 16
    }
   ],
   "source": [
    "df = pd.read_csv('./climate2020.csv')\n",
    "df"
   ]
  },
  {
   "cell_type": "code",
   "execution_count": 19,
   "metadata": {},
   "outputs": [
    {
     "output_type": "execute_result",
     "data": {
      "text/plain": [
       "Cloud Amount\n",
       "3.8    1017.70\n",
       "4.0    1017.80\n",
       "4.9    1011.00\n",
       "5.0    1008.00\n",
       "5.4    1004.70\n",
       "5.5    1005.10\n",
       "5.9    1003.00\n",
       "6.3    1006.00\n",
       "6.4    1011.25\n",
       "6.6    1015.80\n",
       "6.7    1005.00\n",
       "Name: StnPresMax, dtype: float64"
      ]
     },
     "metadata": {},
     "execution_count": 19
    }
   ],
   "source": [
    "df.groupby('Cloud Amount')['StnPresMax'].mean()"
   ]
  },
  {
   "cell_type": "code",
   "execution_count": null,
   "metadata": {},
   "outputs": [],
   "source": []
  }
 ]
}