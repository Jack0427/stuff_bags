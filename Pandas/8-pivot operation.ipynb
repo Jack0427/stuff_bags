{
 "metadata": {
  "language_info": {
   "codemirror_mode": {
    "name": "ipython",
    "version": 3
   },
   "file_extension": ".py",
   "mimetype": "text/x-python",
   "name": "python",
   "nbconvert_exporter": "python",
   "pygments_lexer": "ipython3",
   "version": "3.8.5"
  },
  "orig_nbformat": 4,
  "kernelspec": {
   "name": "python3",
   "display_name": "Python 3.8.5 64-bit"
  },
  "interpreter": {
   "hash": "4eaf1be304415beee96765ae99c3f893cc8312c7f1196698e6029668e9aeb3e5"
  }
 },
 "nbformat": 4,
 "nbformat_minor": 2,
 "cells": [
  {
   "cell_type": "code",
   "execution_count": 16,
   "metadata": {},
   "outputs": [
    {
     "output_type": "execute_result",
     "data": {
      "text/plain": [
       "       Month       Category  Amount\n",
       "0    January  Transporation    74.0\n",
       "1    January        Grocery   236.0\n",
       "2    January      Household   175.0\n",
       "3    January  Entertainment   100.0\n",
       "4   February  Transporation   115.0\n",
       "5   February        Grocery   240.0\n",
       "6   February      Household   225.0\n",
       "7   February  Entertainment   125.0\n",
       "8      March  Transporation    90.0\n",
       "9      March        Grocery   260.0\n",
       "10     March      Household   200.0\n",
       "11     March  Entertainment   120.0"
      ],
      "text/html": "<div>\n<style scoped>\n    .dataframe tbody tr th:only-of-type {\n        vertical-align: middle;\n    }\n\n    .dataframe tbody tr th {\n        vertical-align: top;\n    }\n\n    .dataframe thead th {\n        text-align: right;\n    }\n</style>\n<table border=\"1\" class=\"dataframe\">\n  <thead>\n    <tr style=\"text-align: right;\">\n      <th></th>\n      <th>Month</th>\n      <th>Category</th>\n      <th>Amount</th>\n    </tr>\n  </thead>\n  <tbody>\n    <tr>\n      <th>0</th>\n      <td>January</td>\n      <td>Transporation</td>\n      <td>74.0</td>\n    </tr>\n    <tr>\n      <th>1</th>\n      <td>January</td>\n      <td>Grocery</td>\n      <td>236.0</td>\n    </tr>\n    <tr>\n      <th>2</th>\n      <td>January</td>\n      <td>Household</td>\n      <td>175.0</td>\n    </tr>\n    <tr>\n      <th>3</th>\n      <td>January</td>\n      <td>Entertainment</td>\n      <td>100.0</td>\n    </tr>\n    <tr>\n      <th>4</th>\n      <td>February</td>\n      <td>Transporation</td>\n      <td>115.0</td>\n    </tr>\n    <tr>\n      <th>5</th>\n      <td>February</td>\n      <td>Grocery</td>\n      <td>240.0</td>\n    </tr>\n    <tr>\n      <th>6</th>\n      <td>February</td>\n      <td>Household</td>\n      <td>225.0</td>\n    </tr>\n    <tr>\n      <th>7</th>\n      <td>February</td>\n      <td>Entertainment</td>\n      <td>125.0</td>\n    </tr>\n    <tr>\n      <th>8</th>\n      <td>March</td>\n      <td>Transporation</td>\n      <td>90.0</td>\n    </tr>\n    <tr>\n      <th>9</th>\n      <td>March</td>\n      <td>Grocery</td>\n      <td>260.0</td>\n    </tr>\n    <tr>\n      <th>10</th>\n      <td>March</td>\n      <td>Household</td>\n      <td>200.0</td>\n    </tr>\n    <tr>\n      <th>11</th>\n      <td>March</td>\n      <td>Entertainment</td>\n      <td>120.0</td>\n    </tr>\n  </tbody>\n</table>\n</div>"
     },
     "metadata": {},
     "execution_count": 16
    }
   ],
   "source": [
    "import pandas as pd\n",
    "example = pd.DataFrame({'Month':['January','January','January','January',\n",
    "                                'February','February','February','February',\n",
    "                                'March','March','March','March',],\n",
    "                        'Category':['Transporation','Grocery','Household','Entertainment',\n",
    "                                    'Transporation','Grocery','Household','Entertainment',\n",
    "                                    'Transporation','Grocery','Household','Entertainment',],\n",
    "                        'Amount':[74.,236.,175.,100.,115.,240.,225.,125.,90.,260.,200.,120.]})\n",
    "example"
   ]
  },
  {
   "cell_type": "code",
   "execution_count": 5,
   "metadata": {},
   "outputs": [
    {
     "output_type": "execute_result",
     "data": {
      "text/plain": [
       "Month          February  January  March\n",
       "Category                               \n",
       "Entertainment     125.0    100.0  120.0\n",
       "Grocery           240.0    236.0  260.0\n",
       "Household         225.0    175.0  200.0\n",
       "Transporation     115.0     74.0   90.0"
      ],
      "text/html": "<div>\n<style scoped>\n    .dataframe tbody tr th:only-of-type {\n        vertical-align: middle;\n    }\n\n    .dataframe tbody tr th {\n        vertical-align: top;\n    }\n\n    .dataframe thead th {\n        text-align: right;\n    }\n</style>\n<table border=\"1\" class=\"dataframe\">\n  <thead>\n    <tr style=\"text-align: right;\">\n      <th>Month</th>\n      <th>February</th>\n      <th>January</th>\n      <th>March</th>\n    </tr>\n    <tr>\n      <th>Category</th>\n      <th></th>\n      <th></th>\n      <th></th>\n    </tr>\n  </thead>\n  <tbody>\n    <tr>\n      <th>Entertainment</th>\n      <td>125.0</td>\n      <td>100.0</td>\n      <td>120.0</td>\n    </tr>\n    <tr>\n      <th>Grocery</th>\n      <td>240.0</td>\n      <td>236.0</td>\n      <td>260.0</td>\n    </tr>\n    <tr>\n      <th>Household</th>\n      <td>225.0</td>\n      <td>175.0</td>\n      <td>200.0</td>\n    </tr>\n    <tr>\n      <th>Transporation</th>\n      <td>115.0</td>\n      <td>74.0</td>\n      <td>90.0</td>\n    </tr>\n  </tbody>\n</table>\n</div>"
     },
     "metadata": {},
     "execution_count": 5
    }
   ],
   "source": [
    "example_pivot = example.pivot(index='Category',columns='Month',values='Amount')\n",
    "example_pivot"
   ]
  },
  {
   "cell_type": "code",
   "execution_count": 6,
   "metadata": {},
   "outputs": [
    {
     "output_type": "execute_result",
     "data": {
      "text/plain": [
       "Category\n",
       "Entertainment    345.0\n",
       "Grocery          736.0\n",
       "Household        600.0\n",
       "Transporation    279.0\n",
       "dtype: float64"
      ]
     },
     "metadata": {},
     "execution_count": 6
    }
   ],
   "source": [
    "example_pivot.sum(axis=1)"
   ]
  },
  {
   "cell_type": "code",
   "execution_count": 7,
   "metadata": {},
   "outputs": [
    {
     "output_type": "execute_result",
     "data": {
      "text/plain": [
       "Month\n",
       "February    705.0\n",
       "January     585.0\n",
       "March       670.0\n",
       "dtype: float64"
      ]
     },
     "metadata": {},
     "execution_count": 7
    }
   ],
   "source": [
    "example_pivot.sum(axis=0) "
   ]
  },
  {
   "cell_type": "code",
   "execution_count": 19,
   "metadata": {},
   "outputs": [
    {
     "output_type": "execute_result",
     "data": {
      "text/plain": [
       "Month          February  January  March\n",
       "Category                               \n",
       "Entertainment         1        1      1\n",
       "Grocery               1        1      1\n",
       "Household             1        1      1\n",
       "Transporation         1        1      1"
      ],
      "text/html": "<div>\n<style scoped>\n    .dataframe tbody tr th:only-of-type {\n        vertical-align: middle;\n    }\n\n    .dataframe tbody tr th {\n        vertical-align: top;\n    }\n\n    .dataframe thead th {\n        text-align: right;\n    }\n</style>\n<table border=\"1\" class=\"dataframe\">\n  <thead>\n    <tr style=\"text-align: right;\">\n      <th>Month</th>\n      <th>February</th>\n      <th>January</th>\n      <th>March</th>\n    </tr>\n    <tr>\n      <th>Category</th>\n      <th></th>\n      <th></th>\n      <th></th>\n    </tr>\n  </thead>\n  <tbody>\n    <tr>\n      <th>Entertainment</th>\n      <td>1</td>\n      <td>1</td>\n      <td>1</td>\n    </tr>\n    <tr>\n      <th>Grocery</th>\n      <td>1</td>\n      <td>1</td>\n      <td>1</td>\n    </tr>\n    <tr>\n      <th>Household</th>\n      <td>1</td>\n      <td>1</td>\n      <td>1</td>\n    </tr>\n    <tr>\n      <th>Transporation</th>\n      <td>1</td>\n      <td>1</td>\n      <td>1</td>\n    </tr>\n  </tbody>\n</table>\n</div>"
     },
     "metadata": {},
     "execution_count": 19
    }
   ],
   "source": [
    "# example_pivot1 = example.pivot_table(index='Category',columns='Month',values='Amount',aggfunc='max') # aggfunc 默認求平均  account計數 mean 均值\r\n",
    "example_pivot1 = pd.crosstab(index=example['Category'],columns=example['Month']) #計數\r\n",
    "example_pivot1"
   ]
  },
  {
   "cell_type": "code",
   "execution_count": 29,
   "metadata": {},
   "outputs": [
    {
     "output_type": "execute_result",
     "data": {
      "text/plain": [
       "Month          February  January  March\n",
       "Category                               \n",
       "Entertainment      True     True   True\n",
       "Grocery           False    False  False\n",
       "Household         False     True   True\n",
       "Transporation      True     True   True"
      ],
      "text/html": "<div>\n<style scoped>\n    .dataframe tbody tr th:only-of-type {\n        vertical-align: middle;\n    }\n\n    .dataframe tbody tr th {\n        vertical-align: top;\n    }\n\n    .dataframe thead th {\n        text-align: right;\n    }\n</style>\n<table border=\"1\" class=\"dataframe\">\n  <thead>\n    <tr style=\"text-align: right;\">\n      <th>Month</th>\n      <th>February</th>\n      <th>January</th>\n      <th>March</th>\n    </tr>\n    <tr>\n      <th>Category</th>\n      <th></th>\n      <th></th>\n      <th></th>\n    </tr>\n  </thead>\n  <tbody>\n    <tr>\n      <th>Entertainment</th>\n      <td>True</td>\n      <td>True</td>\n      <td>True</td>\n    </tr>\n    <tr>\n      <th>Grocery</th>\n      <td>False</td>\n      <td>False</td>\n      <td>False</td>\n    </tr>\n    <tr>\n      <th>Household</th>\n      <td>False</td>\n      <td>True</td>\n      <td>True</td>\n    </tr>\n    <tr>\n      <th>Transporation</th>\n      <td>True</td>\n      <td>True</td>\n      <td>True</td>\n    </tr>\n  </tbody>\n</table>\n</div>"
     },
     "metadata": {},
     "execution_count": 29
    }
   ],
   "source": [
    "example['less'] = example['Amount'] <= 200\n",
    "example.pivot(index='Category',columns='Month',values='less')"
   ]
  },
  {
   "cell_type": "code",
   "execution_count": null,
   "metadata": {},
   "outputs": [],
   "source": []
  }
 ]
}