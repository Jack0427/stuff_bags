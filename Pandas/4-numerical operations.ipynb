{
 "metadata": {
  "language_info": {
   "codemirror_mode": {
    "name": "ipython",
    "version": 3
   },
   "file_extension": ".py",
   "mimetype": "text/x-python",
   "name": "python",
   "nbconvert_exporter": "python",
   "pygments_lexer": "ipython3",
   "version": "3.8.5"
  },
  "orig_nbformat": 4,
  "kernelspec": {
   "name": "python3",
   "display_name": "Python 3.8.5 64-bit"
  },
  "interpreter": {
   "hash": "4eaf1be304415beee96765ae99c3f893cc8312c7f1196698e6029668e9aeb3e5"
  }
 },
 "nbformat": 4,
 "nbformat_minor": 2,
 "cells": [
  {
   "cell_type": "code",
   "execution_count": 1,
   "metadata": {},
   "outputs": [],
   "source": [
    "import pandas as pd\n",
    "import numpy as np"
   ]
  },
  {
   "cell_type": "code",
   "execution_count": 3,
   "metadata": {},
   "outputs": [
    {
     "output_type": "execute_result",
     "data": {
      "text/plain": [
       "   A  B  C\n",
       "a  1  2  3\n",
       "b  4  5  6"
      ],
      "text/html": "<div>\n<style scoped>\n    .dataframe tbody tr th:only-of-type {\n        vertical-align: middle;\n    }\n\n    .dataframe tbody tr th {\n        vertical-align: top;\n    }\n\n    .dataframe thead th {\n        text-align: right;\n    }\n</style>\n<table border=\"1\" class=\"dataframe\">\n  <thead>\n    <tr style=\"text-align: right;\">\n      <th></th>\n      <th>A</th>\n      <th>B</th>\n      <th>C</th>\n    </tr>\n  </thead>\n  <tbody>\n    <tr>\n      <th>a</th>\n      <td>1</td>\n      <td>2</td>\n      <td>3</td>\n    </tr>\n    <tr>\n      <th>b</th>\n      <td>4</td>\n      <td>5</td>\n      <td>6</td>\n    </tr>\n  </tbody>\n</table>\n</div>"
     },
     "metadata": {},
     "execution_count": 3
    }
   ],
   "source": [
    "df = pd.DataFrame([[1,2,3],[4,5,6]],index=['a','b'],columns=['A','B','C'])\n",
    "df"
   ]
  },
  {
   "cell_type": "code",
   "execution_count": 4,
   "metadata": {},
   "outputs": [
    {
     "output_type": "execute_result",
     "data": {
      "text/plain": [
       "A    5\n",
       "B    7\n",
       "C    9\n",
       "dtype: int64"
      ]
     },
     "metadata": {},
     "execution_count": 4
    }
   ],
   "source": [
    "df.sum() # by col"
   ]
  },
  {
   "cell_type": "code",
   "execution_count": 5,
   "metadata": {},
   "outputs": [
    {
     "output_type": "execute_result",
     "data": {
      "text/plain": [
       "a     6\n",
       "b    15\n",
       "dtype: int64"
      ]
     },
     "metadata": {},
     "execution_count": 5
    }
   ],
   "source": [
    "df.sum(axis=1)"
   ]
  },
  {
   "cell_type": "code",
   "execution_count": 6,
   "metadata": {},
   "outputs": [
    {
     "output_type": "execute_result",
     "data": {
      "text/plain": [
       "a     6\n",
       "b    15\n",
       "dtype: int64"
      ]
     },
     "metadata": {},
     "execution_count": 6
    }
   ],
   "source": [
    "df.sum(axis='columns')"
   ]
  },
  {
   "cell_type": "code",
   "execution_count": 7,
   "metadata": {},
   "outputs": [
    {
     "output_type": "execute_result",
     "data": {
      "text/plain": [
       "A    2.5\n",
       "B    3.5\n",
       "C    4.5\n",
       "dtype: float64"
      ]
     },
     "metadata": {},
     "execution_count": 7
    }
   ],
   "source": [
    "df.mean()"
   ]
  },
  {
   "cell_type": "code",
   "execution_count": 8,
   "metadata": {},
   "outputs": [
    {
     "output_type": "execute_result",
     "data": {
      "text/plain": [
       "a    2.0\n",
       "b    5.0\n",
       "dtype: float64"
      ]
     },
     "metadata": {},
     "execution_count": 8
    }
   ],
   "source": [
    "df.mean(axis='columns')"
   ]
  },
  {
   "cell_type": "code",
   "execution_count": 9,
   "metadata": {},
   "outputs": [
    {
     "output_type": "stream",
     "name": "stdout",
     "text": [
      "A    1\nB    2\nC    3\ndtype: int64\nA    4\nB    5\nC    6\ndtype: int64\nA    2.5\nB    3.5\nC    4.5\ndtype: float64\n"
     ]
    }
   ],
   "source": [
    "print(df.min())\n",
    "print(df.max())\n",
    "print(df.median())"
   ]
  },
  {
   "cell_type": "code",
   "execution_count": 10,
   "metadata": {},
   "outputs": [
    {
     "output_type": "execute_result",
     "data": {
      "text/plain": [
       "   ObsTime  StnPres  SeaPres  StnPresMax   StnPresMaxTime  StnPresMin  \\\n",
       "0        1   1008.7   1018.9      1017.7   2020/1/1 09:33       999.6   \n",
       "1        2   1010.5   1020.6      1017.8  2020/2/21 09:02      1001.7   \n",
       "2        3   1005.3   1015.3      1011.6  2020/3/16 08:59       995.5   \n",
       "3        4   1005.7   1015.7      1010.9   2020/4/2 09:51      1000.6   \n",
       "4        5    999.4   1009.2      1005.0   2020/5/1 08:49       992.7   \n",
       "\n",
       "    StnPresMinTime  Temperature  T Max       T Max Time  ...  Precp1DayMax  \\\n",
       "0  2020/1/26 13:39         18.0   29.0  2020/1/23 12:58  ...          20.0   \n",
       "1  2020/2/15 14:34         19.0   30.2  2020/2/26 12:12  ...           2.5   \n",
       "2   2020/3/9 14:36         22.3   33.2  2020/3/26 13:47  ...          23.5   \n",
       "3  2020/4/19 16:45         22.2   32.8  2020/4/19 12:57  ...          20.0   \n",
       "4  2020/5/17 15:52         27.5   36.9  2020/5/10 12:16  ...          61.0   \n",
       "\n",
       "  Precp1DayMaxTime  RH  EvapA  SunShine  GloblRad  UVI Max Mean UVI Max  \\\n",
       "0  2020/1/26 00:00  76   89.0     225.1    418.05           ...     ...   \n",
       "1  2020/2/15 00:00  72   82.0     212.5    446.52           ...     ...   \n",
       "2  2020/3/10 00:00  70  105.6     178.0    480.35           ...     ...   \n",
       "3   2020/4/2 00:00  70  100.7     154.5    493.50           ...     ...   \n",
       "4  2020/5/22 00:00  75  121.2     167.2    522.51           ...     ...   \n",
       "\n",
       "  UVI Max Time  Cloud Amount  \n",
       "0          ...           3.8  \n",
       "1          ...           4.0  \n",
       "2          ...           6.4  \n",
       "3          ...           6.4  \n",
       "4          ...           6.7  \n",
       "\n",
       "[5 rows x 35 columns]"
      ],
      "text/html": "<div>\n<style scoped>\n    .dataframe tbody tr th:only-of-type {\n        vertical-align: middle;\n    }\n\n    .dataframe tbody tr th {\n        vertical-align: top;\n    }\n\n    .dataframe thead th {\n        text-align: right;\n    }\n</style>\n<table border=\"1\" class=\"dataframe\">\n  <thead>\n    <tr style=\"text-align: right;\">\n      <th></th>\n      <th>ObsTime</th>\n      <th>StnPres</th>\n      <th>SeaPres</th>\n      <th>StnPresMax</th>\n      <th>StnPresMaxTime</th>\n      <th>StnPresMin</th>\n      <th>StnPresMinTime</th>\n      <th>Temperature</th>\n      <th>T Max</th>\n      <th>T Max Time</th>\n      <th>...</th>\n      <th>Precp1DayMax</th>\n      <th>Precp1DayMaxTime</th>\n      <th>RH</th>\n      <th>EvapA</th>\n      <th>SunShine</th>\n      <th>GloblRad</th>\n      <th>UVI Max Mean</th>\n      <th>UVI Max</th>\n      <th>UVI Max Time</th>\n      <th>Cloud Amount</th>\n    </tr>\n  </thead>\n  <tbody>\n    <tr>\n      <th>0</th>\n      <td>1</td>\n      <td>1008.7</td>\n      <td>1018.9</td>\n      <td>1017.7</td>\n      <td>2020/1/1 09:33</td>\n      <td>999.6</td>\n      <td>2020/1/26 13:39</td>\n      <td>18.0</td>\n      <td>29.0</td>\n      <td>2020/1/23 12:58</td>\n      <td>...</td>\n      <td>20.0</td>\n      <td>2020/1/26 00:00</td>\n      <td>76</td>\n      <td>89.0</td>\n      <td>225.1</td>\n      <td>418.05</td>\n      <td>...</td>\n      <td>...</td>\n      <td>...</td>\n      <td>3.8</td>\n    </tr>\n    <tr>\n      <th>1</th>\n      <td>2</td>\n      <td>1010.5</td>\n      <td>1020.6</td>\n      <td>1017.8</td>\n      <td>2020/2/21 09:02</td>\n      <td>1001.7</td>\n      <td>2020/2/15 14:34</td>\n      <td>19.0</td>\n      <td>30.2</td>\n      <td>2020/2/26 12:12</td>\n      <td>...</td>\n      <td>2.5</td>\n      <td>2020/2/15 00:00</td>\n      <td>72</td>\n      <td>82.0</td>\n      <td>212.5</td>\n      <td>446.52</td>\n      <td>...</td>\n      <td>...</td>\n      <td>...</td>\n      <td>4.0</td>\n    </tr>\n    <tr>\n      <th>2</th>\n      <td>3</td>\n      <td>1005.3</td>\n      <td>1015.3</td>\n      <td>1011.6</td>\n      <td>2020/3/16 08:59</td>\n      <td>995.5</td>\n      <td>2020/3/9 14:36</td>\n      <td>22.3</td>\n      <td>33.2</td>\n      <td>2020/3/26 13:47</td>\n      <td>...</td>\n      <td>23.5</td>\n      <td>2020/3/10 00:00</td>\n      <td>70</td>\n      <td>105.6</td>\n      <td>178.0</td>\n      <td>480.35</td>\n      <td>...</td>\n      <td>...</td>\n      <td>...</td>\n      <td>6.4</td>\n    </tr>\n    <tr>\n      <th>3</th>\n      <td>4</td>\n      <td>1005.7</td>\n      <td>1015.7</td>\n      <td>1010.9</td>\n      <td>2020/4/2 09:51</td>\n      <td>1000.6</td>\n      <td>2020/4/19 16:45</td>\n      <td>22.2</td>\n      <td>32.8</td>\n      <td>2020/4/19 12:57</td>\n      <td>...</td>\n      <td>20.0</td>\n      <td>2020/4/2 00:00</td>\n      <td>70</td>\n      <td>100.7</td>\n      <td>154.5</td>\n      <td>493.50</td>\n      <td>...</td>\n      <td>...</td>\n      <td>...</td>\n      <td>6.4</td>\n    </tr>\n    <tr>\n      <th>4</th>\n      <td>5</td>\n      <td>999.4</td>\n      <td>1009.2</td>\n      <td>1005.0</td>\n      <td>2020/5/1 08:49</td>\n      <td>992.7</td>\n      <td>2020/5/17 15:52</td>\n      <td>27.5</td>\n      <td>36.9</td>\n      <td>2020/5/10 12:16</td>\n      <td>...</td>\n      <td>61.0</td>\n      <td>2020/5/22 00:00</td>\n      <td>75</td>\n      <td>121.2</td>\n      <td>167.2</td>\n      <td>522.51</td>\n      <td>...</td>\n      <td>...</td>\n      <td>...</td>\n      <td>6.7</td>\n    </tr>\n  </tbody>\n</table>\n<p>5 rows × 35 columns</p>\n</div>"
     },
     "metadata": {},
     "execution_count": 10
    }
   ],
   "source": [
    "#二元統計\n",
    "df = pd.read_csv('./climate2020.csv')\n",
    "df.head()"
   ]
  },
  {
   "cell_type": "code",
   "execution_count": 11,
   "metadata": {},
   "outputs": [
    {
     "output_type": "execute_result",
     "data": {
      "text/plain": [
       "                 ObsTime     StnPres     SeaPres  StnPresMax  StnPresMin  \\\n",
       "ObsTime        13.000000   -5.318182   -5.600000   -6.136364   -2.972727   \n",
       "StnPres        -5.318182   19.754545   20.569091   22.480000   15.030909   \n",
       "SeaPres        -5.600000   20.569091   21.421515   23.467576   15.633636   \n",
       "StnPresMax     -6.136364   22.480000   23.467576   27.570606   16.680909   \n",
       "StnPresMin     -2.972727   15.030909   15.633636   16.680909   13.307273   \n",
       "Temperature     5.463636  -18.147273  -18.959394  -21.828788  -13.535455   \n",
       "T Max           2.036364  -10.937273  -11.430000  -13.905455   -8.600909   \n",
       "T Min           9.027273  -26.320909  -27.508182  -31.871818  -20.214545   \n",
       "Td dew point    5.631818  -17.429091  -18.193485  -20.467424  -13.088182   \n",
       "WS              0.395455   -0.025455   -0.028636   -0.045000    0.119091   \n",
       "WD           -271.363636  162.636364  168.287879  130.257576   66.818182   \n",
       "WSGust          2.800000   -4.101818   -4.254848   -3.111515   -1.534545   \n",
       "WDGust       -180.454545   96.000000   96.045455   -2.227273  106.363636   \n",
       "PrecpHour      -8.422727  -20.410000  -20.535000  -21.339545   -9.546364   \n",
       "PrecpDay        0.454545  -13.136364  -13.596970  -13.666667   -8.972727   \n",
       "PrecpMax60      7.818182  -84.600000  -87.868182  -89.227273  -60.409091   \n",
       "Precp1DayMax    2.818182  -95.709091  -98.965152  -96.289394  -69.954545   \n",
       "RH              0.590909    0.963636    1.083333    3.389394    0.672727   \n",
       "EvapA          10.513636  -70.672727  -73.785909  -87.365000  -52.864545   \n",
       "SunShine      -22.000000   -1.068182   -1.746667   -1.993333   -6.690909   \n",
       "GloblRad      -55.399091 -284.835727 -297.537152 -351.320576 -203.846455   \n",
       "Cloud Amount    1.086364   -2.115455   -2.181364   -2.452273   -1.418182   \n",
       "\n",
       "              Temperature       T Max       T Min  Td dew point         WS  \\\n",
       "ObsTime          5.463636    2.036364    9.027273      5.631818   0.395455   \n",
       "StnPres        -18.147273  -10.937273  -26.320909    -17.429091  -0.025455   \n",
       "SeaPres        -18.959394  -11.430000  -27.508182    -18.193485  -0.028636   \n",
       "StnPresMax     -21.828788  -13.905455  -31.871818    -20.467424  -0.045000   \n",
       "StnPresMin     -13.535455   -8.600909  -20.214545    -13.088182   0.119091   \n",
       "Temperature     17.788788   11.000909   26.005455     16.739242   0.051364   \n",
       "T Max           11.000909    7.794545   16.595455     10.138182  -0.070909   \n",
       "T Min           26.005455   16.595455   38.915455     24.535000   0.022273   \n",
       "Td dew point    16.739242   10.138182   24.535000     16.073561   0.048409   \n",
       "WS               0.051364   -0.070909    0.022273      0.048409   0.040227   \n",
       "WD            -117.530303  -20.363636 -160.318182   -132.871212 -19.840909   \n",
       "WSGust           3.055152    0.413636    3.671818      3.201061   0.223182   \n",
       "WDGust          -2.227273   65.909091   23.590909    -36.613636  -9.704545   \n",
       "PrecpHour       10.262273   12.696364   15.415000     12.657955  -0.956591   \n",
       "PrecpDay        10.384848    6.472727   15.054545     10.907576  -0.295455   \n",
       "PrecpMax60      76.422727   35.827273   98.854545     71.734091   0.447727   \n",
       "Precp1DayMax    79.862121   39.109091  104.304545     78.412121   0.136364   \n",
       "RH              -2.571212   -2.554545   -3.750000     -0.946212  -0.025000   \n",
       "EvapA           68.497727   45.429091   99.104091     63.159318   0.622955   \n",
       "SunShine         9.741515    1.802727    8.558182      6.983788   0.698636   \n",
       "GloblRad       280.024576  179.015636  379.775545    252.227303  -0.665273   \n",
       "Cloud Amount     1.609545    1.083636    2.408636      1.610682   0.012500   \n",
       "\n",
       "              ...        WDGust   PrecpHour    PrecpDay   PrecpMax60  \\\n",
       "ObsTime       ...   -180.454545   -8.422727    0.454545     7.818182   \n",
       "StnPres       ...     96.000000  -20.410000  -13.136364   -84.600000   \n",
       "SeaPres       ...     96.045455  -20.535000  -13.596970   -87.868182   \n",
       "StnPresMax    ...     -2.227273  -21.339545  -13.666667   -89.227273   \n",
       "StnPresMin    ...    106.363636   -9.546364   -8.972727   -60.409091   \n",
       "Temperature   ...     -2.227273   10.262273   10.384848    76.422727   \n",
       "T Max         ...     65.909091   12.696364    6.472727    35.827273   \n",
       "T Min         ...     23.590909   15.415000   15.054545    98.854545   \n",
       "Td dew point  ...    -36.613636   12.657955   10.907576    71.734091   \n",
       "WS            ...     -9.704545   -0.956591   -0.295455     0.447727   \n",
       "WD            ...   9797.727273 -120.250000  -68.333333  -116.136364   \n",
       "WSGust        ...    -98.136364    0.229545    4.712121    20.540909   \n",
       "WDGust        ...  20184.090909  620.704545  130.454545  -248.409091   \n",
       "PrecpHour     ...    620.704545  407.387500   69.268182    73.315909   \n",
       "PrecpDay      ...    130.454545   69.268182   24.333333    45.636364   \n",
       "PrecpMax60    ...   -248.409091   73.315909   45.636364   777.295455   \n",
       "Precp1DayMax  ...   -404.090909  232.540909   75.878788   812.909091   \n",
       "RH            ...   -135.227273   18.043182    4.712121    -8.431818   \n",
       "EvapA         ...   -265.068182   14.959773   33.222727   200.811364   \n",
       "SunShine      ...   -690.590909 -394.847727  -62.224242    38.600000   \n",
       "GloblRad      ...   1843.963636  134.470091  183.418788  1413.827727   \n",
       "Cloud Amount  ...      6.613636   14.517500    3.540909     6.297727   \n",
       "\n",
       "              Precp1DayMax          RH        EvapA    SunShine     GloblRad  \\\n",
       "ObsTime           2.818182    0.590909    10.513636  -22.000000   -55.399091   \n",
       "StnPres         -95.709091    0.963636   -70.672727   -1.068182  -284.835727   \n",
       "SeaPres         -98.965152    1.083333   -73.785909   -1.746667  -297.537152   \n",
       "StnPresMax      -96.289394    3.389394   -87.365000   -1.993333  -351.320576   \n",
       "StnPresMin      -69.954545    0.672727   -52.864545   -6.690909  -203.846455   \n",
       "Temperature      79.862121   -2.571212    68.497727    9.741515   280.024576   \n",
       "T Max            39.109091   -2.554545    45.429091    1.802727   179.015636   \n",
       "T Min           104.304545   -3.750000    99.104091    8.558182   379.775545   \n",
       "Td dew point     78.412121   -0.946212    63.159318    6.983788   252.227303   \n",
       "WS                0.136364   -0.025000     0.622955    0.698636    -0.665273   \n",
       "WD             -369.242424  -73.257576  -838.477273  100.196970  -429.978788   \n",
       "WSGust           22.912121    1.119697    15.035909    3.353333    61.195848   \n",
       "WDGust         -404.090909 -135.227273  -265.068182 -690.590909  1843.963636   \n",
       "PrecpHour       232.540909   18.043182    14.959773 -394.847727   134.470091   \n",
       "PrecpDay         75.878788    4.712121    33.222727  -62.224242   183.418788   \n",
       "PrecpMax60      812.909091   -8.431818   200.811364   38.600000  1413.827727   \n",
       "Precp1DayMax    940.696970    8.439394   214.900000  -83.792424  1445.288788   \n",
       "RH                8.439394    7.356061   -16.061364  -13.698485   -78.816061   \n",
       "EvapA           214.900000  -16.061364   356.489318  135.816818  1341.634818   \n",
       "SunShine        -83.792424  -13.698485   135.816818  651.097879   690.104212   \n",
       "GloblRad       1445.288788  -78.816061  1341.634818  690.104212  6904.640097   \n",
       "Cloud Amount     11.881818    0.279545     5.604318  -19.754091    16.721273   \n",
       "\n",
       "              Cloud Amount  \n",
       "ObsTime           1.086364  \n",
       "StnPres          -2.115455  \n",
       "SeaPres          -2.181364  \n",
       "StnPresMax       -2.452273  \n",
       "StnPresMin       -1.418182  \n",
       "Temperature       1.609545  \n",
       "T Max             1.083636  \n",
       "T Min             2.408636  \n",
       "Td dew point      1.610682  \n",
       "WS                0.012500  \n",
       "WD              -39.977273  \n",
       "WSGust            0.538636  \n",
       "WDGust            6.613636  \n",
       "PrecpHour        14.517500  \n",
       "PrecpDay          3.540909  \n",
       "PrecpMax60        6.297727  \n",
       "Precp1DayMax     11.881818  \n",
       "RH                0.279545  \n",
       "EvapA             5.604318  \n",
       "SunShine        -19.754091  \n",
       "GloblRad         16.721273  \n",
       "Cloud Amount      0.978409  \n",
       "\n",
       "[22 rows x 22 columns]"
      ],
      "text/html": "<div>\n<style scoped>\n    .dataframe tbody tr th:only-of-type {\n        vertical-align: middle;\n    }\n\n    .dataframe tbody tr th {\n        vertical-align: top;\n    }\n\n    .dataframe thead th {\n        text-align: right;\n    }\n</style>\n<table border=\"1\" class=\"dataframe\">\n  <thead>\n    <tr style=\"text-align: right;\">\n      <th></th>\n      <th>ObsTime</th>\n      <th>StnPres</th>\n      <th>SeaPres</th>\n      <th>StnPresMax</th>\n      <th>StnPresMin</th>\n      <th>Temperature</th>\n      <th>T Max</th>\n      <th>T Min</th>\n      <th>Td dew point</th>\n      <th>WS</th>\n      <th>...</th>\n      <th>WDGust</th>\n      <th>PrecpHour</th>\n      <th>PrecpDay</th>\n      <th>PrecpMax60</th>\n      <th>Precp1DayMax</th>\n      <th>RH</th>\n      <th>EvapA</th>\n      <th>SunShine</th>\n      <th>GloblRad</th>\n      <th>Cloud Amount</th>\n    </tr>\n  </thead>\n  <tbody>\n    <tr>\n      <th>ObsTime</th>\n      <td>13.000000</td>\n      <td>-5.318182</td>\n      <td>-5.600000</td>\n      <td>-6.136364</td>\n      <td>-2.972727</td>\n      <td>5.463636</td>\n      <td>2.036364</td>\n      <td>9.027273</td>\n      <td>5.631818</td>\n      <td>0.395455</td>\n      <td>...</td>\n      <td>-180.454545</td>\n      <td>-8.422727</td>\n      <td>0.454545</td>\n      <td>7.818182</td>\n      <td>2.818182</td>\n      <td>0.590909</td>\n      <td>10.513636</td>\n      <td>-22.000000</td>\n      <td>-55.399091</td>\n      <td>1.086364</td>\n    </tr>\n    <tr>\n      <th>StnPres</th>\n      <td>-5.318182</td>\n      <td>19.754545</td>\n      <td>20.569091</td>\n      <td>22.480000</td>\n      <td>15.030909</td>\n      <td>-18.147273</td>\n      <td>-10.937273</td>\n      <td>-26.320909</td>\n      <td>-17.429091</td>\n      <td>-0.025455</td>\n      <td>...</td>\n      <td>96.000000</td>\n      <td>-20.410000</td>\n      <td>-13.136364</td>\n      <td>-84.600000</td>\n      <td>-95.709091</td>\n      <td>0.963636</td>\n      <td>-70.672727</td>\n      <td>-1.068182</td>\n      <td>-284.835727</td>\n      <td>-2.115455</td>\n    </tr>\n    <tr>\n      <th>SeaPres</th>\n      <td>-5.600000</td>\n      <td>20.569091</td>\n      <td>21.421515</td>\n      <td>23.467576</td>\n      <td>15.633636</td>\n      <td>-18.959394</td>\n      <td>-11.430000</td>\n      <td>-27.508182</td>\n      <td>-18.193485</td>\n      <td>-0.028636</td>\n      <td>...</td>\n      <td>96.045455</td>\n      <td>-20.535000</td>\n      <td>-13.596970</td>\n      <td>-87.868182</td>\n      <td>-98.965152</td>\n      <td>1.083333</td>\n      <td>-73.785909</td>\n      <td>-1.746667</td>\n      <td>-297.537152</td>\n      <td>-2.181364</td>\n    </tr>\n    <tr>\n      <th>StnPresMax</th>\n      <td>-6.136364</td>\n      <td>22.480000</td>\n      <td>23.467576</td>\n      <td>27.570606</td>\n      <td>16.680909</td>\n      <td>-21.828788</td>\n      <td>-13.905455</td>\n      <td>-31.871818</td>\n      <td>-20.467424</td>\n      <td>-0.045000</td>\n      <td>...</td>\n      <td>-2.227273</td>\n      <td>-21.339545</td>\n      <td>-13.666667</td>\n      <td>-89.227273</td>\n      <td>-96.289394</td>\n      <td>3.389394</td>\n      <td>-87.365000</td>\n      <td>-1.993333</td>\n      <td>-351.320576</td>\n      <td>-2.452273</td>\n    </tr>\n    <tr>\n      <th>StnPresMin</th>\n      <td>-2.972727</td>\n      <td>15.030909</td>\n      <td>15.633636</td>\n      <td>16.680909</td>\n      <td>13.307273</td>\n      <td>-13.535455</td>\n      <td>-8.600909</td>\n      <td>-20.214545</td>\n      <td>-13.088182</td>\n      <td>0.119091</td>\n      <td>...</td>\n      <td>106.363636</td>\n      <td>-9.546364</td>\n      <td>-8.972727</td>\n      <td>-60.409091</td>\n      <td>-69.954545</td>\n      <td>0.672727</td>\n      <td>-52.864545</td>\n      <td>-6.690909</td>\n      <td>-203.846455</td>\n      <td>-1.418182</td>\n    </tr>\n    <tr>\n      <th>Temperature</th>\n      <td>5.463636</td>\n      <td>-18.147273</td>\n      <td>-18.959394</td>\n      <td>-21.828788</td>\n      <td>-13.535455</td>\n      <td>17.788788</td>\n      <td>11.000909</td>\n      <td>26.005455</td>\n      <td>16.739242</td>\n      <td>0.051364</td>\n      <td>...</td>\n      <td>-2.227273</td>\n      <td>10.262273</td>\n      <td>10.384848</td>\n      <td>76.422727</td>\n      <td>79.862121</td>\n      <td>-2.571212</td>\n      <td>68.497727</td>\n      <td>9.741515</td>\n      <td>280.024576</td>\n      <td>1.609545</td>\n    </tr>\n    <tr>\n      <th>T Max</th>\n      <td>2.036364</td>\n      <td>-10.937273</td>\n      <td>-11.430000</td>\n      <td>-13.905455</td>\n      <td>-8.600909</td>\n      <td>11.000909</td>\n      <td>7.794545</td>\n      <td>16.595455</td>\n      <td>10.138182</td>\n      <td>-0.070909</td>\n      <td>...</td>\n      <td>65.909091</td>\n      <td>12.696364</td>\n      <td>6.472727</td>\n      <td>35.827273</td>\n      <td>39.109091</td>\n      <td>-2.554545</td>\n      <td>45.429091</td>\n      <td>1.802727</td>\n      <td>179.015636</td>\n      <td>1.083636</td>\n    </tr>\n    <tr>\n      <th>T Min</th>\n      <td>9.027273</td>\n      <td>-26.320909</td>\n      <td>-27.508182</td>\n      <td>-31.871818</td>\n      <td>-20.214545</td>\n      <td>26.005455</td>\n      <td>16.595455</td>\n      <td>38.915455</td>\n      <td>24.535000</td>\n      <td>0.022273</td>\n      <td>...</td>\n      <td>23.590909</td>\n      <td>15.415000</td>\n      <td>15.054545</td>\n      <td>98.854545</td>\n      <td>104.304545</td>\n      <td>-3.750000</td>\n      <td>99.104091</td>\n      <td>8.558182</td>\n      <td>379.775545</td>\n      <td>2.408636</td>\n    </tr>\n    <tr>\n      <th>Td dew point</th>\n      <td>5.631818</td>\n      <td>-17.429091</td>\n      <td>-18.193485</td>\n      <td>-20.467424</td>\n      <td>-13.088182</td>\n      <td>16.739242</td>\n      <td>10.138182</td>\n      <td>24.535000</td>\n      <td>16.073561</td>\n      <td>0.048409</td>\n      <td>...</td>\n      <td>-36.613636</td>\n      <td>12.657955</td>\n      <td>10.907576</td>\n      <td>71.734091</td>\n      <td>78.412121</td>\n      <td>-0.946212</td>\n      <td>63.159318</td>\n      <td>6.983788</td>\n      <td>252.227303</td>\n      <td>1.610682</td>\n    </tr>\n    <tr>\n      <th>WS</th>\n      <td>0.395455</td>\n      <td>-0.025455</td>\n      <td>-0.028636</td>\n      <td>-0.045000</td>\n      <td>0.119091</td>\n      <td>0.051364</td>\n      <td>-0.070909</td>\n      <td>0.022273</td>\n      <td>0.048409</td>\n      <td>0.040227</td>\n      <td>...</td>\n      <td>-9.704545</td>\n      <td>-0.956591</td>\n      <td>-0.295455</td>\n      <td>0.447727</td>\n      <td>0.136364</td>\n      <td>-0.025000</td>\n      <td>0.622955</td>\n      <td>0.698636</td>\n      <td>-0.665273</td>\n      <td>0.012500</td>\n    </tr>\n    <tr>\n      <th>WD</th>\n      <td>-271.363636</td>\n      <td>162.636364</td>\n      <td>168.287879</td>\n      <td>130.257576</td>\n      <td>66.818182</td>\n      <td>-117.530303</td>\n      <td>-20.363636</td>\n      <td>-160.318182</td>\n      <td>-132.871212</td>\n      <td>-19.840909</td>\n      <td>...</td>\n      <td>9797.727273</td>\n      <td>-120.250000</td>\n      <td>-68.333333</td>\n      <td>-116.136364</td>\n      <td>-369.242424</td>\n      <td>-73.257576</td>\n      <td>-838.477273</td>\n      <td>100.196970</td>\n      <td>-429.978788</td>\n      <td>-39.977273</td>\n    </tr>\n    <tr>\n      <th>WSGust</th>\n      <td>2.800000</td>\n      <td>-4.101818</td>\n      <td>-4.254848</td>\n      <td>-3.111515</td>\n      <td>-1.534545</td>\n      <td>3.055152</td>\n      <td>0.413636</td>\n      <td>3.671818</td>\n      <td>3.201061</td>\n      <td>0.223182</td>\n      <td>...</td>\n      <td>-98.136364</td>\n      <td>0.229545</td>\n      <td>4.712121</td>\n      <td>20.540909</td>\n      <td>22.912121</td>\n      <td>1.119697</td>\n      <td>15.035909</td>\n      <td>3.353333</td>\n      <td>61.195848</td>\n      <td>0.538636</td>\n    </tr>\n    <tr>\n      <th>WDGust</th>\n      <td>-180.454545</td>\n      <td>96.000000</td>\n      <td>96.045455</td>\n      <td>-2.227273</td>\n      <td>106.363636</td>\n      <td>-2.227273</td>\n      <td>65.909091</td>\n      <td>23.590909</td>\n      <td>-36.613636</td>\n      <td>-9.704545</td>\n      <td>...</td>\n      <td>20184.090909</td>\n      <td>620.704545</td>\n      <td>130.454545</td>\n      <td>-248.409091</td>\n      <td>-404.090909</td>\n      <td>-135.227273</td>\n      <td>-265.068182</td>\n      <td>-690.590909</td>\n      <td>1843.963636</td>\n      <td>6.613636</td>\n    </tr>\n    <tr>\n      <th>PrecpHour</th>\n      <td>-8.422727</td>\n      <td>-20.410000</td>\n      <td>-20.535000</td>\n      <td>-21.339545</td>\n      <td>-9.546364</td>\n      <td>10.262273</td>\n      <td>12.696364</td>\n      <td>15.415000</td>\n      <td>12.657955</td>\n      <td>-0.956591</td>\n      <td>...</td>\n      <td>620.704545</td>\n      <td>407.387500</td>\n      <td>69.268182</td>\n      <td>73.315909</td>\n      <td>232.540909</td>\n      <td>18.043182</td>\n      <td>14.959773</td>\n      <td>-394.847727</td>\n      <td>134.470091</td>\n      <td>14.517500</td>\n    </tr>\n    <tr>\n      <th>PrecpDay</th>\n      <td>0.454545</td>\n      <td>-13.136364</td>\n      <td>-13.596970</td>\n      <td>-13.666667</td>\n      <td>-8.972727</td>\n      <td>10.384848</td>\n      <td>6.472727</td>\n      <td>15.054545</td>\n      <td>10.907576</td>\n      <td>-0.295455</td>\n      <td>...</td>\n      <td>130.454545</td>\n      <td>69.268182</td>\n      <td>24.333333</td>\n      <td>45.636364</td>\n      <td>75.878788</td>\n      <td>4.712121</td>\n      <td>33.222727</td>\n      <td>-62.224242</td>\n      <td>183.418788</td>\n      <td>3.540909</td>\n    </tr>\n    <tr>\n      <th>PrecpMax60</th>\n      <td>7.818182</td>\n      <td>-84.600000</td>\n      <td>-87.868182</td>\n      <td>-89.227273</td>\n      <td>-60.409091</td>\n      <td>76.422727</td>\n      <td>35.827273</td>\n      <td>98.854545</td>\n      <td>71.734091</td>\n      <td>0.447727</td>\n      <td>...</td>\n      <td>-248.409091</td>\n      <td>73.315909</td>\n      <td>45.636364</td>\n      <td>777.295455</td>\n      <td>812.909091</td>\n      <td>-8.431818</td>\n      <td>200.811364</td>\n      <td>38.600000</td>\n      <td>1413.827727</td>\n      <td>6.297727</td>\n    </tr>\n    <tr>\n      <th>Precp1DayMax</th>\n      <td>2.818182</td>\n      <td>-95.709091</td>\n      <td>-98.965152</td>\n      <td>-96.289394</td>\n      <td>-69.954545</td>\n      <td>79.862121</td>\n      <td>39.109091</td>\n      <td>104.304545</td>\n      <td>78.412121</td>\n      <td>0.136364</td>\n      <td>...</td>\n      <td>-404.090909</td>\n      <td>232.540909</td>\n      <td>75.878788</td>\n      <td>812.909091</td>\n      <td>940.696970</td>\n      <td>8.439394</td>\n      <td>214.900000</td>\n      <td>-83.792424</td>\n      <td>1445.288788</td>\n      <td>11.881818</td>\n    </tr>\n    <tr>\n      <th>RH</th>\n      <td>0.590909</td>\n      <td>0.963636</td>\n      <td>1.083333</td>\n      <td>3.389394</td>\n      <td>0.672727</td>\n      <td>-2.571212</td>\n      <td>-2.554545</td>\n      <td>-3.750000</td>\n      <td>-0.946212</td>\n      <td>-0.025000</td>\n      <td>...</td>\n      <td>-135.227273</td>\n      <td>18.043182</td>\n      <td>4.712121</td>\n      <td>-8.431818</td>\n      <td>8.439394</td>\n      <td>7.356061</td>\n      <td>-16.061364</td>\n      <td>-13.698485</td>\n      <td>-78.816061</td>\n      <td>0.279545</td>\n    </tr>\n    <tr>\n      <th>EvapA</th>\n      <td>10.513636</td>\n      <td>-70.672727</td>\n      <td>-73.785909</td>\n      <td>-87.365000</td>\n      <td>-52.864545</td>\n      <td>68.497727</td>\n      <td>45.429091</td>\n      <td>99.104091</td>\n      <td>63.159318</td>\n      <td>0.622955</td>\n      <td>...</td>\n      <td>-265.068182</td>\n      <td>14.959773</td>\n      <td>33.222727</td>\n      <td>200.811364</td>\n      <td>214.900000</td>\n      <td>-16.061364</td>\n      <td>356.489318</td>\n      <td>135.816818</td>\n      <td>1341.634818</td>\n      <td>5.604318</td>\n    </tr>\n    <tr>\n      <th>SunShine</th>\n      <td>-22.000000</td>\n      <td>-1.068182</td>\n      <td>-1.746667</td>\n      <td>-1.993333</td>\n      <td>-6.690909</td>\n      <td>9.741515</td>\n      <td>1.802727</td>\n      <td>8.558182</td>\n      <td>6.983788</td>\n      <td>0.698636</td>\n      <td>...</td>\n      <td>-690.590909</td>\n      <td>-394.847727</td>\n      <td>-62.224242</td>\n      <td>38.600000</td>\n      <td>-83.792424</td>\n      <td>-13.698485</td>\n      <td>135.816818</td>\n      <td>651.097879</td>\n      <td>690.104212</td>\n      <td>-19.754091</td>\n    </tr>\n    <tr>\n      <th>GloblRad</th>\n      <td>-55.399091</td>\n      <td>-284.835727</td>\n      <td>-297.537152</td>\n      <td>-351.320576</td>\n      <td>-203.846455</td>\n      <td>280.024576</td>\n      <td>179.015636</td>\n      <td>379.775545</td>\n      <td>252.227303</td>\n      <td>-0.665273</td>\n      <td>...</td>\n      <td>1843.963636</td>\n      <td>134.470091</td>\n      <td>183.418788</td>\n      <td>1413.827727</td>\n      <td>1445.288788</td>\n      <td>-78.816061</td>\n      <td>1341.634818</td>\n      <td>690.104212</td>\n      <td>6904.640097</td>\n      <td>16.721273</td>\n    </tr>\n    <tr>\n      <th>Cloud Amount</th>\n      <td>1.086364</td>\n      <td>-2.115455</td>\n      <td>-2.181364</td>\n      <td>-2.452273</td>\n      <td>-1.418182</td>\n      <td>1.609545</td>\n      <td>1.083636</td>\n      <td>2.408636</td>\n      <td>1.610682</td>\n      <td>0.012500</td>\n      <td>...</td>\n      <td>6.613636</td>\n      <td>14.517500</td>\n      <td>3.540909</td>\n      <td>6.297727</td>\n      <td>11.881818</td>\n      <td>0.279545</td>\n      <td>5.604318</td>\n      <td>-19.754091</td>\n      <td>16.721273</td>\n      <td>0.978409</td>\n    </tr>\n  </tbody>\n</table>\n<p>22 rows × 22 columns</p>\n</div>"
     },
     "metadata": {},
     "execution_count": 11
    }
   ],
   "source": [
    "df.cov() #成对协方差 用於衡量兩個變數的總體誤差"
   ]
  },
  {
   "cell_type": "code",
   "execution_count": 12,
   "metadata": {},
   "outputs": [
    {
     "output_type": "execute_result",
     "data": {
      "text/plain": [
       "               ObsTime   StnPres   SeaPres  StnPresMax  StnPresMin  \\\n",
       "ObsTime       1.000000 -0.331862 -0.335576   -0.324128   -0.226016   \n",
       "StnPres      -0.331862  1.000000  0.999900    0.963251    0.927059   \n",
       "SeaPres      -0.335576  0.999900  1.000000    0.965651    0.925956   \n",
       "StnPresMax   -0.324128  0.963251  0.965651    1.000000    0.870867   \n",
       "StnPresMin   -0.226016  0.927059  0.925956    0.870867    1.000000   \n",
       "Temperature   0.359283 -0.968065 -0.971239   -0.985674   -0.879742   \n",
       "T Max         0.202296 -0.881414 -0.884557   -0.948564   -0.844509   \n",
       "T Min         0.401351 -0.949306 -0.952743   -0.973022   -0.888297   \n",
       "Td dew point  0.389602 -0.978104 -0.980471   -0.972264   -0.894909   \n",
       "WS            0.546845 -0.028554 -0.030848   -0.042730    0.162770   \n",
       "WD           -0.589517  0.286616  0.284803    0.194310    0.143472   \n",
       "WSGust        0.328976 -0.390950 -0.389437   -0.251031   -0.178202   \n",
       "WDGust       -0.352283  0.152031  0.146065   -0.002986    0.205232   \n",
       "PrecpHour    -0.115738 -0.227513 -0.219819   -0.201353   -0.129655   \n",
       "PrecpDay      0.025557 -0.599157 -0.595547   -0.527641   -0.498631   \n",
       "PrecpMax60    0.077775 -0.682722 -0.680947   -0.609511   -0.593970   \n",
       "Precp1DayMax  0.025484 -0.702093 -0.697160   -0.597903   -0.625240   \n",
       "RH            0.060426  0.079939  0.086301    0.238000    0.067994   \n",
       "EvapA         0.154439 -0.842161 -0.844355   -0.881234   -0.767532   \n",
       "SunShine     -0.239127 -0.009419 -0.014790   -0.014878   -0.071882   \n",
       "GloblRad     -0.184910 -0.771242 -0.773652   -0.805211   -0.672494   \n",
       "Cloud Amount  0.304609 -0.481183 -0.476478   -0.472156   -0.393031   \n",
       "\n",
       "              Temperature     T Max     T Min  Td dew point        WS  ...  \\\n",
       "ObsTime          0.359283  0.202296  0.401351      0.389602  0.546845  ...   \n",
       "StnPres         -0.968065 -0.881414 -0.949306     -0.978104 -0.028554  ...   \n",
       "SeaPres         -0.971239 -0.884557 -0.952743     -0.980471 -0.030848  ...   \n",
       "StnPresMax      -0.985674 -0.948564 -0.973022     -0.972264 -0.042730  ...   \n",
       "StnPresMin      -0.879742 -0.844509 -0.888297     -0.894909  0.162770  ...   \n",
       "Temperature      1.000000  0.934243  0.988394      0.989935  0.060719  ...   \n",
       "T Max            0.934243  1.000000  0.952868      0.905751 -0.126633  ...   \n",
       "T Min            0.988394  0.952868  1.000000      0.981000  0.017801  ...   \n",
       "Td dew point     0.989935  0.905751  0.981000      1.000000  0.060202  ...   \n",
       "WS               0.060719 -0.126633  0.017801      0.060202  1.000000  ...   \n",
       "WD              -0.218269 -0.057132 -0.201297     -0.259592 -0.774850  ...   \n",
       "WSGust           0.306858  0.062763  0.249343      0.338233  0.471386  ...   \n",
       "WDGust          -0.003717  0.166167  0.026618     -0.064281 -0.340573  ...   \n",
       "PrecpHour        0.120550  0.225310  0.122427      0.156424 -0.236299  ...   \n",
       "PrecpDay         0.499144  0.469993  0.489222      0.551533 -0.298627  ...   \n",
       "PrecpMax60       0.649915  0.460283  0.568385      0.641766  0.080068  ...   \n",
       "Precp1DayMax     0.617366  0.456728  0.545152      0.637679  0.022167  ...   \n",
       "RH              -0.224772 -0.337362 -0.221640     -0.087018 -0.045958  ...   \n",
       "EvapA            0.860161  0.861818  0.841409      0.834369  0.164503  ...   \n",
       "SunShine         0.090517  0.025305  0.053765      0.068267  0.136511  ...   \n",
       "GloblRad         0.799010  0.771658  0.732648      0.757121 -0.039918  ...   \n",
       "Cloud Amount     0.385807  0.392399  0.390346      0.406157  0.063007  ...   \n",
       "\n",
       "                WDGust  PrecpHour  PrecpDay  PrecpMax60  Precp1DayMax  \\\n",
       "ObsTime      -0.352283  -0.115738  0.025557    0.077775      0.025484   \n",
       "StnPres       0.152031  -0.227513 -0.599157   -0.682722     -0.702093   \n",
       "SeaPres       0.146065  -0.219819 -0.595547   -0.680947     -0.697160   \n",
       "StnPresMax   -0.002986  -0.201353 -0.527641   -0.609511     -0.597903   \n",
       "StnPresMin    0.205232  -0.129655 -0.498631   -0.593970     -0.625240   \n",
       "Temperature  -0.003717   0.120550  0.499144    0.649915      0.617366   \n",
       "T Max         0.166167   0.225310  0.469993    0.460283      0.456728   \n",
       "T Min         0.026618   0.122427  0.489222    0.568385      0.545152   \n",
       "Td dew point -0.064281   0.156424  0.551533    0.641766      0.637679   \n",
       "WS           -0.340573  -0.236299 -0.298627    0.080068      0.022167   \n",
       "WD            0.540178  -0.046666 -0.108505   -0.032628     -0.094298   \n",
       "WSGust       -0.292620   0.004818  0.404663    0.312108      0.316460   \n",
       "WDGust        1.000000   0.216459  0.186146   -0.062715     -0.092736   \n",
       "PrecpHour     0.216459   1.000000  0.695711    0.130287      0.375639   \n",
       "PrecpDay      0.186146   0.695711  1.000000    0.331831      0.501527   \n",
       "PrecpMax60   -0.062715   0.130287  0.331831    1.000000      0.950657   \n",
       "Precp1DayMax -0.092736   0.375639  0.501527    0.950657      1.000000   \n",
       "RH           -0.350943   0.329600  0.352203   -0.111508      0.101453   \n",
       "EvapA        -0.098817   0.039255  0.356707    0.381480      0.371098   \n",
       "SunShine     -0.190499  -0.766660 -0.494351    0.054259     -0.107067   \n",
       "GloblRad      0.156199   0.080177  0.447479    0.610285      0.567099   \n",
       "Cloud Amount  0.047063   0.727156  0.725694    0.228366      0.391650   \n",
       "\n",
       "                    RH     EvapA  SunShine  GloblRad  Cloud Amount  \n",
       "ObsTime       0.060426  0.154439 -0.239127 -0.184910      0.304609  \n",
       "StnPres       0.079939 -0.842161 -0.009419 -0.771242     -0.481183  \n",
       "SeaPres       0.086301 -0.844355 -0.014790 -0.773652     -0.476478  \n",
       "StnPresMax    0.238000 -0.881234 -0.014878 -0.805211     -0.472156  \n",
       "StnPresMin    0.067994 -0.767532 -0.071882 -0.672494     -0.393031  \n",
       "Temperature  -0.224772  0.860161  0.090517  0.799010      0.385807  \n",
       "T Max        -0.337362  0.861818  0.025305  0.771658      0.392399  \n",
       "T Min        -0.221640  0.841409  0.053765  0.732648      0.390346  \n",
       "Td dew point -0.087018  0.834369  0.068267  0.757121      0.406157  \n",
       "WS           -0.045958  0.164503  0.136511 -0.039918      0.063007  \n",
       "WD           -0.211566 -0.347844  0.030757 -0.040532     -0.316570  \n",
       "WSGust        0.174886  0.337353  0.055671  0.311982      0.230682  \n",
       "WDGust       -0.350943 -0.098817 -0.190499  0.156199      0.047063  \n",
       "PrecpHour     0.329600  0.039255 -0.766660  0.080177      0.727156  \n",
       "PrecpDay      0.352203  0.356707 -0.494351  0.447479      0.725694  \n",
       "PrecpMax60   -0.111508  0.381480  0.054259  0.610285      0.228366  \n",
       "Precp1DayMax  0.101453  0.371098 -0.107067  0.567099      0.391650  \n",
       "RH            1.000000 -0.313644 -0.197937 -0.349721      0.104200  \n",
       "EvapA        -0.313644  1.000000  0.281908  0.855147      0.300082  \n",
       "SunShine     -0.197937  0.281908  1.000000  0.325478     -0.782661  \n",
       "GloblRad     -0.349721  0.855147  0.325478  1.000000      0.203441  \n",
       "Cloud Amount  0.104200  0.300082 -0.782661  0.203441      1.000000  \n",
       "\n",
       "[22 rows x 22 columns]"
      ],
      "text/html": "<div>\n<style scoped>\n    .dataframe tbody tr th:only-of-type {\n        vertical-align: middle;\n    }\n\n    .dataframe tbody tr th {\n        vertical-align: top;\n    }\n\n    .dataframe thead th {\n        text-align: right;\n    }\n</style>\n<table border=\"1\" class=\"dataframe\">\n  <thead>\n    <tr style=\"text-align: right;\">\n      <th></th>\n      <th>ObsTime</th>\n      <th>StnPres</th>\n      <th>SeaPres</th>\n      <th>StnPresMax</th>\n      <th>StnPresMin</th>\n      <th>Temperature</th>\n      <th>T Max</th>\n      <th>T Min</th>\n      <th>Td dew point</th>\n      <th>WS</th>\n      <th>...</th>\n      <th>WDGust</th>\n      <th>PrecpHour</th>\n      <th>PrecpDay</th>\n      <th>PrecpMax60</th>\n      <th>Precp1DayMax</th>\n      <th>RH</th>\n      <th>EvapA</th>\n      <th>SunShine</th>\n      <th>GloblRad</th>\n      <th>Cloud Amount</th>\n    </tr>\n  </thead>\n  <tbody>\n    <tr>\n      <th>ObsTime</th>\n      <td>1.000000</td>\n      <td>-0.331862</td>\n      <td>-0.335576</td>\n      <td>-0.324128</td>\n      <td>-0.226016</td>\n      <td>0.359283</td>\n      <td>0.202296</td>\n      <td>0.401351</td>\n      <td>0.389602</td>\n      <td>0.546845</td>\n      <td>...</td>\n      <td>-0.352283</td>\n      <td>-0.115738</td>\n      <td>0.025557</td>\n      <td>0.077775</td>\n      <td>0.025484</td>\n      <td>0.060426</td>\n      <td>0.154439</td>\n      <td>-0.239127</td>\n      <td>-0.184910</td>\n      <td>0.304609</td>\n    </tr>\n    <tr>\n      <th>StnPres</th>\n      <td>-0.331862</td>\n      <td>1.000000</td>\n      <td>0.999900</td>\n      <td>0.963251</td>\n      <td>0.927059</td>\n      <td>-0.968065</td>\n      <td>-0.881414</td>\n      <td>-0.949306</td>\n      <td>-0.978104</td>\n      <td>-0.028554</td>\n      <td>...</td>\n      <td>0.152031</td>\n      <td>-0.227513</td>\n      <td>-0.599157</td>\n      <td>-0.682722</td>\n      <td>-0.702093</td>\n      <td>0.079939</td>\n      <td>-0.842161</td>\n      <td>-0.009419</td>\n      <td>-0.771242</td>\n      <td>-0.481183</td>\n    </tr>\n    <tr>\n      <th>SeaPres</th>\n      <td>-0.335576</td>\n      <td>0.999900</td>\n      <td>1.000000</td>\n      <td>0.965651</td>\n      <td>0.925956</td>\n      <td>-0.971239</td>\n      <td>-0.884557</td>\n      <td>-0.952743</td>\n      <td>-0.980471</td>\n      <td>-0.030848</td>\n      <td>...</td>\n      <td>0.146065</td>\n      <td>-0.219819</td>\n      <td>-0.595547</td>\n      <td>-0.680947</td>\n      <td>-0.697160</td>\n      <td>0.086301</td>\n      <td>-0.844355</td>\n      <td>-0.014790</td>\n      <td>-0.773652</td>\n      <td>-0.476478</td>\n    </tr>\n    <tr>\n      <th>StnPresMax</th>\n      <td>-0.324128</td>\n      <td>0.963251</td>\n      <td>0.965651</td>\n      <td>1.000000</td>\n      <td>0.870867</td>\n      <td>-0.985674</td>\n      <td>-0.948564</td>\n      <td>-0.973022</td>\n      <td>-0.972264</td>\n      <td>-0.042730</td>\n      <td>...</td>\n      <td>-0.002986</td>\n      <td>-0.201353</td>\n      <td>-0.527641</td>\n      <td>-0.609511</td>\n      <td>-0.597903</td>\n      <td>0.238000</td>\n      <td>-0.881234</td>\n      <td>-0.014878</td>\n      <td>-0.805211</td>\n      <td>-0.472156</td>\n    </tr>\n    <tr>\n      <th>StnPresMin</th>\n      <td>-0.226016</td>\n      <td>0.927059</td>\n      <td>0.925956</td>\n      <td>0.870867</td>\n      <td>1.000000</td>\n      <td>-0.879742</td>\n      <td>-0.844509</td>\n      <td>-0.888297</td>\n      <td>-0.894909</td>\n      <td>0.162770</td>\n      <td>...</td>\n      <td>0.205232</td>\n      <td>-0.129655</td>\n      <td>-0.498631</td>\n      <td>-0.593970</td>\n      <td>-0.625240</td>\n      <td>0.067994</td>\n      <td>-0.767532</td>\n      <td>-0.071882</td>\n      <td>-0.672494</td>\n      <td>-0.393031</td>\n    </tr>\n    <tr>\n      <th>Temperature</th>\n      <td>0.359283</td>\n      <td>-0.968065</td>\n      <td>-0.971239</td>\n      <td>-0.985674</td>\n      <td>-0.879742</td>\n      <td>1.000000</td>\n      <td>0.934243</td>\n      <td>0.988394</td>\n      <td>0.989935</td>\n      <td>0.060719</td>\n      <td>...</td>\n      <td>-0.003717</td>\n      <td>0.120550</td>\n      <td>0.499144</td>\n      <td>0.649915</td>\n      <td>0.617366</td>\n      <td>-0.224772</td>\n      <td>0.860161</td>\n      <td>0.090517</td>\n      <td>0.799010</td>\n      <td>0.385807</td>\n    </tr>\n    <tr>\n      <th>T Max</th>\n      <td>0.202296</td>\n      <td>-0.881414</td>\n      <td>-0.884557</td>\n      <td>-0.948564</td>\n      <td>-0.844509</td>\n      <td>0.934243</td>\n      <td>1.000000</td>\n      <td>0.952868</td>\n      <td>0.905751</td>\n      <td>-0.126633</td>\n      <td>...</td>\n      <td>0.166167</td>\n      <td>0.225310</td>\n      <td>0.469993</td>\n      <td>0.460283</td>\n      <td>0.456728</td>\n      <td>-0.337362</td>\n      <td>0.861818</td>\n      <td>0.025305</td>\n      <td>0.771658</td>\n      <td>0.392399</td>\n    </tr>\n    <tr>\n      <th>T Min</th>\n      <td>0.401351</td>\n      <td>-0.949306</td>\n      <td>-0.952743</td>\n      <td>-0.973022</td>\n      <td>-0.888297</td>\n      <td>0.988394</td>\n      <td>0.952868</td>\n      <td>1.000000</td>\n      <td>0.981000</td>\n      <td>0.017801</td>\n      <td>...</td>\n      <td>0.026618</td>\n      <td>0.122427</td>\n      <td>0.489222</td>\n      <td>0.568385</td>\n      <td>0.545152</td>\n      <td>-0.221640</td>\n      <td>0.841409</td>\n      <td>0.053765</td>\n      <td>0.732648</td>\n      <td>0.390346</td>\n    </tr>\n    <tr>\n      <th>Td dew point</th>\n      <td>0.389602</td>\n      <td>-0.978104</td>\n      <td>-0.980471</td>\n      <td>-0.972264</td>\n      <td>-0.894909</td>\n      <td>0.989935</td>\n      <td>0.905751</td>\n      <td>0.981000</td>\n      <td>1.000000</td>\n      <td>0.060202</td>\n      <td>...</td>\n      <td>-0.064281</td>\n      <td>0.156424</td>\n      <td>0.551533</td>\n      <td>0.641766</td>\n      <td>0.637679</td>\n      <td>-0.087018</td>\n      <td>0.834369</td>\n      <td>0.068267</td>\n      <td>0.757121</td>\n      <td>0.406157</td>\n    </tr>\n    <tr>\n      <th>WS</th>\n      <td>0.546845</td>\n      <td>-0.028554</td>\n      <td>-0.030848</td>\n      <td>-0.042730</td>\n      <td>0.162770</td>\n      <td>0.060719</td>\n      <td>-0.126633</td>\n      <td>0.017801</td>\n      <td>0.060202</td>\n      <td>1.000000</td>\n      <td>...</td>\n      <td>-0.340573</td>\n      <td>-0.236299</td>\n      <td>-0.298627</td>\n      <td>0.080068</td>\n      <td>0.022167</td>\n      <td>-0.045958</td>\n      <td>0.164503</td>\n      <td>0.136511</td>\n      <td>-0.039918</td>\n      <td>0.063007</td>\n    </tr>\n    <tr>\n      <th>WD</th>\n      <td>-0.589517</td>\n      <td>0.286616</td>\n      <td>0.284803</td>\n      <td>0.194310</td>\n      <td>0.143472</td>\n      <td>-0.218269</td>\n      <td>-0.057132</td>\n      <td>-0.201297</td>\n      <td>-0.259592</td>\n      <td>-0.774850</td>\n      <td>...</td>\n      <td>0.540178</td>\n      <td>-0.046666</td>\n      <td>-0.108505</td>\n      <td>-0.032628</td>\n      <td>-0.094298</td>\n      <td>-0.211566</td>\n      <td>-0.347844</td>\n      <td>0.030757</td>\n      <td>-0.040532</td>\n      <td>-0.316570</td>\n    </tr>\n    <tr>\n      <th>WSGust</th>\n      <td>0.328976</td>\n      <td>-0.390950</td>\n      <td>-0.389437</td>\n      <td>-0.251031</td>\n      <td>-0.178202</td>\n      <td>0.306858</td>\n      <td>0.062763</td>\n      <td>0.249343</td>\n      <td>0.338233</td>\n      <td>0.471386</td>\n      <td>...</td>\n      <td>-0.292620</td>\n      <td>0.004818</td>\n      <td>0.404663</td>\n      <td>0.312108</td>\n      <td>0.316460</td>\n      <td>0.174886</td>\n      <td>0.337353</td>\n      <td>0.055671</td>\n      <td>0.311982</td>\n      <td>0.230682</td>\n    </tr>\n    <tr>\n      <th>WDGust</th>\n      <td>-0.352283</td>\n      <td>0.152031</td>\n      <td>0.146065</td>\n      <td>-0.002986</td>\n      <td>0.205232</td>\n      <td>-0.003717</td>\n      <td>0.166167</td>\n      <td>0.026618</td>\n      <td>-0.064281</td>\n      <td>-0.340573</td>\n      <td>...</td>\n      <td>1.000000</td>\n      <td>0.216459</td>\n      <td>0.186146</td>\n      <td>-0.062715</td>\n      <td>-0.092736</td>\n      <td>-0.350943</td>\n      <td>-0.098817</td>\n      <td>-0.190499</td>\n      <td>0.156199</td>\n      <td>0.047063</td>\n    </tr>\n    <tr>\n      <th>PrecpHour</th>\n      <td>-0.115738</td>\n      <td>-0.227513</td>\n      <td>-0.219819</td>\n      <td>-0.201353</td>\n      <td>-0.129655</td>\n      <td>0.120550</td>\n      <td>0.225310</td>\n      <td>0.122427</td>\n      <td>0.156424</td>\n      <td>-0.236299</td>\n      <td>...</td>\n      <td>0.216459</td>\n      <td>1.000000</td>\n      <td>0.695711</td>\n      <td>0.130287</td>\n      <td>0.375639</td>\n      <td>0.329600</td>\n      <td>0.039255</td>\n      <td>-0.766660</td>\n      <td>0.080177</td>\n      <td>0.727156</td>\n    </tr>\n    <tr>\n      <th>PrecpDay</th>\n      <td>0.025557</td>\n      <td>-0.599157</td>\n      <td>-0.595547</td>\n      <td>-0.527641</td>\n      <td>-0.498631</td>\n      <td>0.499144</td>\n      <td>0.469993</td>\n      <td>0.489222</td>\n      <td>0.551533</td>\n      <td>-0.298627</td>\n      <td>...</td>\n      <td>0.186146</td>\n      <td>0.695711</td>\n      <td>1.000000</td>\n      <td>0.331831</td>\n      <td>0.501527</td>\n      <td>0.352203</td>\n      <td>0.356707</td>\n      <td>-0.494351</td>\n      <td>0.447479</td>\n      <td>0.725694</td>\n    </tr>\n    <tr>\n      <th>PrecpMax60</th>\n      <td>0.077775</td>\n      <td>-0.682722</td>\n      <td>-0.680947</td>\n      <td>-0.609511</td>\n      <td>-0.593970</td>\n      <td>0.649915</td>\n      <td>0.460283</td>\n      <td>0.568385</td>\n      <td>0.641766</td>\n      <td>0.080068</td>\n      <td>...</td>\n      <td>-0.062715</td>\n      <td>0.130287</td>\n      <td>0.331831</td>\n      <td>1.000000</td>\n      <td>0.950657</td>\n      <td>-0.111508</td>\n      <td>0.381480</td>\n      <td>0.054259</td>\n      <td>0.610285</td>\n      <td>0.228366</td>\n    </tr>\n    <tr>\n      <th>Precp1DayMax</th>\n      <td>0.025484</td>\n      <td>-0.702093</td>\n      <td>-0.697160</td>\n      <td>-0.597903</td>\n      <td>-0.625240</td>\n      <td>0.617366</td>\n      <td>0.456728</td>\n      <td>0.545152</td>\n      <td>0.637679</td>\n      <td>0.022167</td>\n      <td>...</td>\n      <td>-0.092736</td>\n      <td>0.375639</td>\n      <td>0.501527</td>\n      <td>0.950657</td>\n      <td>1.000000</td>\n      <td>0.101453</td>\n      <td>0.371098</td>\n      <td>-0.107067</td>\n      <td>0.567099</td>\n      <td>0.391650</td>\n    </tr>\n    <tr>\n      <th>RH</th>\n      <td>0.060426</td>\n      <td>0.079939</td>\n      <td>0.086301</td>\n      <td>0.238000</td>\n      <td>0.067994</td>\n      <td>-0.224772</td>\n      <td>-0.337362</td>\n      <td>-0.221640</td>\n      <td>-0.087018</td>\n      <td>-0.045958</td>\n      <td>...</td>\n      <td>-0.350943</td>\n      <td>0.329600</td>\n      <td>0.352203</td>\n      <td>-0.111508</td>\n      <td>0.101453</td>\n      <td>1.000000</td>\n      <td>-0.313644</td>\n      <td>-0.197937</td>\n      <td>-0.349721</td>\n      <td>0.104200</td>\n    </tr>\n    <tr>\n      <th>EvapA</th>\n      <td>0.154439</td>\n      <td>-0.842161</td>\n      <td>-0.844355</td>\n      <td>-0.881234</td>\n      <td>-0.767532</td>\n      <td>0.860161</td>\n      <td>0.861818</td>\n      <td>0.841409</td>\n      <td>0.834369</td>\n      <td>0.164503</td>\n      <td>...</td>\n      <td>-0.098817</td>\n      <td>0.039255</td>\n      <td>0.356707</td>\n      <td>0.381480</td>\n      <td>0.371098</td>\n      <td>-0.313644</td>\n      <td>1.000000</td>\n      <td>0.281908</td>\n      <td>0.855147</td>\n      <td>0.300082</td>\n    </tr>\n    <tr>\n      <th>SunShine</th>\n      <td>-0.239127</td>\n      <td>-0.009419</td>\n      <td>-0.014790</td>\n      <td>-0.014878</td>\n      <td>-0.071882</td>\n      <td>0.090517</td>\n      <td>0.025305</td>\n      <td>0.053765</td>\n      <td>0.068267</td>\n      <td>0.136511</td>\n      <td>...</td>\n      <td>-0.190499</td>\n      <td>-0.766660</td>\n      <td>-0.494351</td>\n      <td>0.054259</td>\n      <td>-0.107067</td>\n      <td>-0.197937</td>\n      <td>0.281908</td>\n      <td>1.000000</td>\n      <td>0.325478</td>\n      <td>-0.782661</td>\n    </tr>\n    <tr>\n      <th>GloblRad</th>\n      <td>-0.184910</td>\n      <td>-0.771242</td>\n      <td>-0.773652</td>\n      <td>-0.805211</td>\n      <td>-0.672494</td>\n      <td>0.799010</td>\n      <td>0.771658</td>\n      <td>0.732648</td>\n      <td>0.757121</td>\n      <td>-0.039918</td>\n      <td>...</td>\n      <td>0.156199</td>\n      <td>0.080177</td>\n      <td>0.447479</td>\n      <td>0.610285</td>\n      <td>0.567099</td>\n      <td>-0.349721</td>\n      <td>0.855147</td>\n      <td>0.325478</td>\n      <td>1.000000</td>\n      <td>0.203441</td>\n    </tr>\n    <tr>\n      <th>Cloud Amount</th>\n      <td>0.304609</td>\n      <td>-0.481183</td>\n      <td>-0.476478</td>\n      <td>-0.472156</td>\n      <td>-0.393031</td>\n      <td>0.385807</td>\n      <td>0.392399</td>\n      <td>0.390346</td>\n      <td>0.406157</td>\n      <td>0.063007</td>\n      <td>...</td>\n      <td>0.047063</td>\n      <td>0.727156</td>\n      <td>0.725694</td>\n      <td>0.228366</td>\n      <td>0.391650</td>\n      <td>0.104200</td>\n      <td>0.300082</td>\n      <td>-0.782661</td>\n      <td>0.203441</td>\n      <td>1.000000</td>\n    </tr>\n  </tbody>\n</table>\n<p>22 rows × 22 columns</p>\n</div>"
     },
     "metadata": {},
     "execution_count": 12
    }
   ],
   "source": [
    "df.corr() #成对相关性"
   ]
  },
  {
   "cell_type": "code",
   "execution_count": 14,
   "metadata": {},
   "outputs": [
    {
     "output_type": "execute_result",
     "data": {
      "text/plain": [
       "3.8    1\n",
       "4.0    1\n",
       "6.7    1\n",
       "5.4    1\n",
       "5.9    1\n",
       "6.3    1\n",
       "5.5    1\n",
       "5.0    1\n",
       "4.9    1\n",
       "6.6    1\n",
       "6.4    2\n",
       "Name: Cloud Amount, dtype: int64"
      ]
     },
     "metadata": {},
     "execution_count": 14
    }
   ],
   "source": [
    "df['Cloud Amount'].value_counts(ascending=True) #統計該col 每一個值有多少個 降序 ascending=False"
   ]
  },
  {
   "cell_type": "code",
   "execution_count": 15,
   "metadata": {},
   "outputs": [
    {
     "output_type": "execute_result",
     "data": {
      "text/plain": [
       "(3.7960000000000003, 4.767]    2\n",
       "(4.767, 5.733]                 4\n",
       "(5.733, 6.7]                   6\n",
       "Name: Cloud Amount, dtype: int64"
      ]
     },
     "metadata": {},
     "execution_count": 15
    }
   ],
   "source": [
    "df['Cloud Amount'].value_counts(ascending=True,bins=3) # 最大-最小值 平均 3 組 做統計"
   ]
  },
  {
   "cell_type": "code",
   "execution_count": 16,
   "metadata": {},
   "outputs": [
    {
     "output_type": "execute_result",
     "data": {
      "text/plain": [
       "12"
      ]
     },
     "metadata": {},
     "execution_count": 16
    }
   ],
   "source": [
    "df['Cloud Amount'].count() #计算每列或每行的非NA单元格"
   ]
  },
  {
   "cell_type": "code",
   "execution_count": null,
   "metadata": {},
   "outputs": [],
   "source": []
  }
 ]
}