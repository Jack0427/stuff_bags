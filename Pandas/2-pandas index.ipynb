{
 "metadata": {
  "language_info": {
   "codemirror_mode": {
    "name": "ipython",
    "version": 3
   },
   "file_extension": ".py",
   "mimetype": "text/x-python",
   "name": "python",
   "nbconvert_exporter": "python",
   "pygments_lexer": "ipython3",
   "version": "3.8.5"
  },
  "orig_nbformat": 4,
  "kernelspec": {
   "name": "python3",
   "display_name": "Python 3.8.5 64-bit"
  },
  "interpreter": {
   "hash": "4eaf1be304415beee96765ae99c3f893cc8312c7f1196698e6029668e9aeb3e5"
  }
 },
 "nbformat": 4,
 "nbformat_minor": 2,
 "cells": [
  {
   "cell_type": "code",
   "execution_count": 1,
   "metadata": {},
   "outputs": [],
   "source": [
    "import pandas as pd"
   ]
  },
  {
   "cell_type": "code",
   "execution_count": 2,
   "metadata": {},
   "outputs": [
    {
     "output_type": "execute_result",
     "data": {
      "text/plain": [
       "   ObsTime  StnPres  SeaPres  StnPresMax   StnPresMaxTime  StnPresMin  \\\n",
       "0        1   1008.7   1018.9      1017.7   2020/1/1 09:33       999.6   \n",
       "1        2   1010.5   1020.6      1017.8  2020/2/21 09:02      1001.7   \n",
       "2        3   1005.3   1015.3      1011.6  2020/3/16 08:59       995.5   \n",
       "3        4   1005.7   1015.7      1010.9   2020/4/2 09:51      1000.6   \n",
       "4        5    999.4   1009.2      1005.0   2020/5/1 08:49       992.7   \n",
       "5        6    999.1   1008.8      1004.7  2020/6/15 00:04       994.8   \n",
       "6        7    998.7   1008.3      1003.0  2020/7/21 09:11       993.8   \n",
       "\n",
       "    StnPresMinTime  Temperature  T Max       T Max Time  ...  Precp1DayMax  \\\n",
       "0  2020/1/26 13:39         18.0   29.0  2020/1/23 12:58  ...          20.0   \n",
       "1  2020/2/15 14:34         19.0   30.2  2020/2/26 12:12  ...           2.5   \n",
       "2   2020/3/9 14:36         22.3   33.2  2020/3/26 13:47  ...          23.5   \n",
       "3  2020/4/19 16:45         22.2   32.8  2020/4/19 12:57  ...          20.0   \n",
       "4  2020/5/17 15:52         27.5   36.9  2020/5/10 12:16  ...          61.0   \n",
       "5  2020/6/12 16:17         29.1   35.1  2020/6/29 14:10  ...          99.0   \n",
       "6  2020/7/14 15:43         29.6   36.3  2020/7/31 13:00  ...          28.0   \n",
       "\n",
       "  Precp1DayMaxTime  RH  EvapA  SunShine  GloblRad  UVI Max Mean UVI Max  \\\n",
       "0  2020/1/26 00:00  76   89.0     225.1    418.05           ...     ...   \n",
       "1  2020/2/15 00:00  72   82.0     212.5    446.52           ...     ...   \n",
       "2  2020/3/10 00:00  70  105.6     178.0    480.35           ...     ...   \n",
       "3   2020/4/2 00:00  70  100.7     154.5    493.50           ...     ...   \n",
       "4  2020/5/22 00:00  75  121.2     167.2    522.51           ...     ...   \n",
       "5  2020/6/14 00:00  70  121.8     211.9    609.28           ...     ...   \n",
       "6   2020/7/2 00:00  74  137.2     215.1    614.72           ...     ...   \n",
       "\n",
       "  UVI Max Time  Cloud Amount  \n",
       "0          ...           3.8  \n",
       "1          ...           4.0  \n",
       "2          ...           6.4  \n",
       "3          ...           6.4  \n",
       "4          ...           6.7  \n",
       "5          ...           5.4  \n",
       "6          ...           5.9  \n",
       "\n",
       "[7 rows x 35 columns]"
      ],
      "text/html": "<div>\n<style scoped>\n    .dataframe tbody tr th:only-of-type {\n        vertical-align: middle;\n    }\n\n    .dataframe tbody tr th {\n        vertical-align: top;\n    }\n\n    .dataframe thead th {\n        text-align: right;\n    }\n</style>\n<table border=\"1\" class=\"dataframe\">\n  <thead>\n    <tr style=\"text-align: right;\">\n      <th></th>\n      <th>ObsTime</th>\n      <th>StnPres</th>\n      <th>SeaPres</th>\n      <th>StnPresMax</th>\n      <th>StnPresMaxTime</th>\n      <th>StnPresMin</th>\n      <th>StnPresMinTime</th>\n      <th>Temperature</th>\n      <th>T Max</th>\n      <th>T Max Time</th>\n      <th>...</th>\n      <th>Precp1DayMax</th>\n      <th>Precp1DayMaxTime</th>\n      <th>RH</th>\n      <th>EvapA</th>\n      <th>SunShine</th>\n      <th>GloblRad</th>\n      <th>UVI Max Mean</th>\n      <th>UVI Max</th>\n      <th>UVI Max Time</th>\n      <th>Cloud Amount</th>\n    </tr>\n  </thead>\n  <tbody>\n    <tr>\n      <th>0</th>\n      <td>1</td>\n      <td>1008.7</td>\n      <td>1018.9</td>\n      <td>1017.7</td>\n      <td>2020/1/1 09:33</td>\n      <td>999.6</td>\n      <td>2020/1/26 13:39</td>\n      <td>18.0</td>\n      <td>29.0</td>\n      <td>2020/1/23 12:58</td>\n      <td>...</td>\n      <td>20.0</td>\n      <td>2020/1/26 00:00</td>\n      <td>76</td>\n      <td>89.0</td>\n      <td>225.1</td>\n      <td>418.05</td>\n      <td>...</td>\n      <td>...</td>\n      <td>...</td>\n      <td>3.8</td>\n    </tr>\n    <tr>\n      <th>1</th>\n      <td>2</td>\n      <td>1010.5</td>\n      <td>1020.6</td>\n      <td>1017.8</td>\n      <td>2020/2/21 09:02</td>\n      <td>1001.7</td>\n      <td>2020/2/15 14:34</td>\n      <td>19.0</td>\n      <td>30.2</td>\n      <td>2020/2/26 12:12</td>\n      <td>...</td>\n      <td>2.5</td>\n      <td>2020/2/15 00:00</td>\n      <td>72</td>\n      <td>82.0</td>\n      <td>212.5</td>\n      <td>446.52</td>\n      <td>...</td>\n      <td>...</td>\n      <td>...</td>\n      <td>4.0</td>\n    </tr>\n    <tr>\n      <th>2</th>\n      <td>3</td>\n      <td>1005.3</td>\n      <td>1015.3</td>\n      <td>1011.6</td>\n      <td>2020/3/16 08:59</td>\n      <td>995.5</td>\n      <td>2020/3/9 14:36</td>\n      <td>22.3</td>\n      <td>33.2</td>\n      <td>2020/3/26 13:47</td>\n      <td>...</td>\n      <td>23.5</td>\n      <td>2020/3/10 00:00</td>\n      <td>70</td>\n      <td>105.6</td>\n      <td>178.0</td>\n      <td>480.35</td>\n      <td>...</td>\n      <td>...</td>\n      <td>...</td>\n      <td>6.4</td>\n    </tr>\n    <tr>\n      <th>3</th>\n      <td>4</td>\n      <td>1005.7</td>\n      <td>1015.7</td>\n      <td>1010.9</td>\n      <td>2020/4/2 09:51</td>\n      <td>1000.6</td>\n      <td>2020/4/19 16:45</td>\n      <td>22.2</td>\n      <td>32.8</td>\n      <td>2020/4/19 12:57</td>\n      <td>...</td>\n      <td>20.0</td>\n      <td>2020/4/2 00:00</td>\n      <td>70</td>\n      <td>100.7</td>\n      <td>154.5</td>\n      <td>493.50</td>\n      <td>...</td>\n      <td>...</td>\n      <td>...</td>\n      <td>6.4</td>\n    </tr>\n    <tr>\n      <th>4</th>\n      <td>5</td>\n      <td>999.4</td>\n      <td>1009.2</td>\n      <td>1005.0</td>\n      <td>2020/5/1 08:49</td>\n      <td>992.7</td>\n      <td>2020/5/17 15:52</td>\n      <td>27.5</td>\n      <td>36.9</td>\n      <td>2020/5/10 12:16</td>\n      <td>...</td>\n      <td>61.0</td>\n      <td>2020/5/22 00:00</td>\n      <td>75</td>\n      <td>121.2</td>\n      <td>167.2</td>\n      <td>522.51</td>\n      <td>...</td>\n      <td>...</td>\n      <td>...</td>\n      <td>6.7</td>\n    </tr>\n    <tr>\n      <th>5</th>\n      <td>6</td>\n      <td>999.1</td>\n      <td>1008.8</td>\n      <td>1004.7</td>\n      <td>2020/6/15 00:04</td>\n      <td>994.8</td>\n      <td>2020/6/12 16:17</td>\n      <td>29.1</td>\n      <td>35.1</td>\n      <td>2020/6/29 14:10</td>\n      <td>...</td>\n      <td>99.0</td>\n      <td>2020/6/14 00:00</td>\n      <td>70</td>\n      <td>121.8</td>\n      <td>211.9</td>\n      <td>609.28</td>\n      <td>...</td>\n      <td>...</td>\n      <td>...</td>\n      <td>5.4</td>\n    </tr>\n    <tr>\n      <th>6</th>\n      <td>7</td>\n      <td>998.7</td>\n      <td>1008.3</td>\n      <td>1003.0</td>\n      <td>2020/7/21 09:11</td>\n      <td>993.8</td>\n      <td>2020/7/14 15:43</td>\n      <td>29.6</td>\n      <td>36.3</td>\n      <td>2020/7/31 13:00</td>\n      <td>...</td>\n      <td>28.0</td>\n      <td>2020/7/2 00:00</td>\n      <td>74</td>\n      <td>137.2</td>\n      <td>215.1</td>\n      <td>614.72</td>\n      <td>...</td>\n      <td>...</td>\n      <td>...</td>\n      <td>5.9</td>\n    </tr>\n  </tbody>\n</table>\n<p>7 rows × 35 columns</p>\n</div>"
     },
     "metadata": {},
     "execution_count": 2
    }
   ],
   "source": [
    "df = pd.read_csv('./climate2020.csv')\n",
    "df.head(7)"
   ]
  },
  {
   "cell_type": "code",
   "execution_count": 5,
   "metadata": {},
   "outputs": [
    {
     "output_type": "execute_result",
     "data": {
      "text/plain": [
       "   ObsTime  SeaPres\n",
       "0        1   1018.9\n",
       "1        2   1020.6\n",
       "2        3   1015.3\n",
       "3        4   1015.7\n",
       "4        5   1009.2"
      ],
      "text/html": "<div>\n<style scoped>\n    .dataframe tbody tr th:only-of-type {\n        vertical-align: middle;\n    }\n\n    .dataframe tbody tr th {\n        vertical-align: top;\n    }\n\n    .dataframe thead th {\n        text-align: right;\n    }\n</style>\n<table border=\"1\" class=\"dataframe\">\n  <thead>\n    <tr style=\"text-align: right;\">\n      <th></th>\n      <th>ObsTime</th>\n      <th>SeaPres</th>\n    </tr>\n  </thead>\n  <tbody>\n    <tr>\n      <th>0</th>\n      <td>1</td>\n      <td>1018.9</td>\n    </tr>\n    <tr>\n      <th>1</th>\n      <td>2</td>\n      <td>1020.6</td>\n    </tr>\n    <tr>\n      <th>2</th>\n      <td>3</td>\n      <td>1015.3</td>\n    </tr>\n    <tr>\n      <th>3</th>\n      <td>4</td>\n      <td>1015.7</td>\n    </tr>\n    <tr>\n      <th>4</th>\n      <td>5</td>\n      <td>1009.2</td>\n    </tr>\n  </tbody>\n</table>\n</div>"
     },
     "metadata": {},
     "execution_count": 5
    }
   ],
   "source": [
    "df[['ObsTime','SeaPres']][:5]"
   ]
  },
  {
   "cell_type": "code",
   "execution_count": 9,
   "metadata": {},
   "outputs": [
    {
     "output_type": "execute_result",
     "data": {
      "text/plain": [
       "   StnPres  SeaPres  StnPresMax   StnPresMaxTime\n",
       "0   1008.7   1018.9      1017.7   2020/1/1 09:33\n",
       "1   1010.5   1020.6      1017.8  2020/2/21 09:02\n",
       "2   1005.3   1015.3      1011.6  2020/3/16 08:59"
      ],
      "text/html": "<div>\n<style scoped>\n    .dataframe tbody tr th:only-of-type {\n        vertical-align: middle;\n    }\n\n    .dataframe tbody tr th {\n        vertical-align: top;\n    }\n\n    .dataframe thead th {\n        text-align: right;\n    }\n</style>\n<table border=\"1\" class=\"dataframe\">\n  <thead>\n    <tr style=\"text-align: right;\">\n      <th></th>\n      <th>StnPres</th>\n      <th>SeaPres</th>\n      <th>StnPresMax</th>\n      <th>StnPresMaxTime</th>\n    </tr>\n  </thead>\n  <tbody>\n    <tr>\n      <th>0</th>\n      <td>1008.7</td>\n      <td>1018.9</td>\n      <td>1017.7</td>\n      <td>2020/1/1 09:33</td>\n    </tr>\n    <tr>\n      <th>1</th>\n      <td>1010.5</td>\n      <td>1020.6</td>\n      <td>1017.8</td>\n      <td>2020/2/21 09:02</td>\n    </tr>\n    <tr>\n      <th>2</th>\n      <td>1005.3</td>\n      <td>1015.3</td>\n      <td>1011.6</td>\n      <td>2020/3/16 08:59</td>\n    </tr>\n  </tbody>\n</table>\n</div>"
     },
     "metadata": {},
     "execution_count": 9
    }
   ],
   "source": [
    "#loc label locate\n",
    "#iloc position locate\n",
    "df.iloc[0] # first row\n",
    "df.iloc[0:3] # 0-2 row\n",
    "df.iloc[0:3,1:5] # 0-2 row and 1-4 col"
   ]
  },
  {
   "cell_type": "code",
   "execution_count": 10,
   "metadata": {},
   "outputs": [],
   "source": [
    "df = df.set_index('ObsTime')"
   ]
  },
  {
   "cell_type": "code",
   "execution_count": 13,
   "metadata": {},
   "outputs": [
    {
     "output_type": "execute_result",
     "data": {
      "text/plain": [
       "         StnPres  SeaPres  StnPresMax   StnPresMaxTime  StnPresMin  \\\n",
       "ObsTime                                                              \n",
       "1         1008.7   1018.9      1017.7   2020/1/1 09:33       999.6   \n",
       "2         1010.5   1020.6      1017.8  2020/2/21 09:02      1001.7   \n",
       "3         1005.3   1015.3      1011.6  2020/3/16 08:59       995.5   \n",
       "4         1005.7   1015.7      1010.9   2020/4/2 09:51      1000.6   \n",
       "5          999.4   1009.2      1005.0   2020/5/1 08:49       992.7   \n",
       "\n",
       "          StnPresMinTime  Temperature  T Max       T Max Time  T Min  ...  \\\n",
       "ObsTime                                                               ...   \n",
       "1        2020/1/26 13:39         18.0   29.0  2020/1/23 12:58    6.9  ...   \n",
       "2        2020/2/15 14:34         19.0   30.2  2020/2/26 12:12    8.4  ...   \n",
       "3         2020/3/9 14:36         22.3   33.2  2020/3/26 13:47   14.5  ...   \n",
       "4        2020/4/19 16:45         22.2   32.8  2020/4/19 12:57   12.8  ...   \n",
       "5        2020/5/17 15:52         27.5   36.9  2020/5/10 12:16   21.8  ...   \n",
       "\n",
       "        Precp1DayMax  Precp1DayMaxTime  RH  EvapA  SunShine  GloblRad  \\\n",
       "ObsTime                                                                 \n",
       "1               20.0   2020/1/26 00:00  76   89.0     225.1    418.05   \n",
       "2                2.5   2020/2/15 00:00  72   82.0     212.5    446.52   \n",
       "3               23.5   2020/3/10 00:00  70  105.6     178.0    480.35   \n",
       "4               20.0    2020/4/2 00:00  70  100.7     154.5    493.50   \n",
       "5               61.0   2020/5/22 00:00  75  121.2     167.2    522.51   \n",
       "\n",
       "        UVI Max Mean UVI Max  UVI Max Time  Cloud Amount  \n",
       "ObsTime                                                   \n",
       "1                ...     ...           ...           3.8  \n",
       "2                ...     ...           ...           4.0  \n",
       "3                ...     ...           ...           6.4  \n",
       "4                ...     ...           ...           6.4  \n",
       "5                ...     ...           ...           6.7  \n",
       "\n",
       "[5 rows x 34 columns]"
      ],
      "text/html": "<div>\n<style scoped>\n    .dataframe tbody tr th:only-of-type {\n        vertical-align: middle;\n    }\n\n    .dataframe tbody tr th {\n        vertical-align: top;\n    }\n\n    .dataframe thead th {\n        text-align: right;\n    }\n</style>\n<table border=\"1\" class=\"dataframe\">\n  <thead>\n    <tr style=\"text-align: right;\">\n      <th></th>\n      <th>StnPres</th>\n      <th>SeaPres</th>\n      <th>StnPresMax</th>\n      <th>StnPresMaxTime</th>\n      <th>StnPresMin</th>\n      <th>StnPresMinTime</th>\n      <th>Temperature</th>\n      <th>T Max</th>\n      <th>T Max Time</th>\n      <th>T Min</th>\n      <th>...</th>\n      <th>Precp1DayMax</th>\n      <th>Precp1DayMaxTime</th>\n      <th>RH</th>\n      <th>EvapA</th>\n      <th>SunShine</th>\n      <th>GloblRad</th>\n      <th>UVI Max Mean</th>\n      <th>UVI Max</th>\n      <th>UVI Max Time</th>\n      <th>Cloud Amount</th>\n    </tr>\n    <tr>\n      <th>ObsTime</th>\n      <th></th>\n      <th></th>\n      <th></th>\n      <th></th>\n      <th></th>\n      <th></th>\n      <th></th>\n      <th></th>\n      <th></th>\n      <th></th>\n      <th></th>\n      <th></th>\n      <th></th>\n      <th></th>\n      <th></th>\n      <th></th>\n      <th></th>\n      <th></th>\n      <th></th>\n      <th></th>\n      <th></th>\n    </tr>\n  </thead>\n  <tbody>\n    <tr>\n      <th>1</th>\n      <td>1008.7</td>\n      <td>1018.9</td>\n      <td>1017.7</td>\n      <td>2020/1/1 09:33</td>\n      <td>999.6</td>\n      <td>2020/1/26 13:39</td>\n      <td>18.0</td>\n      <td>29.0</td>\n      <td>2020/1/23 12:58</td>\n      <td>6.9</td>\n      <td>...</td>\n      <td>20.0</td>\n      <td>2020/1/26 00:00</td>\n      <td>76</td>\n      <td>89.0</td>\n      <td>225.1</td>\n      <td>418.05</td>\n      <td>...</td>\n      <td>...</td>\n      <td>...</td>\n      <td>3.8</td>\n    </tr>\n    <tr>\n      <th>2</th>\n      <td>1010.5</td>\n      <td>1020.6</td>\n      <td>1017.8</td>\n      <td>2020/2/21 09:02</td>\n      <td>1001.7</td>\n      <td>2020/2/15 14:34</td>\n      <td>19.0</td>\n      <td>30.2</td>\n      <td>2020/2/26 12:12</td>\n      <td>8.4</td>\n      <td>...</td>\n      <td>2.5</td>\n      <td>2020/2/15 00:00</td>\n      <td>72</td>\n      <td>82.0</td>\n      <td>212.5</td>\n      <td>446.52</td>\n      <td>...</td>\n      <td>...</td>\n      <td>...</td>\n      <td>4.0</td>\n    </tr>\n    <tr>\n      <th>3</th>\n      <td>1005.3</td>\n      <td>1015.3</td>\n      <td>1011.6</td>\n      <td>2020/3/16 08:59</td>\n      <td>995.5</td>\n      <td>2020/3/9 14:36</td>\n      <td>22.3</td>\n      <td>33.2</td>\n      <td>2020/3/26 13:47</td>\n      <td>14.5</td>\n      <td>...</td>\n      <td>23.5</td>\n      <td>2020/3/10 00:00</td>\n      <td>70</td>\n      <td>105.6</td>\n      <td>178.0</td>\n      <td>480.35</td>\n      <td>...</td>\n      <td>...</td>\n      <td>...</td>\n      <td>6.4</td>\n    </tr>\n    <tr>\n      <th>4</th>\n      <td>1005.7</td>\n      <td>1015.7</td>\n      <td>1010.9</td>\n      <td>2020/4/2 09:51</td>\n      <td>1000.6</td>\n      <td>2020/4/19 16:45</td>\n      <td>22.2</td>\n      <td>32.8</td>\n      <td>2020/4/19 12:57</td>\n      <td>12.8</td>\n      <td>...</td>\n      <td>20.0</td>\n      <td>2020/4/2 00:00</td>\n      <td>70</td>\n      <td>100.7</td>\n      <td>154.5</td>\n      <td>493.50</td>\n      <td>...</td>\n      <td>...</td>\n      <td>...</td>\n      <td>6.4</td>\n    </tr>\n    <tr>\n      <th>5</th>\n      <td>999.4</td>\n      <td>1009.2</td>\n      <td>1005.0</td>\n      <td>2020/5/1 08:49</td>\n      <td>992.7</td>\n      <td>2020/5/17 15:52</td>\n      <td>27.5</td>\n      <td>36.9</td>\n      <td>2020/5/10 12:16</td>\n      <td>21.8</td>\n      <td>...</td>\n      <td>61.0</td>\n      <td>2020/5/22 00:00</td>\n      <td>75</td>\n      <td>121.2</td>\n      <td>167.2</td>\n      <td>522.51</td>\n      <td>...</td>\n      <td>...</td>\n      <td>...</td>\n      <td>6.7</td>\n    </tr>\n  </tbody>\n</table>\n<p>5 rows × 34 columns</p>\n</div>"
     },
     "metadata": {},
     "execution_count": 13
    }
   ],
   "source": [
    "df[:5]"
   ]
  },
  {
   "cell_type": "code",
   "execution_count": 18,
   "metadata": {},
   "outputs": [
    {
     "output_type": "execute_result",
     "data": {
      "text/plain": [
       "StnPres                      1005.3\n",
       "SeaPres                      1015.3\n",
       "StnPresMax                   1011.6\n",
       "StnPresMaxTime      2020/3/16 08:59\n",
       "StnPresMin                    995.5\n",
       "StnPresMinTime       2020/3/9 14:36\n",
       "Temperature                    22.3\n",
       "T Max                          33.2\n",
       "T Max Time          2020/3/26 13:47\n",
       "T Min                          14.5\n",
       "T Min Time          2020/3/15 05:29\n",
       "Td dew point                   16.5\n",
       "WS                              1.3\n",
       "WD                              330\n",
       "WSGust                         11.4\n",
       "WDGust                          320\n",
       "WGustTime            2020/3/4 21:38\n",
       "Precp                            55\n",
       "PrecpHour                      26.5\n",
       "PrecpDay                          6\n",
       "PrecpMax10                      3.5\n",
       "PrecpMax10Time      2020/3/28 07:10\n",
       "PrecpMax60                     10.5\n",
       "PrecpMax60Time      2020/3/10 05:28\n",
       "Precp1DayMax                   23.5\n",
       "Precp1DayMaxTime    2020/3/10 00:00\n",
       "RH                               70\n",
       "EvapA                         105.6\n",
       "SunShine                      178.0\n",
       "GloblRad                     480.35\n",
       "UVI Max Mean                    ...\n",
       "UVI Max                         ...\n",
       "UVI Max Time                    ...\n",
       "Cloud Amount                    6.4\n",
       "Name: 3, dtype: object"
      ]
     },
     "metadata": {},
     "execution_count": 18
    }
   ],
   "source": [
    "df.loc[3]"
   ]
  },
  {
   "cell_type": "code",
   "execution_count": 19,
   "metadata": {},
   "outputs": [
    {
     "output_type": "execute_result",
     "data": {
      "text/plain": [
       "6.4"
      ]
     },
     "metadata": {},
     "execution_count": 19
    }
   ],
   "source": [
    "df.loc[3,'Cloud Amount']"
   ]
  },
  {
   "cell_type": "code",
   "execution_count": 21,
   "metadata": {},
   "outputs": [
    {
     "output_type": "execute_result",
     "data": {
      "text/plain": [
       "         T Max       T Max Time  T Min       T Min Time\n",
       "ObsTime                                                \n",
       "3         33.2  2020/3/26 13:47   14.5  2020/3/15 05:29\n",
       "4         32.8  2020/4/19 12:57   12.8  2020/4/13 06:04\n",
       "5         36.9  2020/5/10 12:16   21.8  2020/5/20 05:02\n",
       "6         35.1  2020/6/29 14:10   22.0  2020/6/10 03:22\n",
       "7         36.3  2020/7/31 13:00   24.0  2020/7/21 04:14"
      ],
      "text/html": "<div>\n<style scoped>\n    .dataframe tbody tr th:only-of-type {\n        vertical-align: middle;\n    }\n\n    .dataframe tbody tr th {\n        vertical-align: top;\n    }\n\n    .dataframe thead th {\n        text-align: right;\n    }\n</style>\n<table border=\"1\" class=\"dataframe\">\n  <thead>\n    <tr style=\"text-align: right;\">\n      <th></th>\n      <th>T Max</th>\n      <th>T Max Time</th>\n      <th>T Min</th>\n      <th>T Min Time</th>\n    </tr>\n    <tr>\n      <th>ObsTime</th>\n      <th></th>\n      <th></th>\n      <th></th>\n      <th></th>\n    </tr>\n  </thead>\n  <tbody>\n    <tr>\n      <th>3</th>\n      <td>33.2</td>\n      <td>2020/3/26 13:47</td>\n      <td>14.5</td>\n      <td>2020/3/15 05:29</td>\n    </tr>\n    <tr>\n      <th>4</th>\n      <td>32.8</td>\n      <td>2020/4/19 12:57</td>\n      <td>12.8</td>\n      <td>2020/4/13 06:04</td>\n    </tr>\n    <tr>\n      <th>5</th>\n      <td>36.9</td>\n      <td>2020/5/10 12:16</td>\n      <td>21.8</td>\n      <td>2020/5/20 05:02</td>\n    </tr>\n    <tr>\n      <th>6</th>\n      <td>35.1</td>\n      <td>2020/6/29 14:10</td>\n      <td>22.0</td>\n      <td>2020/6/10 03:22</td>\n    </tr>\n    <tr>\n      <th>7</th>\n      <td>36.3</td>\n      <td>2020/7/31 13:00</td>\n      <td>24.0</td>\n      <td>2020/7/21 04:14</td>\n    </tr>\n  </tbody>\n</table>\n</div>"
     },
     "metadata": {},
     "execution_count": 21
    }
   ],
   "source": [
    "df.loc[3:7,'T Max':'T Min Time']"
   ]
  },
  {
   "cell_type": "code",
   "execution_count": 22,
   "metadata": {},
   "outputs": [
    {
     "output_type": "execute_result",
     "data": {
      "text/plain": [
       "33.2"
      ]
     },
     "metadata": {},
     "execution_count": 22
    }
   ],
   "source": [
    "df.loc[3,'T Max']"
   ]
  },
  {
   "cell_type": "code",
   "execution_count": 23,
   "metadata": {},
   "outputs": [],
   "source": [
    "df.loc[3,'T Max'] = 400 # 直接賦值"
   ]
  },
  {
   "cell_type": "code",
   "execution_count": 24,
   "metadata": {},
   "outputs": [
    {
     "output_type": "execute_result",
     "data": {
      "text/plain": [
       "         T Max       T Max Time  T Min       T Min Time\n",
       "ObsTime                                                \n",
       "3        400.0  2020/3/26 13:47   14.5  2020/3/15 05:29\n",
       "4         32.8  2020/4/19 12:57   12.8  2020/4/13 06:04\n",
       "5         36.9  2020/5/10 12:16   21.8  2020/5/20 05:02\n",
       "6         35.1  2020/6/29 14:10   22.0  2020/6/10 03:22\n",
       "7         36.3  2020/7/31 13:00   24.0  2020/7/21 04:14"
      ],
      "text/html": "<div>\n<style scoped>\n    .dataframe tbody tr th:only-of-type {\n        vertical-align: middle;\n    }\n\n    .dataframe tbody tr th {\n        vertical-align: top;\n    }\n\n    .dataframe thead th {\n        text-align: right;\n    }\n</style>\n<table border=\"1\" class=\"dataframe\">\n  <thead>\n    <tr style=\"text-align: right;\">\n      <th></th>\n      <th>T Max</th>\n      <th>T Max Time</th>\n      <th>T Min</th>\n      <th>T Min Time</th>\n    </tr>\n    <tr>\n      <th>ObsTime</th>\n      <th></th>\n      <th></th>\n      <th></th>\n      <th></th>\n    </tr>\n  </thead>\n  <tbody>\n    <tr>\n      <th>3</th>\n      <td>400.0</td>\n      <td>2020/3/26 13:47</td>\n      <td>14.5</td>\n      <td>2020/3/15 05:29</td>\n    </tr>\n    <tr>\n      <th>4</th>\n      <td>32.8</td>\n      <td>2020/4/19 12:57</td>\n      <td>12.8</td>\n      <td>2020/4/13 06:04</td>\n    </tr>\n    <tr>\n      <th>5</th>\n      <td>36.9</td>\n      <td>2020/5/10 12:16</td>\n      <td>21.8</td>\n      <td>2020/5/20 05:02</td>\n    </tr>\n    <tr>\n      <th>6</th>\n      <td>35.1</td>\n      <td>2020/6/29 14:10</td>\n      <td>22.0</td>\n      <td>2020/6/10 03:22</td>\n    </tr>\n    <tr>\n      <th>7</th>\n      <td>36.3</td>\n      <td>2020/7/31 13:00</td>\n      <td>24.0</td>\n      <td>2020/7/21 04:14</td>\n    </tr>\n  </tbody>\n</table>\n</div>"
     },
     "metadata": {},
     "execution_count": 24
    }
   ],
   "source": [
    "df.loc[3:7,'T Max':'T Min Time']"
   ]
  },
  {
   "cell_type": "code",
   "execution_count": 25,
   "metadata": {},
   "outputs": [
    {
     "output_type": "execute_result",
     "data": {
      "text/plain": [
       "ObsTime\n",
       "1     False\n",
       "2     False\n",
       "3      True\n",
       "4     False\n",
       "5      True\n",
       "6     False\n",
       "7      True\n",
       "8     False\n",
       "9     False\n",
       "10    False\n",
       "11    False\n",
       "12    False\n",
       "Name: T Max, dtype: bool"
      ]
     },
     "metadata": {},
     "execution_count": 25
    }
   ],
   "source": [
    "df['T Max']>36"
   ]
  },
  {
   "cell_type": "code",
   "execution_count": 26,
   "metadata": {},
   "outputs": [
    {
     "output_type": "execute_result",
     "data": {
      "text/plain": [
       "         StnPres  SeaPres  StnPresMax   StnPresMaxTime  StnPresMin  \\\n",
       "ObsTime                                                              \n",
       "3         1005.3   1015.3      1011.6  2020/3/16 08:59       995.5   \n",
       "5          999.4   1009.2      1005.0   2020/5/1 08:49       992.7   \n",
       "7          998.7   1008.3      1003.0  2020/7/21 09:11       993.8   \n",
       "\n",
       "          StnPresMinTime  Temperature  T Max       T Max Time  T Min  ...  \\\n",
       "ObsTime                                                               ...   \n",
       "3         2020/3/9 14:36         22.3  400.0  2020/3/26 13:47   14.5  ...   \n",
       "5        2020/5/17 15:52         27.5   36.9  2020/5/10 12:16   21.8  ...   \n",
       "7        2020/7/14 15:43         29.6   36.3  2020/7/31 13:00   24.0  ...   \n",
       "\n",
       "        Precp1DayMax  Precp1DayMaxTime  RH  EvapA  SunShine  GloblRad  \\\n",
       "ObsTime                                                                 \n",
       "3               23.5   2020/3/10 00:00  70  105.6     178.0    480.35   \n",
       "5               61.0   2020/5/22 00:00  75  121.2     167.2    522.51   \n",
       "7               28.0    2020/7/2 00:00  74  137.2     215.1    614.72   \n",
       "\n",
       "        UVI Max Mean UVI Max  UVI Max Time  Cloud Amount  \n",
       "ObsTime                                                   \n",
       "3                ...     ...           ...           6.4  \n",
       "5                ...     ...           ...           6.7  \n",
       "7                ...     ...           ...           5.9  \n",
       "\n",
       "[3 rows x 34 columns]"
      ],
      "text/html": "<div>\n<style scoped>\n    .dataframe tbody tr th:only-of-type {\n        vertical-align: middle;\n    }\n\n    .dataframe tbody tr th {\n        vertical-align: top;\n    }\n\n    .dataframe thead th {\n        text-align: right;\n    }\n</style>\n<table border=\"1\" class=\"dataframe\">\n  <thead>\n    <tr style=\"text-align: right;\">\n      <th></th>\n      <th>StnPres</th>\n      <th>SeaPres</th>\n      <th>StnPresMax</th>\n      <th>StnPresMaxTime</th>\n      <th>StnPresMin</th>\n      <th>StnPresMinTime</th>\n      <th>Temperature</th>\n      <th>T Max</th>\n      <th>T Max Time</th>\n      <th>T Min</th>\n      <th>...</th>\n      <th>Precp1DayMax</th>\n      <th>Precp1DayMaxTime</th>\n      <th>RH</th>\n      <th>EvapA</th>\n      <th>SunShine</th>\n      <th>GloblRad</th>\n      <th>UVI Max Mean</th>\n      <th>UVI Max</th>\n      <th>UVI Max Time</th>\n      <th>Cloud Amount</th>\n    </tr>\n    <tr>\n      <th>ObsTime</th>\n      <th></th>\n      <th></th>\n      <th></th>\n      <th></th>\n      <th></th>\n      <th></th>\n      <th></th>\n      <th></th>\n      <th></th>\n      <th></th>\n      <th></th>\n      <th></th>\n      <th></th>\n      <th></th>\n      <th></th>\n      <th></th>\n      <th></th>\n      <th></th>\n      <th></th>\n      <th></th>\n      <th></th>\n    </tr>\n  </thead>\n  <tbody>\n    <tr>\n      <th>3</th>\n      <td>1005.3</td>\n      <td>1015.3</td>\n      <td>1011.6</td>\n      <td>2020/3/16 08:59</td>\n      <td>995.5</td>\n      <td>2020/3/9 14:36</td>\n      <td>22.3</td>\n      <td>400.0</td>\n      <td>2020/3/26 13:47</td>\n      <td>14.5</td>\n      <td>...</td>\n      <td>23.5</td>\n      <td>2020/3/10 00:00</td>\n      <td>70</td>\n      <td>105.6</td>\n      <td>178.0</td>\n      <td>480.35</td>\n      <td>...</td>\n      <td>...</td>\n      <td>...</td>\n      <td>6.4</td>\n    </tr>\n    <tr>\n      <th>5</th>\n      <td>999.4</td>\n      <td>1009.2</td>\n      <td>1005.0</td>\n      <td>2020/5/1 08:49</td>\n      <td>992.7</td>\n      <td>2020/5/17 15:52</td>\n      <td>27.5</td>\n      <td>36.9</td>\n      <td>2020/5/10 12:16</td>\n      <td>21.8</td>\n      <td>...</td>\n      <td>61.0</td>\n      <td>2020/5/22 00:00</td>\n      <td>75</td>\n      <td>121.2</td>\n      <td>167.2</td>\n      <td>522.51</td>\n      <td>...</td>\n      <td>...</td>\n      <td>...</td>\n      <td>6.7</td>\n    </tr>\n    <tr>\n      <th>7</th>\n      <td>998.7</td>\n      <td>1008.3</td>\n      <td>1003.0</td>\n      <td>2020/7/21 09:11</td>\n      <td>993.8</td>\n      <td>2020/7/14 15:43</td>\n      <td>29.6</td>\n      <td>36.3</td>\n      <td>2020/7/31 13:00</td>\n      <td>24.0</td>\n      <td>...</td>\n      <td>28.0</td>\n      <td>2020/7/2 00:00</td>\n      <td>74</td>\n      <td>137.2</td>\n      <td>215.1</td>\n      <td>614.72</td>\n      <td>...</td>\n      <td>...</td>\n      <td>...</td>\n      <td>5.9</td>\n    </tr>\n  </tbody>\n</table>\n<p>3 rows × 34 columns</p>\n</div>"
     },
     "metadata": {},
     "execution_count": 26
    }
   ],
   "source": [
    "df[df['T Max']>36]"
   ]
  },
  {
   "cell_type": "code",
   "execution_count": 28,
   "metadata": {},
   "outputs": [
    {
     "output_type": "execute_result",
     "data": {
      "text/plain": [
       "         StnPres  SeaPres  StnPresMax  StnPresMaxTime  StnPresMin  \\\n",
       "ObsTime                                                             \n",
       "5          999.4   1009.2      1005.0  2020/5/1 08:49       992.7   \n",
       "\n",
       "          StnPresMinTime  Temperature  T Max       T Max Time  T Min  ...  \\\n",
       "ObsTime                                                               ...   \n",
       "5        2020/5/17 15:52         27.5   36.9  2020/5/10 12:16   21.8  ...   \n",
       "\n",
       "        Precp1DayMax  Precp1DayMaxTime  RH  EvapA  SunShine  GloblRad  \\\n",
       "ObsTime                                                                 \n",
       "5               61.0   2020/5/22 00:00  75  121.2     167.2    522.51   \n",
       "\n",
       "        UVI Max Mean UVI Max  UVI Max Time  Cloud Amount  \n",
       "ObsTime                                                   \n",
       "5                ...     ...           ...           6.7  \n",
       "\n",
       "[1 rows x 34 columns]"
      ],
      "text/html": "<div>\n<style scoped>\n    .dataframe tbody tr th:only-of-type {\n        vertical-align: middle;\n    }\n\n    .dataframe tbody tr th {\n        vertical-align: top;\n    }\n\n    .dataframe thead th {\n        text-align: right;\n    }\n</style>\n<table border=\"1\" class=\"dataframe\">\n  <thead>\n    <tr style=\"text-align: right;\">\n      <th></th>\n      <th>StnPres</th>\n      <th>SeaPres</th>\n      <th>StnPresMax</th>\n      <th>StnPresMaxTime</th>\n      <th>StnPresMin</th>\n      <th>StnPresMinTime</th>\n      <th>Temperature</th>\n      <th>T Max</th>\n      <th>T Max Time</th>\n      <th>T Min</th>\n      <th>...</th>\n      <th>Precp1DayMax</th>\n      <th>Precp1DayMaxTime</th>\n      <th>RH</th>\n      <th>EvapA</th>\n      <th>SunShine</th>\n      <th>GloblRad</th>\n      <th>UVI Max Mean</th>\n      <th>UVI Max</th>\n      <th>UVI Max Time</th>\n      <th>Cloud Amount</th>\n    </tr>\n    <tr>\n      <th>ObsTime</th>\n      <th></th>\n      <th></th>\n      <th></th>\n      <th></th>\n      <th></th>\n      <th></th>\n      <th></th>\n      <th></th>\n      <th></th>\n      <th></th>\n      <th></th>\n      <th></th>\n      <th></th>\n      <th></th>\n      <th></th>\n      <th></th>\n      <th></th>\n      <th></th>\n      <th></th>\n      <th></th>\n      <th></th>\n    </tr>\n  </thead>\n  <tbody>\n    <tr>\n      <th>5</th>\n      <td>999.4</td>\n      <td>1009.2</td>\n      <td>1005.0</td>\n      <td>2020/5/1 08:49</td>\n      <td>992.7</td>\n      <td>2020/5/17 15:52</td>\n      <td>27.5</td>\n      <td>36.9</td>\n      <td>2020/5/10 12:16</td>\n      <td>21.8</td>\n      <td>...</td>\n      <td>61.0</td>\n      <td>2020/5/22 00:00</td>\n      <td>75</td>\n      <td>121.2</td>\n      <td>167.2</td>\n      <td>522.51</td>\n      <td>...</td>\n      <td>...</td>\n      <td>...</td>\n      <td>6.7</td>\n    </tr>\n  </tbody>\n</table>\n<p>1 rows × 34 columns</p>\n</div>"
     },
     "metadata": {},
     "execution_count": 28
    }
   ],
   "source": [
    "df[df['StnPresMaxTime'] == '2020/5/1 08:49']"
   ]
  },
  {
   "cell_type": "code",
   "execution_count": 31,
   "metadata": {},
   "outputs": [
    {
     "output_type": "execute_result",
     "data": {
      "text/plain": [
       "992.7"
      ]
     },
     "metadata": {},
     "execution_count": 31
    }
   ],
   "source": [
    "df.loc[df['StnPresMaxTime'] == '2020/5/1 08:49','StnPresMin'].mean() # 條件 df['StnPresMaxTime'] == '2020/5/1 08:49' 關注 StnPresMin"
   ]
  },
  {
   "cell_type": "code",
   "execution_count": 32,
   "metadata": {},
   "outputs": [
    {
     "output_type": "execute_result",
     "data": {
      "text/plain": [
       "3"
      ]
     },
     "metadata": {},
     "execution_count": 32
    }
   ],
   "source": [
    "(df['T Max']>36).sum() # count of t max > 36 "
   ]
  },
  {
   "cell_type": "code",
   "execution_count": null,
   "metadata": {},
   "outputs": [],
   "source": []
  }
 ]
}